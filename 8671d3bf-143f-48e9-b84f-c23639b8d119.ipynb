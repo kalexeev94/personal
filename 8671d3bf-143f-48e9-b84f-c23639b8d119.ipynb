{
 "cells": [
  {
   "cell_type": "markdown",
   "metadata": {},
   "source": [
    "# Анализ товарного ассортимента интернет-магазина товаров для дома и быта «Пока все ещё тут»"
   ]
  },
  {
   "cell_type": "markdown",
   "metadata": {},
   "source": [
    "# Описание проекта\n",
    "\n",
    "Интернет-магазин товаров для дома «Пока все ещё тут» в срочном порядке ищет аналитиков. Вы поможете нашему магазину стать лучше, а клиентам — обустроить дом своей мечты. **Наша задача — полноценный анализ товарного ассортимента**."
   ]
  },
  {
   "cell_type": "markdown",
   "metadata": {},
   "source": [
    "# Декомпозиция"
   ]
  },
  {
   "cell_type": "markdown",
   "metadata": {},
   "source": [
    "# Заказчик:\n",
    "\n",
    "Категорийный менеджер по развитию товарных позиций в интернет-магазине;"
   ]
  },
  {
   "cell_type": "markdown",
   "metadata": {},
   "source": [
    "# Цель:\n",
    "\n",
    "Разработать аналитические инструменты для принятия решений по дальнейшему развитию бизнеса и продаж;"
   ]
  },
  {
   "cell_type": "markdown",
   "metadata": {},
   "source": [
    "# Задачи:\n",
    "\n",
    "- Провести исследовательский анализ данных;\n",
    "- Повести полноценный анализ товарного ассортимента, сегментировать товарный ассортимент;\n",
    "- Сформулировать и проверить статистические гипотезы;\n",
    "- Визуализировать и подготовить дашборд;"
   ]
  },
  {
   "cell_type": "markdown",
   "metadata": {},
   "source": [
    "# Шаг 1. Изучение и подготовка данных\n",
    "\n",
    "- Изучить полученные данные;\n",
    "- Проверить данные на наличие пропусков и дубликатов;\n",
    "- Привести данные к нужным типам;"
   ]
  },
  {
   "cell_type": "markdown",
   "metadata": {},
   "source": [
    "# Шаг 2. Исследовательский анализ данных\n",
    "\n",
    "- Посмотреть на распределения, выявить аномалии, при их наличи;\n",
    "- Оценить динамику продаж по времени;\n",
    "- Проанализировать продуктовый ассортимент, выявить основные категории продуктов;"
   ]
  },
  {
   "cell_type": "markdown",
   "metadata": {},
   "source": [
    "# Шаг 3. Кластеризация товаров\n",
    "\n",
    "- Провести кластеризацию, обозначить кластеры продуктов и описать признаки;"
   ]
  },
  {
   "cell_type": "markdown",
   "metadata": {},
   "source": [
    "# Шаг 4. Анализ ключевых бизнес-метрик продуктового ассортимента\n",
    "\n",
    "- Выявить сезонность продаж;\n",
    "- Посчитать количество уникальных пользователей за период DAU, WAU, MAU и за сезон;\n",
    "- Посчитать количество заказов за сезон и в разбивке по кластерам;\n",
    "- Проанализировать динамику среднего чека во времени;\n",
    "- Проанализировать динамику среднего чека по кластерам;\n",
    "- Посчитать выручку за период и в разбивке по кластерам;"
   ]
  },
  {
   "cell_type": "markdown",
   "metadata": {},
   "source": [
    "# Шаг 5. Статистический анализ данных\n",
    "\n",
    "- Выявить взаоимосвязи между кластерами товаров;\n",
    "- Выяснить наиболее и наименее прибыльные кластеры товаров;\n",
    "- На основе сезонности популярности тех или иных сегментов товаров, спрогнозировать динамику будущих продаж;"
   ]
  },
  {
   "cell_type": "markdown",
   "metadata": {},
   "source": [
    "# Шаг 6. Подготовить дашборды\n",
    "\n",
    "- Выбрать один из наборов и создать дашборды:\n",
    "\n",
    "Набор №1\n",
    "\n",
    "1. Постройте диаграмму количества покупок по дням.\n",
    "2. Добавьте индикатор количества покупателей.\n",
    "3. Добавьте фильтр дашборда по дате совершения покупки.\n",
    "\n",
    "Набор №2\n",
    "\n",
    "1. Постройте диаграмму, отображающую сумму покупок по дням.\n",
    "2. Постройте гистограмму, отображающую распределение заказов по сумме.\n",
    "3. Добавьте фильтр дашборда по дате совершения покупки."
   ]
  },
  {
   "cell_type": "markdown",
   "metadata": {},
   "source": [
    "# Шаг 7. Подготовить презентацию\n",
    "\n",
    "- По итогам исследования подготовить презентацию. Для создания презентации использовать любой удобный инструмент, но отправить презентацию нужно обязательно в формате pdf, прикрепив ссылку на файл в основном проекте;"
   ]
  },
  {
   "cell_type": "markdown",
   "metadata": {},
   "source": [
    "# Описание данных:\n",
    "\n",
    "Датасет описывает транзакции интернет-магазина товаров для дома и быта «Пока все ещё тут».\n",
    "\n",
    "Колонки в  **ecommerce_dataset.csv**:\n",
    "\n",
    "- `date` — дата заказа;\n",
    "- `customer_id` — идентификатор покупателя;\n",
    "- `order_id` — идентификатор заказа;\n",
    "- `product` — наименование товара;\n",
    "- `quantity` — количество товара в заказе;\n",
    "- `price` — цена товара."
   ]
  },
  {
   "cell_type": "markdown",
   "metadata": {},
   "source": [
    "# Данные:\n",
    "\n",
    "[ecommerce_dataset.csv](https://disk.yandex.ru/d/kJwc3szk7vzv_g)"
   ]
  },
  {
   "cell_type": "markdown",
   "metadata": {},
   "source": [
    "# Анализ товарного ассортимента интернет-магазина товаров для дома и быта «Пока все ещё тут»"
   ]
  },
  {
   "cell_type": "markdown",
   "metadata": {},
   "source": [
    "# Шаг 1. Изучение и подготовка данных\n"
   ]
  },
  {
   "cell_type": "markdown",
   "metadata": {},
   "source": [
    "- Изучить полученные данные;\n",
    "- Проверить данные на наличие пропусков и дубликатов;\n",
    "- Привести данные к нужным типам;"
   ]
  },
  {
   "cell_type": "markdown",
   "metadata": {},
   "source": [
    "## Изучение данных"
   ]
  },
  {
   "cell_type": "code",
   "execution_count": 1,
   "metadata": {},
   "outputs": [],
   "source": [
    "import pandas as pd\n",
    "import numpy as np \n",
    "from numpy import median\n",
    "import seaborn as sns\n",
    "import matplotlib.pyplot as plt\n",
    "import datetime as dt\n",
    "import re\n",
    "from pymystem3 import Mystem\n",
    "from collections import Counter\n",
    "from sklearn.preprocessing import StandardScaler\n",
    "from sklearn.cluster import KMeans\n",
    "from scipy.cluster.hierarchy import dendrogram, linkage\n",
    "import scipy.stats as stats\n",
    "from scipy import stats as st\n",
    "import random\n",
    "# Ограничим появление предупреждений\n",
    "import warnings\n",
    "warnings.filterwarnings(\"ignore\")\n",
    "import base64"
   ]
  },
  {
   "cell_type": "code",
   "execution_count": 2,
   "metadata": {},
   "outputs": [],
   "source": [
    "# Загрузим датафрейм и сохраним его в переменной data\n",
    "\n",
    "data = pd.read_csv('/datasets/ecommerce_dataset.csv', sep=',')\n"
   ]
  },
  {
   "cell_type": "code",
   "execution_count": 3,
   "metadata": {},
   "outputs": [
    {
     "name": "stdout",
     "output_type": "stream",
     "text": [
      "<class 'pandas.core.frame.DataFrame'>\n",
      "RangeIndex: 6737 entries, 0 to 6736\n",
      "Data columns (total 6 columns):\n",
      " #   Column       Non-Null Count  Dtype  \n",
      "---  ------       --------------  -----  \n",
      " 0   date         6737 non-null   int64  \n",
      " 1   customer_id  6737 non-null   object \n",
      " 2   order_id     6737 non-null   int64  \n",
      " 3   product      6737 non-null   object \n",
      " 4   quantity     6737 non-null   int64  \n",
      " 5   price        6737 non-null   float64\n",
      "dtypes: float64(1), int64(3), object(2)\n",
      "memory usage: 315.9+ KB\n"
     ]
    }
   ],
   "source": [
    "# Посмотрим информацию о данных\n",
    "\n",
    "data.info()"
   ]
  },
  {
   "cell_type": "markdown",
   "metadata": {},
   "source": [
    "Здорово, что в данных нет пропусков - количество значений эквивалентно количеству строк.\n",
    "\n",
    "Данные представлены в формате таблицы. В нее входят 6737 строк, 6 столбцов. \n",
    "\n",
    "Столбец date (данные о датах) имеет тип int64. Нам не очень подходит такой тип для работы, поэтому потребуется его изменить.\n"
   ]
  },
  {
   "cell_type": "code",
   "execution_count": 4,
   "metadata": {},
   "outputs": [
    {
     "data": {
      "text/html": [
       "<div>\n",
       "<style scoped>\n",
       "    .dataframe tbody tr th:only-of-type {\n",
       "        vertical-align: middle;\n",
       "    }\n",
       "\n",
       "    .dataframe tbody tr th {\n",
       "        vertical-align: top;\n",
       "    }\n",
       "\n",
       "    .dataframe thead th {\n",
       "        text-align: right;\n",
       "    }\n",
       "</style>\n",
       "<table border=\"1\" class=\"dataframe\">\n",
       "  <thead>\n",
       "    <tr style=\"text-align: right;\">\n",
       "      <th></th>\n",
       "      <th>date</th>\n",
       "      <th>customer_id</th>\n",
       "      <th>order_id</th>\n",
       "      <th>product</th>\n",
       "      <th>quantity</th>\n",
       "      <th>price</th>\n",
       "    </tr>\n",
       "  </thead>\n",
       "  <tbody>\n",
       "    <tr>\n",
       "      <th>0</th>\n",
       "      <td>2018100100</td>\n",
       "      <td>ee47d746-6d2f-4d3c-9622-c31412542920</td>\n",
       "      <td>68477</td>\n",
       "      <td>Комнатное растение в горшке Алое Вера, d12, h30</td>\n",
       "      <td>1</td>\n",
       "      <td>142.0</td>\n",
       "    </tr>\n",
       "    <tr>\n",
       "      <th>1</th>\n",
       "      <td>2018100100</td>\n",
       "      <td>ee47d746-6d2f-4d3c-9622-c31412542920</td>\n",
       "      <td>68477</td>\n",
       "      <td>Комнатное растение в горшке Кофе Арабика, d12,...</td>\n",
       "      <td>1</td>\n",
       "      <td>194.0</td>\n",
       "    </tr>\n",
       "    <tr>\n",
       "      <th>2</th>\n",
       "      <td>2018100100</td>\n",
       "      <td>ee47d746-6d2f-4d3c-9622-c31412542920</td>\n",
       "      <td>68477</td>\n",
       "      <td>Радермахера d-12 см h-20 см</td>\n",
       "      <td>1</td>\n",
       "      <td>112.0</td>\n",
       "    </tr>\n",
       "    <tr>\n",
       "      <th>3</th>\n",
       "      <td>2018100100</td>\n",
       "      <td>ee47d746-6d2f-4d3c-9622-c31412542920</td>\n",
       "      <td>68477</td>\n",
       "      <td>Хризолидокарпус Лутесценс d-9 см</td>\n",
       "      <td>1</td>\n",
       "      <td>179.0</td>\n",
       "    </tr>\n",
       "    <tr>\n",
       "      <th>4</th>\n",
       "      <td>2018100100</td>\n",
       "      <td>ee47d746-6d2f-4d3c-9622-c31412542920</td>\n",
       "      <td>68477</td>\n",
       "      <td>Циперус Зумула d-12 см h-25 см</td>\n",
       "      <td>1</td>\n",
       "      <td>112.0</td>\n",
       "    </tr>\n",
       "  </tbody>\n",
       "</table>\n",
       "</div>"
      ],
      "text/plain": [
       "         date                           customer_id  order_id  \\\n",
       "0  2018100100  ee47d746-6d2f-4d3c-9622-c31412542920     68477   \n",
       "1  2018100100  ee47d746-6d2f-4d3c-9622-c31412542920     68477   \n",
       "2  2018100100  ee47d746-6d2f-4d3c-9622-c31412542920     68477   \n",
       "3  2018100100  ee47d746-6d2f-4d3c-9622-c31412542920     68477   \n",
       "4  2018100100  ee47d746-6d2f-4d3c-9622-c31412542920     68477   \n",
       "\n",
       "                                             product  quantity  price  \n",
       "0    Комнатное растение в горшке Алое Вера, d12, h30         1  142.0  \n",
       "1  Комнатное растение в горшке Кофе Арабика, d12,...         1  194.0  \n",
       "2                        Радермахера d-12 см h-20 см         1  112.0  \n",
       "3                   Хризолидокарпус Лутесценс d-9 см         1  179.0  \n",
       "4                     Циперус Зумула d-12 см h-25 см         1  112.0  "
      ]
     },
     "execution_count": 4,
     "metadata": {},
     "output_type": "execute_result"
    }
   ],
   "source": [
    "# Посмотрим на первые 5 строчек\n",
    "\n",
    "data.head(5)"
   ]
  },
  {
   "cell_type": "markdown",
   "metadata": {},
   "source": [
    "Сразу видно, нам необходимо преобразовать столбец с датами, прямо сейчас он находится в неудобном для дальнейшей работы виде"
   ]
  },
  {
   "cell_type": "code",
   "execution_count": 5,
   "metadata": {},
   "outputs": [
    {
     "data": {
      "text/html": [
       "<div>\n",
       "<style scoped>\n",
       "    .dataframe tbody tr th:only-of-type {\n",
       "        vertical-align: middle;\n",
       "    }\n",
       "\n",
       "    .dataframe tbody tr th {\n",
       "        vertical-align: top;\n",
       "    }\n",
       "\n",
       "    .dataframe thead th {\n",
       "        text-align: right;\n",
       "    }\n",
       "</style>\n",
       "<table border=\"1\" class=\"dataframe\">\n",
       "  <thead>\n",
       "    <tr style=\"text-align: right;\">\n",
       "      <th></th>\n",
       "      <th>date</th>\n",
       "      <th>order_id</th>\n",
       "      <th>quantity</th>\n",
       "      <th>price</th>\n",
       "    </tr>\n",
       "  </thead>\n",
       "  <tbody>\n",
       "    <tr>\n",
       "      <th>count</th>\n",
       "      <td>6.737000e+03</td>\n",
       "      <td>6737.000000</td>\n",
       "      <td>6737.000000</td>\n",
       "      <td>6737.000000</td>\n",
       "    </tr>\n",
       "    <tr>\n",
       "      <th>mean</th>\n",
       "      <td>2.018855e+09</td>\n",
       "      <td>43128.948345</td>\n",
       "      <td>2.501559</td>\n",
       "      <td>462.028499</td>\n",
       "    </tr>\n",
       "    <tr>\n",
       "      <th>std</th>\n",
       "      <td>3.855185e+05</td>\n",
       "      <td>27899.414662</td>\n",
       "      <td>15.266478</td>\n",
       "      <td>871.296064</td>\n",
       "    </tr>\n",
       "    <tr>\n",
       "      <th>min</th>\n",
       "      <td>2.018100e+09</td>\n",
       "      <td>12624.000000</td>\n",
       "      <td>1.000000</td>\n",
       "      <td>9.000000</td>\n",
       "    </tr>\n",
       "    <tr>\n",
       "      <th>25%</th>\n",
       "      <td>2.019020e+09</td>\n",
       "      <td>14827.000000</td>\n",
       "      <td>1.000000</td>\n",
       "      <td>101.000000</td>\n",
       "    </tr>\n",
       "    <tr>\n",
       "      <th>50%</th>\n",
       "      <td>2.019050e+09</td>\n",
       "      <td>68503.000000</td>\n",
       "      <td>1.000000</td>\n",
       "      <td>135.000000</td>\n",
       "    </tr>\n",
       "    <tr>\n",
       "      <th>75%</th>\n",
       "      <td>2.019061e+09</td>\n",
       "      <td>70504.000000</td>\n",
       "      <td>1.000000</td>\n",
       "      <td>398.000000</td>\n",
       "    </tr>\n",
       "    <tr>\n",
       "      <th>max</th>\n",
       "      <td>2.019103e+09</td>\n",
       "      <td>73164.000000</td>\n",
       "      <td>1000.000000</td>\n",
       "      <td>14917.000000</td>\n",
       "    </tr>\n",
       "  </tbody>\n",
       "</table>\n",
       "</div>"
      ],
      "text/plain": [
       "               date      order_id     quantity         price\n",
       "count  6.737000e+03   6737.000000  6737.000000   6737.000000\n",
       "mean   2.018855e+09  43128.948345     2.501559    462.028499\n",
       "std    3.855185e+05  27899.414662    15.266478    871.296064\n",
       "min    2.018100e+09  12624.000000     1.000000      9.000000\n",
       "25%    2.019020e+09  14827.000000     1.000000    101.000000\n",
       "50%    2.019050e+09  68503.000000     1.000000    135.000000\n",
       "75%    2.019061e+09  70504.000000     1.000000    398.000000\n",
       "max    2.019103e+09  73164.000000  1000.000000  14917.000000"
      ]
     },
     "execution_count": 5,
     "metadata": {},
     "output_type": "execute_result"
    }
   ],
   "source": [
    "# Посмотрим на статистику\n",
    "data.describe()"
   ]
  },
  {
   "cell_type": "markdown",
   "metadata": {},
   "source": [
    "В данных есть выбросы, вернемся к ним позже"
   ]
  },
  {
   "cell_type": "markdown",
   "metadata": {},
   "source": [
    "## Приведение данных к нужным типам"
   ]
  },
  {
   "cell_type": "code",
   "execution_count": 6,
   "metadata": {},
   "outputs": [],
   "source": [
    "# Приведем столбец с датами к нужному виду\n",
    "\n",
    "data['date'] = pd.to_datetime(data['date'], format='%Y%m%d%H')"
   ]
  },
  {
   "cell_type": "code",
   "execution_count": 7,
   "metadata": {},
   "outputs": [
    {
     "data": {
      "text/html": [
       "<div>\n",
       "<style scoped>\n",
       "    .dataframe tbody tr th:only-of-type {\n",
       "        vertical-align: middle;\n",
       "    }\n",
       "\n",
       "    .dataframe tbody tr th {\n",
       "        vertical-align: top;\n",
       "    }\n",
       "\n",
       "    .dataframe thead th {\n",
       "        text-align: right;\n",
       "    }\n",
       "</style>\n",
       "<table border=\"1\" class=\"dataframe\">\n",
       "  <thead>\n",
       "    <tr style=\"text-align: right;\">\n",
       "      <th></th>\n",
       "      <th>date</th>\n",
       "      <th>customer_id</th>\n",
       "      <th>order_id</th>\n",
       "      <th>product</th>\n",
       "      <th>quantity</th>\n",
       "      <th>price</th>\n",
       "    </tr>\n",
       "  </thead>\n",
       "  <tbody>\n",
       "    <tr>\n",
       "      <th>0</th>\n",
       "      <td>2018-10-01</td>\n",
       "      <td>ee47d746-6d2f-4d3c-9622-c31412542920</td>\n",
       "      <td>68477</td>\n",
       "      <td>Комнатное растение в горшке Алое Вера, d12, h30</td>\n",
       "      <td>1</td>\n",
       "      <td>142.0</td>\n",
       "    </tr>\n",
       "    <tr>\n",
       "      <th>1</th>\n",
       "      <td>2018-10-01</td>\n",
       "      <td>ee47d746-6d2f-4d3c-9622-c31412542920</td>\n",
       "      <td>68477</td>\n",
       "      <td>Комнатное растение в горшке Кофе Арабика, d12,...</td>\n",
       "      <td>1</td>\n",
       "      <td>194.0</td>\n",
       "    </tr>\n",
       "    <tr>\n",
       "      <th>2</th>\n",
       "      <td>2018-10-01</td>\n",
       "      <td>ee47d746-6d2f-4d3c-9622-c31412542920</td>\n",
       "      <td>68477</td>\n",
       "      <td>Радермахера d-12 см h-20 см</td>\n",
       "      <td>1</td>\n",
       "      <td>112.0</td>\n",
       "    </tr>\n",
       "    <tr>\n",
       "      <th>3</th>\n",
       "      <td>2018-10-01</td>\n",
       "      <td>ee47d746-6d2f-4d3c-9622-c31412542920</td>\n",
       "      <td>68477</td>\n",
       "      <td>Хризолидокарпус Лутесценс d-9 см</td>\n",
       "      <td>1</td>\n",
       "      <td>179.0</td>\n",
       "    </tr>\n",
       "    <tr>\n",
       "      <th>4</th>\n",
       "      <td>2018-10-01</td>\n",
       "      <td>ee47d746-6d2f-4d3c-9622-c31412542920</td>\n",
       "      <td>68477</td>\n",
       "      <td>Циперус Зумула d-12 см h-25 см</td>\n",
       "      <td>1</td>\n",
       "      <td>112.0</td>\n",
       "    </tr>\n",
       "  </tbody>\n",
       "</table>\n",
       "</div>"
      ],
      "text/plain": [
       "        date                           customer_id  order_id  \\\n",
       "0 2018-10-01  ee47d746-6d2f-4d3c-9622-c31412542920     68477   \n",
       "1 2018-10-01  ee47d746-6d2f-4d3c-9622-c31412542920     68477   \n",
       "2 2018-10-01  ee47d746-6d2f-4d3c-9622-c31412542920     68477   \n",
       "3 2018-10-01  ee47d746-6d2f-4d3c-9622-c31412542920     68477   \n",
       "4 2018-10-01  ee47d746-6d2f-4d3c-9622-c31412542920     68477   \n",
       "\n",
       "                                             product  quantity  price  \n",
       "0    Комнатное растение в горшке Алое Вера, d12, h30         1  142.0  \n",
       "1  Комнатное растение в горшке Кофе Арабика, d12,...         1  194.0  \n",
       "2                        Радермахера d-12 см h-20 см         1  112.0  \n",
       "3                   Хризолидокарпус Лутесценс d-9 см         1  179.0  \n",
       "4                     Циперус Зумула d-12 см h-25 см         1  112.0  "
      ]
     },
     "execution_count": 7,
     "metadata": {},
     "output_type": "execute_result"
    }
   ],
   "source": [
    "# Проверим\n",
    "\n",
    "data.head(5)"
   ]
  },
  {
   "cell_type": "markdown",
   "metadata": {},
   "source": [
    "Приведем значения в столбце product к нижнему регистру"
   ]
  },
  {
   "cell_type": "code",
   "execution_count": 8,
   "metadata": {},
   "outputs": [],
   "source": [
    "# Изменим регистр столбца продуктов\n",
    "\n",
    "data['product'] = data['product'].str.lower()"
   ]
  },
  {
   "cell_type": "code",
   "execution_count": 9,
   "metadata": {},
   "outputs": [
    {
     "data": {
      "text/html": [
       "<div>\n",
       "<style scoped>\n",
       "    .dataframe tbody tr th:only-of-type {\n",
       "        vertical-align: middle;\n",
       "    }\n",
       "\n",
       "    .dataframe tbody tr th {\n",
       "        vertical-align: top;\n",
       "    }\n",
       "\n",
       "    .dataframe thead th {\n",
       "        text-align: right;\n",
       "    }\n",
       "</style>\n",
       "<table border=\"1\" class=\"dataframe\">\n",
       "  <thead>\n",
       "    <tr style=\"text-align: right;\">\n",
       "      <th></th>\n",
       "      <th>date</th>\n",
       "      <th>customer_id</th>\n",
       "      <th>order_id</th>\n",
       "      <th>product</th>\n",
       "      <th>quantity</th>\n",
       "      <th>price</th>\n",
       "    </tr>\n",
       "  </thead>\n",
       "  <tbody>\n",
       "    <tr>\n",
       "      <th>0</th>\n",
       "      <td>2018-10-01</td>\n",
       "      <td>ee47d746-6d2f-4d3c-9622-c31412542920</td>\n",
       "      <td>68477</td>\n",
       "      <td>комнатное растение в горшке алое вера, d12, h30</td>\n",
       "      <td>1</td>\n",
       "      <td>142.0</td>\n",
       "    </tr>\n",
       "    <tr>\n",
       "      <th>1</th>\n",
       "      <td>2018-10-01</td>\n",
       "      <td>ee47d746-6d2f-4d3c-9622-c31412542920</td>\n",
       "      <td>68477</td>\n",
       "      <td>комнатное растение в горшке кофе арабика, d12,...</td>\n",
       "      <td>1</td>\n",
       "      <td>194.0</td>\n",
       "    </tr>\n",
       "    <tr>\n",
       "      <th>2</th>\n",
       "      <td>2018-10-01</td>\n",
       "      <td>ee47d746-6d2f-4d3c-9622-c31412542920</td>\n",
       "      <td>68477</td>\n",
       "      <td>радермахера d-12 см h-20 см</td>\n",
       "      <td>1</td>\n",
       "      <td>112.0</td>\n",
       "    </tr>\n",
       "    <tr>\n",
       "      <th>3</th>\n",
       "      <td>2018-10-01</td>\n",
       "      <td>ee47d746-6d2f-4d3c-9622-c31412542920</td>\n",
       "      <td>68477</td>\n",
       "      <td>хризолидокарпус лутесценс d-9 см</td>\n",
       "      <td>1</td>\n",
       "      <td>179.0</td>\n",
       "    </tr>\n",
       "    <tr>\n",
       "      <th>4</th>\n",
       "      <td>2018-10-01</td>\n",
       "      <td>ee47d746-6d2f-4d3c-9622-c31412542920</td>\n",
       "      <td>68477</td>\n",
       "      <td>циперус зумула d-12 см h-25 см</td>\n",
       "      <td>1</td>\n",
       "      <td>112.0</td>\n",
       "    </tr>\n",
       "  </tbody>\n",
       "</table>\n",
       "</div>"
      ],
      "text/plain": [
       "        date                           customer_id  order_id  \\\n",
       "0 2018-10-01  ee47d746-6d2f-4d3c-9622-c31412542920     68477   \n",
       "1 2018-10-01  ee47d746-6d2f-4d3c-9622-c31412542920     68477   \n",
       "2 2018-10-01  ee47d746-6d2f-4d3c-9622-c31412542920     68477   \n",
       "3 2018-10-01  ee47d746-6d2f-4d3c-9622-c31412542920     68477   \n",
       "4 2018-10-01  ee47d746-6d2f-4d3c-9622-c31412542920     68477   \n",
       "\n",
       "                                             product  quantity  price  \n",
       "0    комнатное растение в горшке алое вера, d12, h30         1  142.0  \n",
       "1  комнатное растение в горшке кофе арабика, d12,...         1  194.0  \n",
       "2                        радермахера d-12 см h-20 см         1  112.0  \n",
       "3                   хризолидокарпус лутесценс d-9 см         1  179.0  \n",
       "4                     циперус зумула d-12 см h-25 см         1  112.0  "
      ]
     },
     "execution_count": 9,
     "metadata": {},
     "output_type": "execute_result"
    }
   ],
   "source": [
    "# Проверим\n",
    "\n",
    "data.head(5)"
   ]
  },
  {
   "cell_type": "code",
   "execution_count": 10,
   "metadata": {},
   "outputs": [],
   "source": [
    "# Переведем тип заказа в строковый тип (потребуется далее)\n",
    "data['order_id'] = data['order_id'].astype('str')"
   ]
  },
  {
   "cell_type": "code",
   "execution_count": 11,
   "metadata": {},
   "outputs": [],
   "source": [
    "# Добавим также столбцы для следующего этапа работы\n",
    "\n",
    "data['day'] = data['date'].dt.weekday\n",
    "data['month'] = data['date'].dt.month\n",
    "data['year'] = data['date'].dt.year"
   ]
  },
  {
   "cell_type": "markdown",
   "metadata": {},
   "source": [
    "## Проверка на наличие дубликатов и пропусков"
   ]
  },
  {
   "cell_type": "code",
   "execution_count": 12,
   "metadata": {},
   "outputs": [
    {
     "data": {
      "text/plain": [
       "0"
      ]
     },
     "execution_count": 12,
     "metadata": {},
     "output_type": "execute_result"
    }
   ],
   "source": [
    "# Проверим на наличие дубликатов\n",
    "\n",
    "data.duplicated().sum()"
   ]
  },
  {
   "cell_type": "code",
   "execution_count": 13,
   "metadata": {},
   "outputs": [
    {
     "data": {
      "text/plain": [
       "date           0\n",
       "customer_id    0\n",
       "order_id       0\n",
       "product        0\n",
       "quantity       0\n",
       "price          0\n",
       "day            0\n",
       "month          0\n",
       "year           0\n",
       "dtype: int64"
      ]
     },
     "execution_count": 13,
     "metadata": {},
     "output_type": "execute_result"
    }
   ],
   "source": [
    "# Проверим на наличие пропусков\n",
    "\n",
    "data.isna().sum()"
   ]
  },
  {
   "cell_type": "code",
   "execution_count": 14,
   "metadata": {},
   "outputs": [
    {
     "data": {
      "image/png": "[encoded data removed]",
      "text/plain": [
       "<Figure size 1080x1440 with 6 Axes>"
      ]
     },
     "metadata": {
      "needs_background": "light"
     },
     "output_type": "display_data"
    }
   ],
   "source": [
    "#Посмотрим на гистограмме, как распределены показатели\n",
    "\n",
    "data.hist(figsize=(15, 20))\n",
    "plt.show()"
   ]
  },
  {
   "cell_type": "code",
   "execution_count": 15,
   "metadata": {},
   "outputs": [
    {
     "data": {
      "image/png": "[encoded data removed]",
      "text/plain": [
       "<Figure size 432x288 with 1 Axes>"
      ]
     },
     "metadata": {
      "needs_background": "light"
     },
     "output_type": "display_data"
    }
   ],
   "source": [
    "# Отдельно посмотрим на гистограмму дат\n",
    "data['date'].hist()\n",
    "plt.xticks(rotation = 45)\n",
    "plt.show()"
   ]
  },
  {
   "cell_type": "markdown",
   "metadata": {},
   "source": [
    "**Интересно, что с мая начинается рост продаж. Запомним это.**"
   ]
  },
  {
   "cell_type": "code",
   "execution_count": 16,
   "metadata": {},
   "outputs": [
    {
     "data": {
      "text/plain": [
       "2451"
      ]
     },
     "execution_count": 16,
     "metadata": {},
     "output_type": "execute_result"
    }
   ],
   "source": [
    "# Посмотрим количество уникальных клиентов\n",
    "\n",
    "len(data['customer_id'].unique())"
   ]
  },
  {
   "cell_type": "code",
   "execution_count": 17,
   "metadata": {},
   "outputs": [
    {
     "data": {
      "text/plain": [
       "2784"
      ]
     },
     "execution_count": 17,
     "metadata": {},
     "output_type": "execute_result"
    }
   ],
   "source": [
    "# Посмотрим количество уникальных заказов\n",
    "\n",
    "len(data['order_id'].unique())"
   ]
  },
  {
   "cell_type": "markdown",
   "metadata": {},
   "source": [
    "По количеству клиентов и заказов есть расхождение. Поэтому посмотрим на уникальность дат и взаимосвязь уникальных клиентов и заказов"
   ]
  },
  {
   "cell_type": "code",
   "execution_count": 18,
   "metadata": {},
   "outputs": [
    {
     "data": {
      "text/plain": [
       "order_id\n",
       "14833    74\n",
       "70960    60\n",
       "69162    23\n",
       "71148    16\n",
       "69531    12\n",
       "Name: date, dtype: int64"
      ]
     },
     "execution_count": 18,
     "metadata": {},
     "output_type": "execute_result"
    }
   ],
   "source": [
    "# Проверим у каждого заказа уникальную дату\n",
    "\n",
    "data.groupby('order_id')['date'].nunique().sort_values(ascending=False).head()"
   ]
  },
  {
   "cell_type": "code",
   "execution_count": 19,
   "metadata": {},
   "outputs": [
    {
     "data": {
      "text/plain": [
       "order_id\n",
       "72845    4\n",
       "71480    3\n",
       "69485    3\n",
       "69310    2\n",
       "69833    2\n",
       "Name: customer_id, dtype: int64"
      ]
     },
     "execution_count": 19,
     "metadata": {},
     "output_type": "execute_result"
    }
   ],
   "source": [
    "# проверим у каждого заказа уникальность клиента\n",
    "\n",
    "data.groupby('order_id')['customer_id'].nunique().sort_values(ascending=False).head()"
   ]
  },
  {
   "cell_type": "markdown",
   "metadata": {},
   "source": [
    "Получается, что заказов по количеству больше. Если заказ повторяется через определенный промежуток времени, то его номер сохраняет зачение и может быть присвоен другому клиенту. \n",
    "Необходимо поработать с нумерацией заказов."
   ]
  },
  {
   "cell_type": "code",
   "execution_count": 20,
   "metadata": {},
   "outputs": [
    {
     "data": {
      "text/plain": [
       "2341"
      ]
     },
     "execution_count": 20,
     "metadata": {},
     "output_type": "execute_result"
    }
   ],
   "source": [
    "# Посмотрим на количество уникальных товаров\n",
    "\n",
    "len(data['product'].unique())"
   ]
  },
  {
   "cell_type": "code",
   "execution_count": 21,
   "metadata": {},
   "outputs": [
    {
     "data": {
      "text/html": [
       "<div>\n",
       "<style scoped>\n",
       "    .dataframe tbody tr th:only-of-type {\n",
       "        vertical-align: middle;\n",
       "    }\n",
       "\n",
       "    .dataframe tbody tr th {\n",
       "        vertical-align: top;\n",
       "    }\n",
       "\n",
       "    .dataframe thead th {\n",
       "        text-align: right;\n",
       "    }\n",
       "</style>\n",
       "<table border=\"1\" class=\"dataframe\">\n",
       "  <thead>\n",
       "    <tr style=\"text-align: right;\">\n",
       "      <th></th>\n",
       "      <th>quantity</th>\n",
       "      <th>price</th>\n",
       "      <th>day</th>\n",
       "      <th>month</th>\n",
       "      <th>year</th>\n",
       "    </tr>\n",
       "  </thead>\n",
       "  <tbody>\n",
       "    <tr>\n",
       "      <th>count</th>\n",
       "      <td>6737.000000</td>\n",
       "      <td>6737.000000</td>\n",
       "      <td>6737.000000</td>\n",
       "      <td>6737.000000</td>\n",
       "      <td>6737.000000</td>\n",
       "    </tr>\n",
       "    <tr>\n",
       "      <th>mean</th>\n",
       "      <td>2.501559</td>\n",
       "      <td>462.028499</td>\n",
       "      <td>2.718421</td>\n",
       "      <td>6.415764</td>\n",
       "      <td>2018.788927</td>\n",
       "    </tr>\n",
       "    <tr>\n",
       "      <th>std</th>\n",
       "      <td>15.266478</td>\n",
       "      <td>871.296064</td>\n",
       "      <td>2.001738</td>\n",
       "      <td>3.035431</td>\n",
       "      <td>0.408100</td>\n",
       "    </tr>\n",
       "    <tr>\n",
       "      <th>min</th>\n",
       "      <td>1.000000</td>\n",
       "      <td>9.000000</td>\n",
       "      <td>0.000000</td>\n",
       "      <td>1.000000</td>\n",
       "      <td>2018.000000</td>\n",
       "    </tr>\n",
       "    <tr>\n",
       "      <th>25%</th>\n",
       "      <td>1.000000</td>\n",
       "      <td>101.000000</td>\n",
       "      <td>1.000000</td>\n",
       "      <td>4.000000</td>\n",
       "      <td>2019.000000</td>\n",
       "    </tr>\n",
       "    <tr>\n",
       "      <th>50%</th>\n",
       "      <td>1.000000</td>\n",
       "      <td>135.000000</td>\n",
       "      <td>3.000000</td>\n",
       "      <td>6.000000</td>\n",
       "      <td>2019.000000</td>\n",
       "    </tr>\n",
       "    <tr>\n",
       "      <th>75%</th>\n",
       "      <td>1.000000</td>\n",
       "      <td>398.000000</td>\n",
       "      <td>4.000000</td>\n",
       "      <td>9.000000</td>\n",
       "      <td>2019.000000</td>\n",
       "    </tr>\n",
       "    <tr>\n",
       "      <th>max</th>\n",
       "      <td>1000.000000</td>\n",
       "      <td>14917.000000</td>\n",
       "      <td>6.000000</td>\n",
       "      <td>12.000000</td>\n",
       "      <td>2019.000000</td>\n",
       "    </tr>\n",
       "  </tbody>\n",
       "</table>\n",
       "</div>"
      ],
      "text/plain": [
       "          quantity         price          day        month         year\n",
       "count  6737.000000   6737.000000  6737.000000  6737.000000  6737.000000\n",
       "mean      2.501559    462.028499     2.718421     6.415764  2018.788927\n",
       "std      15.266478    871.296064     2.001738     3.035431     0.408100\n",
       "min       1.000000      9.000000     0.000000     1.000000  2018.000000\n",
       "25%       1.000000    101.000000     1.000000     4.000000  2019.000000\n",
       "50%       1.000000    135.000000     3.000000     6.000000  2019.000000\n",
       "75%       1.000000    398.000000     4.000000     9.000000  2019.000000\n",
       "max    1000.000000  14917.000000     6.000000    12.000000  2019.000000"
      ]
     },
     "execution_count": 21,
     "metadata": {},
     "output_type": "execute_result"
    }
   ],
   "source": [
    "# Еще раз применим метод describe()\n",
    "\n",
    "data.describe()"
   ]
  },
  {
   "cell_type": "markdown",
   "metadata": {},
   "source": [
    "У нас есть явные выбросы. Например, максимальное значение по количеству - 1000 единиц. Возможно, это оптовая закупка, но в нашем исследовании она неуместна. Более того, минимальное количество - 1, первый, второй и третий квартили тоже по 1. Среднее значение - 2,5. А отклонение 15,2. "
   ]
  },
  {
   "cell_type": "code",
   "execution_count": 22,
   "metadata": {},
   "outputs": [
    {
     "data": {
      "text/html": [
       "<div>\n",
       "<style scoped>\n",
       "    .dataframe tbody tr th:only-of-type {\n",
       "        vertical-align: middle;\n",
       "    }\n",
       "\n",
       "    .dataframe tbody tr th {\n",
       "        vertical-align: top;\n",
       "    }\n",
       "\n",
       "    .dataframe thead th {\n",
       "        text-align: right;\n",
       "    }\n",
       "</style>\n",
       "<table border=\"1\" class=\"dataframe\">\n",
       "  <thead>\n",
       "    <tr style=\"text-align: right;\">\n",
       "      <th></th>\n",
       "      <th>date</th>\n",
       "      <th>customer_id</th>\n",
       "      <th>order_id</th>\n",
       "      <th>product</th>\n",
       "      <th>quantity</th>\n",
       "      <th>price</th>\n",
       "      <th>day</th>\n",
       "      <th>month</th>\n",
       "      <th>year</th>\n",
       "    </tr>\n",
       "  </thead>\n",
       "  <tbody>\n",
       "    <tr>\n",
       "      <th>5456</th>\n",
       "      <td>2019-06-18 15:00:00</td>\n",
       "      <td>312e9a3e-5fca-43ff-a6a1-892d2b2d5ba6</td>\n",
       "      <td>71743</td>\n",
       "      <td>вантуз с деревянной ручкой d14 см красный, bur...</td>\n",
       "      <td>1000</td>\n",
       "      <td>675.0</td>\n",
       "      <td>1</td>\n",
       "      <td>6</td>\n",
       "      <td>2019</td>\n",
       "    </tr>\n",
       "  </tbody>\n",
       "</table>\n",
       "</div>"
      ],
      "text/plain": [
       "                    date                           customer_id order_id  \\\n",
       "5456 2019-06-18 15:00:00  312e9a3e-5fca-43ff-a6a1-892d2b2d5ba6    71743   \n",
       "\n",
       "                                                product  quantity  price  day  \\\n",
       "5456  вантуз с деревянной ручкой d14 см красный, bur...      1000  675.0    1   \n",
       "\n",
       "      month  year  \n",
       "5456      6  2019  "
      ]
     },
     "execution_count": 22,
     "metadata": {},
     "output_type": "execute_result"
    }
   ],
   "source": [
    "# Посмотрим на заказ на 1000 позиций\n",
    "\n",
    "data[data['quantity'] == 1000]"
   ]
  },
  {
   "cell_type": "code",
   "execution_count": 23,
   "metadata": {},
   "outputs": [
    {
     "data": {
      "text/html": [
       "<div>\n",
       "<style scoped>\n",
       "    .dataframe tbody tr th:only-of-type {\n",
       "        vertical-align: middle;\n",
       "    }\n",
       "\n",
       "    .dataframe tbody tr th {\n",
       "        vertical-align: top;\n",
       "    }\n",
       "\n",
       "    .dataframe thead th {\n",
       "        text-align: right;\n",
       "    }\n",
       "</style>\n",
       "<table border=\"1\" class=\"dataframe\">\n",
       "  <thead>\n",
       "    <tr style=\"text-align: right;\">\n",
       "      <th></th>\n",
       "      <th>date</th>\n",
       "      <th>customer_id</th>\n",
       "      <th>order_id</th>\n",
       "      <th>product</th>\n",
       "      <th>quantity</th>\n",
       "      <th>price</th>\n",
       "      <th>day</th>\n",
       "      <th>month</th>\n",
       "      <th>year</th>\n",
       "    </tr>\n",
       "  </thead>\n",
       "  <tbody>\n",
       "    <tr>\n",
       "      <th>211</th>\n",
       "      <td>2018-10-11 14:00:00</td>\n",
       "      <td>cd09ea73-d9ce-48c3-b4c5-018113735e80</td>\n",
       "      <td>68611</td>\n",
       "      <td>крепеж для пружины дверной, 1107055</td>\n",
       "      <td>150</td>\n",
       "      <td>19.0</td>\n",
       "      <td>3</td>\n",
       "      <td>10</td>\n",
       "      <td>2018</td>\n",
       "    </tr>\n",
       "    <tr>\n",
       "      <th>212</th>\n",
       "      <td>2018-10-11 14:00:00</td>\n",
       "      <td>cd09ea73-d9ce-48c3-b4c5-018113735e80</td>\n",
       "      <td>68611</td>\n",
       "      <td>пружина дверная 240 мм оцинкованная (д-19 мм) ...</td>\n",
       "      <td>150</td>\n",
       "      <td>38.0</td>\n",
       "      <td>3</td>\n",
       "      <td>10</td>\n",
       "      <td>2018</td>\n",
       "    </tr>\n",
       "    <tr>\n",
       "      <th>266</th>\n",
       "      <td>2018-10-16 08:00:00</td>\n",
       "      <td>cd09ea73-d9ce-48c3-b4c5-018113735e80</td>\n",
       "      <td>68611</td>\n",
       "      <td>крепеж для пружины дверной, 1107055</td>\n",
       "      <td>150</td>\n",
       "      <td>19.0</td>\n",
       "      <td>1</td>\n",
       "      <td>10</td>\n",
       "      <td>2018</td>\n",
       "    </tr>\n",
       "    <tr>\n",
       "      <th>267</th>\n",
       "      <td>2018-10-16 08:00:00</td>\n",
       "      <td>cd09ea73-d9ce-48c3-b4c5-018113735e80</td>\n",
       "      <td>68611</td>\n",
       "      <td>пружина дверная 240 мм оцинкованная (д-19 мм) ...</td>\n",
       "      <td>150</td>\n",
       "      <td>38.0</td>\n",
       "      <td>1</td>\n",
       "      <td>10</td>\n",
       "      <td>2018</td>\n",
       "    </tr>\n",
       "    <tr>\n",
       "      <th>568</th>\n",
       "      <td>2018-11-01 08:00:00</td>\n",
       "      <td>aa42dc38-780f-4b50-9a65-83b6fa64e766</td>\n",
       "      <td>68815</td>\n",
       "      <td>муляж яблоко 9 см красное</td>\n",
       "      <td>170</td>\n",
       "      <td>51.0</td>\n",
       "      <td>3</td>\n",
       "      <td>11</td>\n",
       "      <td>2018</td>\n",
       "    </tr>\n",
       "    <tr>\n",
       "      <th>586</th>\n",
       "      <td>2018-11-02 11:00:00</td>\n",
       "      <td>0c5aaa88-e346-4f87-8f7a-ad8cbc04e965</td>\n",
       "      <td>68831</td>\n",
       "      <td>муляж яблоко 9 см красное</td>\n",
       "      <td>140</td>\n",
       "      <td>59.0</td>\n",
       "      <td>4</td>\n",
       "      <td>11</td>\n",
       "      <td>2018</td>\n",
       "    </tr>\n",
       "    <tr>\n",
       "      <th>1103</th>\n",
       "      <td>2018-12-04 17:00:00</td>\n",
       "      <td>7d255526-fcc2-4f79-b28a-217d7d2373a8</td>\n",
       "      <td>69206</td>\n",
       "      <td>щетка для посуды *оля*, мультипласт 1807010</td>\n",
       "      <td>100</td>\n",
       "      <td>26.0</td>\n",
       "      <td>1</td>\n",
       "      <td>12</td>\n",
       "      <td>2018</td>\n",
       "    </tr>\n",
       "    <tr>\n",
       "      <th>1158</th>\n",
       "      <td>2018-12-10 14:00:00</td>\n",
       "      <td>a984c5b7-ff7e-4647-b84e-ef0b85a2762d</td>\n",
       "      <td>69289</td>\n",
       "      <td>ручка-скоба рс-100 белая *трибатрон*, 1108035</td>\n",
       "      <td>200</td>\n",
       "      <td>29.0</td>\n",
       "      <td>0</td>\n",
       "      <td>12</td>\n",
       "      <td>2018</td>\n",
       "    </tr>\n",
       "    <tr>\n",
       "      <th>1555</th>\n",
       "      <td>2019-01-21 09:00:00</td>\n",
       "      <td>8eabcaca-e8c8-4eee-9079-4ff5f612273a</td>\n",
       "      <td>69893</td>\n",
       "      <td>щетка для мытья посуды колибри м5202 большая</td>\n",
       "      <td>100</td>\n",
       "      <td>34.0</td>\n",
       "      <td>0</td>\n",
       "      <td>1</td>\n",
       "      <td>2019</td>\n",
       "    </tr>\n",
       "    <tr>\n",
       "      <th>2431</th>\n",
       "      <td>2019-03-23 10:00:00</td>\n",
       "      <td>685d3d84-aebb-485b-8e59-344b3df8b3d3</td>\n",
       "      <td>70841</td>\n",
       "      <td>плечики пластмассовые размер 52 - 54 тула 1205158</td>\n",
       "      <td>150</td>\n",
       "      <td>20.0</td>\n",
       "      <td>5</td>\n",
       "      <td>3</td>\n",
       "      <td>2019</td>\n",
       "    </tr>\n",
       "    <tr>\n",
       "      <th>3961</th>\n",
       "      <td>2019-05-20 21:00:00</td>\n",
       "      <td>5d189e88-d4d6-4eac-ab43-fa65a3c4d106</td>\n",
       "      <td>71478</td>\n",
       "      <td>муляж яблоко 9 см красное</td>\n",
       "      <td>300</td>\n",
       "      <td>51.0</td>\n",
       "      <td>0</td>\n",
       "      <td>5</td>\n",
       "      <td>2019</td>\n",
       "    </tr>\n",
       "    <tr>\n",
       "      <th>5071</th>\n",
       "      <td>2019-06-11 07:00:00</td>\n",
       "      <td>146cd9bf-a95c-4afb-915b-5f6684b17444</td>\n",
       "      <td>71668</td>\n",
       "      <td>вешалки мягкие для деликатных вещей 3 шт шоколад</td>\n",
       "      <td>334</td>\n",
       "      <td>148.0</td>\n",
       "      <td>1</td>\n",
       "      <td>6</td>\n",
       "      <td>2019</td>\n",
       "    </tr>\n",
       "    <tr>\n",
       "      <th>5456</th>\n",
       "      <td>2019-06-18 15:00:00</td>\n",
       "      <td>312e9a3e-5fca-43ff-a6a1-892d2b2d5ba6</td>\n",
       "      <td>71743</td>\n",
       "      <td>вантуз с деревянной ручкой d14 см красный, bur...</td>\n",
       "      <td>1000</td>\n",
       "      <td>675.0</td>\n",
       "      <td>1</td>\n",
       "      <td>6</td>\n",
       "      <td>2019</td>\n",
       "    </tr>\n",
       "    <tr>\n",
       "      <th>6535</th>\n",
       "      <td>2019-10-07 11:00:00</td>\n",
       "      <td>d933280e-5372-448f-be44-b269c8bafc2a</td>\n",
       "      <td>72885</td>\n",
       "      <td>крепеж для пружины дверной оцинкованный, 1107054</td>\n",
       "      <td>100</td>\n",
       "      <td>19.0</td>\n",
       "      <td>0</td>\n",
       "      <td>10</td>\n",
       "      <td>2019</td>\n",
       "    </tr>\n",
       "    <tr>\n",
       "      <th>6707</th>\n",
       "      <td>2019-10-28 10:00:00</td>\n",
       "      <td>018fb729-3525-4314-8e4d-1982b1062f9f</td>\n",
       "      <td>73110</td>\n",
       "      <td>шпингалет 80 мм белый с пружиной, 1102188</td>\n",
       "      <td>100</td>\n",
       "      <td>44.0</td>\n",
       "      <td>0</td>\n",
       "      <td>10</td>\n",
       "      <td>2019</td>\n",
       "    </tr>\n",
       "  </tbody>\n",
       "</table>\n",
       "</div>"
      ],
      "text/plain": [
       "                    date                           customer_id order_id  \\\n",
       "211  2018-10-11 14:00:00  cd09ea73-d9ce-48c3-b4c5-018113735e80    68611   \n",
       "212  2018-10-11 14:00:00  cd09ea73-d9ce-48c3-b4c5-018113735e80    68611   \n",
       "266  2018-10-16 08:00:00  cd09ea73-d9ce-48c3-b4c5-018113735e80    68611   \n",
       "267  2018-10-16 08:00:00  cd09ea73-d9ce-48c3-b4c5-018113735e80    68611   \n",
       "568  2018-11-01 08:00:00  aa42dc38-780f-4b50-9a65-83b6fa64e766    68815   \n",
       "586  2018-11-02 11:00:00  0c5aaa88-e346-4f87-8f7a-ad8cbc04e965    68831   \n",
       "1103 2018-12-04 17:00:00  7d255526-fcc2-4f79-b28a-217d7d2373a8    69206   \n",
       "1158 2018-12-10 14:00:00  a984c5b7-ff7e-4647-b84e-ef0b85a2762d    69289   \n",
       "1555 2019-01-21 09:00:00  8eabcaca-e8c8-4eee-9079-4ff5f612273a    69893   \n",
       "2431 2019-03-23 10:00:00  685d3d84-aebb-485b-8e59-344b3df8b3d3    70841   \n",
       "3961 2019-05-20 21:00:00  5d189e88-d4d6-4eac-ab43-fa65a3c4d106    71478   \n",
       "5071 2019-06-11 07:00:00  146cd9bf-a95c-4afb-915b-5f6684b17444    71668   \n",
       "5456 2019-06-18 15:00:00  312e9a3e-5fca-43ff-a6a1-892d2b2d5ba6    71743   \n",
       "6535 2019-10-07 11:00:00  d933280e-5372-448f-be44-b269c8bafc2a    72885   \n",
       "6707 2019-10-28 10:00:00  018fb729-3525-4314-8e4d-1982b1062f9f    73110   \n",
       "\n",
       "                                                product  quantity  price  day  \\\n",
       "211                 крепеж для пружины дверной, 1107055       150   19.0    3   \n",
       "212   пружина дверная 240 мм оцинкованная (д-19 мм) ...       150   38.0    3   \n",
       "266                 крепеж для пружины дверной, 1107055       150   19.0    1   \n",
       "267   пружина дверная 240 мм оцинкованная (д-19 мм) ...       150   38.0    1   \n",
       "568                           муляж яблоко 9 см красное       170   51.0    3   \n",
       "586                           муляж яблоко 9 см красное       140   59.0    4   \n",
       "1103        щетка для посуды *оля*, мультипласт 1807010       100   26.0    1   \n",
       "1158      ручка-скоба рс-100 белая *трибатрон*, 1108035       200   29.0    0   \n",
       "1555       щетка для мытья посуды колибри м5202 большая       100   34.0    0   \n",
       "2431  плечики пластмассовые размер 52 - 54 тула 1205158       150   20.0    5   \n",
       "3961                          муляж яблоко 9 см красное       300   51.0    0   \n",
       "5071   вешалки мягкие для деликатных вещей 3 шт шоколад       334  148.0    1   \n",
       "5456  вантуз с деревянной ручкой d14 см красный, bur...      1000  675.0    1   \n",
       "6535   крепеж для пружины дверной оцинкованный, 1107054       100   19.0    0   \n",
       "6707          шпингалет 80 мм белый с пружиной, 1102188       100   44.0    0   \n",
       "\n",
       "      month  year  \n",
       "211      10  2018  \n",
       "212      10  2018  \n",
       "266      10  2018  \n",
       "267      10  2018  \n",
       "568      11  2018  \n",
       "586      11  2018  \n",
       "1103     12  2018  \n",
       "1158     12  2018  \n",
       "1555      1  2019  \n",
       "2431      3  2019  \n",
       "3961      5  2019  \n",
       "5071      6  2019  \n",
       "5456      6  2019  \n",
       "6535     10  2019  \n",
       "6707     10  2019  "
      ]
     },
     "execution_count": 23,
     "metadata": {},
     "output_type": "execute_result"
    }
   ],
   "source": [
    "# Посмотрим на заказы более 100 позиций\n",
    "\n",
    "data[data['quantity'] >= 100]"
   ]
  },
  {
   "cell_type": "markdown",
   "metadata": {},
   "source": [
    "Очевидно, что в данных есть оптовые заказы и их достаточно много. Впрочем, отделить оптовые заказы от обычных, но под определеннные нужды, например, ремонт, не так просто. Все-таки, среди прочих, в данных есть крепежи и ручки-скобы, которые стоят не очень дорого, но могут быть нужны в больших количествах и для ремонта."
   ]
  },
  {
   "cell_type": "code",
   "execution_count": 24,
   "metadata": {},
   "outputs": [
    {
     "data": {
      "text/plain": [
       "48.297593808058366"
      ]
     },
     "execution_count": 24,
     "metadata": {},
     "output_type": "execute_result"
    }
   ],
   "source": [
    "np.mean(data['quantity']) + np.std(data['quantity']) * 3"
   ]
  },
  {
   "cell_type": "code",
   "execution_count": 25,
   "metadata": {},
   "outputs": [],
   "source": [
    "# отфильтруем значения\n",
    "\n",
    "data = data.query('quantity < 48').reset_index(drop=True)"
   ]
  },
  {
   "cell_type": "code",
   "execution_count": 26,
   "metadata": {},
   "outputs": [
    {
     "data": {
      "text/html": [
       "<div>\n",
       "<style scoped>\n",
       "    .dataframe tbody tr th:only-of-type {\n",
       "        vertical-align: middle;\n",
       "    }\n",
       "\n",
       "    .dataframe tbody tr th {\n",
       "        vertical-align: top;\n",
       "    }\n",
       "\n",
       "    .dataframe thead th {\n",
       "        text-align: right;\n",
       "    }\n",
       "</style>\n",
       "<table border=\"1\" class=\"dataframe\">\n",
       "  <thead>\n",
       "    <tr style=\"text-align: right;\">\n",
       "      <th></th>\n",
       "      <th>date</th>\n",
       "      <th>customer_id</th>\n",
       "      <th>order_id</th>\n",
       "      <th>product</th>\n",
       "      <th>quantity</th>\n",
       "      <th>price</th>\n",
       "      <th>day</th>\n",
       "      <th>month</th>\n",
       "      <th>year</th>\n",
       "    </tr>\n",
       "  </thead>\n",
       "  <tbody>\n",
       "    <tr>\n",
       "      <th>6697</th>\n",
       "      <td>2019-10-31 11:00:00</td>\n",
       "      <td>73d1cd35-5e5f-4629-8cf2-3fda829d4e58</td>\n",
       "      <td>73156</td>\n",
       "      <td>таз пластмассовый 40,0 л пищевой овальный (иж)...</td>\n",
       "      <td>1</td>\n",
       "      <td>404.0</td>\n",
       "      <td>3</td>\n",
       "      <td>10</td>\n",
       "      <td>2019</td>\n",
       "    </tr>\n",
       "    <tr>\n",
       "      <th>6698</th>\n",
       "      <td>2019-10-31 12:00:00</td>\n",
       "      <td>1f0a7f35-7459-4f23-b468-5e45bf481dd1</td>\n",
       "      <td>73158</td>\n",
       "      <td>сумка-тележка 2-х колесная gimi argo синяя</td>\n",
       "      <td>1</td>\n",
       "      <td>1087.0</td>\n",
       "      <td>3</td>\n",
       "      <td>10</td>\n",
       "      <td>2019</td>\n",
       "    </tr>\n",
       "    <tr>\n",
       "      <th>6699</th>\n",
       "      <td>2019-10-31 13:00:00</td>\n",
       "      <td>25df96a7-c453-4708-9cea-a3dfc7c342ea</td>\n",
       "      <td>73162</td>\n",
       "      <td>герань домашняя (пеларгония зональная) цветуща...</td>\n",
       "      <td>1</td>\n",
       "      <td>157.0</td>\n",
       "      <td>3</td>\n",
       "      <td>10</td>\n",
       "      <td>2019</td>\n",
       "    </tr>\n",
       "    <tr>\n",
       "      <th>6700</th>\n",
       "      <td>2019-10-31 14:00:00</td>\n",
       "      <td>73d1cd35-5e5f-4629-8cf2-3fda829d4e58</td>\n",
       "      <td>73164</td>\n",
       "      <td>таз пластмассовый со стиральной доской (иж), 1...</td>\n",
       "      <td>1</td>\n",
       "      <td>397.0</td>\n",
       "      <td>3</td>\n",
       "      <td>10</td>\n",
       "      <td>2019</td>\n",
       "    </tr>\n",
       "    <tr>\n",
       "      <th>6701</th>\n",
       "      <td>2019-10-31 16:00:00</td>\n",
       "      <td>344aa778-e436-419e-a9c6-9b8f37b7c1df</td>\n",
       "      <td>73137</td>\n",
       "      <td>сумка-тележка 2-х колесная gimi argo синяя</td>\n",
       "      <td>1</td>\n",
       "      <td>1087.0</td>\n",
       "      <td>3</td>\n",
       "      <td>10</td>\n",
       "      <td>2019</td>\n",
       "    </tr>\n",
       "  </tbody>\n",
       "</table>\n",
       "</div>"
      ],
      "text/plain": [
       "                    date                           customer_id order_id  \\\n",
       "6697 2019-10-31 11:00:00  73d1cd35-5e5f-4629-8cf2-3fda829d4e58    73156   \n",
       "6698 2019-10-31 12:00:00  1f0a7f35-7459-4f23-b468-5e45bf481dd1    73158   \n",
       "6699 2019-10-31 13:00:00  25df96a7-c453-4708-9cea-a3dfc7c342ea    73162   \n",
       "6700 2019-10-31 14:00:00  73d1cd35-5e5f-4629-8cf2-3fda829d4e58    73164   \n",
       "6701 2019-10-31 16:00:00  344aa778-e436-419e-a9c6-9b8f37b7c1df    73137   \n",
       "\n",
       "                                                product  quantity   price  \\\n",
       "6697  таз пластмассовый 40,0 л пищевой овальный (иж)...         1   404.0   \n",
       "6698         сумка-тележка 2-х колесная gimi argo синяя         1  1087.0   \n",
       "6699  герань домашняя (пеларгония зональная) цветуща...         1   157.0   \n",
       "6700  таз пластмассовый со стиральной доской (иж), 1...         1   397.0   \n",
       "6701         сумка-тележка 2-х колесная gimi argo синяя         1  1087.0   \n",
       "\n",
       "      day  month  year  \n",
       "6697    3     10  2019  \n",
       "6698    3     10  2019  \n",
       "6699    3     10  2019  \n",
       "6700    3     10  2019  \n",
       "6701    3     10  2019  "
      ]
     },
     "execution_count": 26,
     "metadata": {},
     "output_type": "execute_result"
    }
   ],
   "source": [
    "# Проверим, результат\n",
    "\n",
    "data[data['quantity'] < 48].tail()"
   ]
  },
  {
   "cell_type": "markdown",
   "metadata": {},
   "source": [
    "## Проработаем нумерацию заказов"
   ]
  },
  {
   "cell_type": "code",
   "execution_count": 27,
   "metadata": {},
   "outputs": [],
   "source": [
    "# Используем для этого random\n",
    "\n",
    "random.seed(42)"
   ]
  },
  {
   "cell_type": "code",
   "execution_count": 28,
   "metadata": {},
   "outputs": [],
   "source": [
    "# Напишем функцию, чтобы выбирать случайный унивальный номер и отражать в столбце num\n",
    "\n",
    "def num_order(data):\n",
    "    list = []\n",
    "    for i in range(len(data)):\n",
    "        para = str(data.loc[i, 'date']) + data.loc[i, 'order_id']\n",
    "        if para not in list:\n",
    "            list.append(para)\n",
    "            data.loc[i, 'num'] = str(random.randint(10000, 90000))\n",
    "        else:\n",
    "            data.loc[i, 'num'] = data.loc[(i-1), 'num']\n",
    "            "
   ]
  },
  {
   "cell_type": "code",
   "execution_count": 29,
   "metadata": {},
   "outputs": [],
   "source": [
    "# Попробуем применить функцию к данным\n",
    "\n",
    "num_order(data)"
   ]
  },
  {
   "cell_type": "code",
   "execution_count": 30,
   "metadata": {},
   "outputs": [
    {
     "data": {
      "text/plain": [
       "3314"
      ]
     },
     "execution_count": 30,
     "metadata": {},
     "output_type": "execute_result"
    }
   ],
   "source": [
    "# проверим количество заказов по новой нумерации\n",
    "\n",
    "len(data['num'].unique())"
   ]
  },
  {
   "cell_type": "markdown",
   "metadata": {},
   "source": [
    "# Вывод\n",
    "\n",
    "Датафрейм загружен, мы посмотрели на данные.\n",
    "Они соответствуют тому, что было озвучено в задании.\n",
    "\n",
    "У нас 6737 строк. Актуальность собранных данных это период с 1 октября 2018 года до 31 октября 2019 года. \n",
    "\n",
    "Пропусков нет, явных дубликатов нет.\n",
    "Столбец с датой привели к нужному для работы виду, а наименования товаров к регистру. Также к строковому типу привели столбец с номерами заказов, чтобы изменить нумерацию.\n",
    "\n",
    "Важная деталь, с мая сильно повышается количество продаж. Возможно имеет место быть сезонная активность.\n",
    "\n",
    "Можем переходить ко второму шагу"
   ]
  },
  {
   "cell_type": "markdown",
   "metadata": {},
   "source": [
    "# Шаг 2. Исследовательский анализ данных\n"
   ]
  },
  {
   "cell_type": "markdown",
   "metadata": {},
   "source": [
    "- Оценить качество и объем данных;\n",
    "- Посмотреть на распределения, выявить аномалии, при их наличи;\n",
    "- Оценить динамику продаж по времени;\n",
    "- Проанализировать продуктовый ассортимент, выявить основные категории продуктов;\n",
    "- Сформулировать предварительные гипотезы;"
   ]
  },
  {
   "cell_type": "markdown",
   "metadata": {},
   "source": [
    "# Добавим столбец со стоимостью в таблицу"
   ]
  },
  {
   "cell_type": "code",
   "execution_count": 31,
   "metadata": {},
   "outputs": [],
   "source": [
    "# Cоздадим новый столбец с общей стоимостью\n",
    "\n",
    "data['total_price'] = data['quantity'] * data['price']"
   ]
  },
  {
   "cell_type": "markdown",
   "metadata": {},
   "source": [
    "# Распределим товары по категориям"
   ]
  },
  {
   "cell_type": "code",
   "execution_count": 32,
   "metadata": {},
   "outputs": [],
   "source": [
    "# Нам нужно разделить наименования на отедьлные слова\n",
    "\n",
    "data[['word1', 'word2']] = data['product'].str.split(' ', expand=True)[[0, 1]]"
   ]
  },
  {
   "cell_type": "code",
   "execution_count": 33,
   "metadata": {},
   "outputs": [],
   "source": [
    "# Создадим один отдельный столбец \n",
    "\n",
    "data['word'] = data['word1'] + ' ' + data['word2']"
   ]
  },
  {
   "cell_type": "code",
   "execution_count": 34,
   "metadata": {},
   "outputs": [],
   "source": [
    "# Уберем лишнее\n",
    "\n",
    "data = data.drop(['word1', 'word2'], axis=1)"
   ]
  },
  {
   "cell_type": "code",
   "execution_count": 35,
   "metadata": {},
   "outputs": [],
   "source": [
    "# Проведем лемматизацию\n",
    "\n",
    "m = Mystem()\n",
    "data['lemmas'] = data['word'].apply(m.lemmatize)"
   ]
  },
  {
   "cell_type": "code",
   "execution_count": 36,
   "metadata": {},
   "outputs": [],
   "source": [
    "# Создадим функцию для определения категории по лемме, зададим названия для категорий\n",
    "\n",
    "def product_category(lemmas):\n",
    "    if (\n",
    "        'растение' in lemmas or 'рассада' in lemmas or 'd' in lemmas or 'цветок' in lemmas\n",
    "        or 'микс' in lemmas or 'герань' in lemmas or 'пеларгония' in lemmas or 'роза' in lemmas \n",
    "        or 'хризолидокарпус' in lemmas or 'циперус' in lemmas or 'шеффлер' in lemmas \n",
    "        or 'юкка' in lemmas or 'эхеверие' in lemmas or 'эвкалипт' in lemmas or 'лекарственный' in lemmas \n",
    "        or 'бегония' in lemmas or 'фиалка' in lemmas or 'бальзамин' in lemmas or 'мимоза' in lemmas\n",
    "        or 'бархатцы' in lemmas or 'подсолнечник' in lemmas or 'ель' in lemmas or 'кориандр' in lemmas\n",
    "        or 'адиантум' in lemmas or 'калатея' in lemmas or 'антуриум' in lemmas or 'азалия' in lemmas \n",
    "        or 'калоцефалус' in lemmas or 'цинерария' in lemmas or 'примула' in lemmas or 'нолина' in lemmas\n",
    "        or 'косметь' in lemmas or 'хризантема' in lemmas or 'афеляндра' in lemmas or 'обыкновенный' in lemmas\n",
    "        or 'пуансеттия' in lemmas or 'смесь' in lemmas or 'декабрист' in lemmas or 'крассула' in lemmas\n",
    "        or 'тюльпан' in lemmas or 'каланхое' in lemmas or 'календула' in lemmas or 'мята' in lemmas\n",
    "        or 'кофе' in lemmas or 'фикус' in lemmas or 'балконный' in lemmas or 'спатифиллум' in lemmas\n",
    "        or 'ампельный' in lemmas or 'алоэ' in lemmas or 'калибрахоа' in lemmas or 'чабер' in lemmas\n",
    "        or 'петуния' in lemmas or 'настурция' in lemmas or 'дендробиум' in lemmas or 'гвоздик' in lemmas\n",
    "        or 'гипсофил' in lemmas or 'ранункулус' in lemmas or 'базилик' in lemmas or 'колокольчик' in lemmas\n",
    "        or 'цикламен' in lemmas or 'артемизия' in lemmas or 'лаванда' in lemmas or 'зев' in lemmas\n",
    "        or 'папоротник' in lemmas or 'вербейник' in lemmas or 'флокс' in lemmas or 'ясколка' in lemmas\n",
    "        or 'дыня' in lemmas or 'фуксия' in lemmas or 'каллун' in lemmas or 'альбук' in lemmas\n",
    "        or 'капсикум' in lemmas or 'алиссум' in lemmas or 'лапчатка' in lemmas or 'цинния' in lemmas\n",
    "        or 'помидор' in lemmas or 'виноград' in lemmas or 'мускарь' in lemmas or 'крупноцветковый' in lemmas\n",
    "        or 'лобелия' in lemmas or 'цитрофортунелла' in lemmas or 'аспарагус' in lemmas or 'тимьян' in lemmas\n",
    "        or 'котовник' in lemmas or 'вербена' in lemmas or 'гиацинт' in lemmas or 'пиретрум' in lemmas\n",
    "        or 'годеция' in lemmas or 'кореопсис' in lemmas or 'скиммия' in lemmas or 'фиттоний' in lemmas\n",
    "        or 'эхинокактус' in lemmas or 'нефролепис' in lemmas or 'эшшольция' in lemmas or 'кипарисовик' in lemmas\n",
    "        or 'энотера' in lemmas or 'крокус' in lemmas or 'фаленопсис' in lemmas or 'укоренять' in lemmas\n",
    "        or 'табак' in lemmas or 'синнингия' in lemmas or 'гортензия' in lemmas or 'лавр' in lemmas\n",
    "        or 'виола' in lemmas or 'целозия' in lemmas or 'драцена' in lemmas or 'джункус' in lemmas \n",
    "        or 'лук' in lemmas or 'баклажан' in lemmas or 'патиссон'in lemmas or 'клубника' in lemmas \n",
    "        or 'арбуз' in lemmas or 'огурец' in lemmas or 'морковь' in lemmas or 'горох' in lemmas\n",
    "        or 'укроп' in lemmas or 'земляника' in lemmas or 'капуста' in lemmas or 'камнеломка' in lemmas \n",
    "        or 'петрушка' in lemmas or 'кабачок' in lemmas or 'тыква' in lemmas or 'сельдерей' in lemmas \n",
    "        or 'зверобой' in lemmas or 'георгин' in lemmas or 'мединилла' in lemmas or 'вигна' in lemmas\n",
    "        or 'бадан' in lemmas or 'барвинок' in lemmas or 'трава' in lemmas or 'салат' in lemmas\n",
    "        or 'клен' in lemmas or 'змееголовник' in lemmas or 'любисток' in lemmas or 'нивянник' in lemmas\n",
    "        or 'импатиенс' in lemmas or 'лен' in lemmas or 'вероника' in lemmas or 'фатсия' in lemmas\n",
    "        or 'физостегия' in lemmas or 'эпипремнум' in lemmas or 'лилейник' in lemmas or 'астра' in lemmas\n",
    "        or 'монард' in lemmas or 'пахира' in lemmas or 'диффенбахий' in lemmas or 'шалфей' in lemmas \n",
    "        or 'смолевка' in lemmas or 'маттиола' in lemmas or 'сциндапсус' in lemmas or 'розмарин' in lemmas\n",
    "        or 'амариллис' in lemmas or 'бузульник' in lemmas or 'рудбекия' in lemmas or 'солидаго' in lemmas\n",
    "        or 'лаватер' in lemmas or 'анемон' in lemmas or 'лантан' in lemmas or 'буддлей' in lemmas\n",
    "        or 'детерминантный' in lemmas or 'государь' in lemmas \n",
    "    ):\n",
    "        return 'сад-огород'\n",
    "    if (\n",
    "        'щетка' in lemmas or 'таз' in lemmas or 'совок' in lemmas or 'вантуз' in lemmas \n",
    "        or 'прищепок' in lemmas or 'дозатор' in lemmas or 'ерш' in lemmas or 'биопорошок' in lemmas \n",
    "        or 'крем' in lemmas or 'перчатка' in lemmas or 'мыло' in lemmas or 'паста' in lemmas \n",
    "        or 'швабра' in lemmas or 'ведро' in lemmas or 'ножеточка' in lemmas or 'блок' in lemmas \n",
    "        or 'пена' in lemmas or 'рыбочистка' in lemmas or 'урна' in lemmas or 'насадка' in lemmas \n",
    "        or 'овощечистка' in lemmas or 'стяжка' in lemmas or 'лоток' in lemmas or 'губка' in lemmas \n",
    "        or 'средство' in lemmas or 'ролик' in lemmas or 'веник' in lemmas or 'пробка' in lemmas \n",
    "        or 'ковш' in lemmas or 'антижир' in lemmas or 'шнур' in lemmas or 'ополаскиватель' in lemmas \n",
    "        or 'корыто' in lemmas or 'картофелемялка' in lemmas or 'подставка' in lemmas \n",
    "        or 'линейка' in lemmas or 'мыльница' in lemmas or 'держатель' in lemmas \n",
    "        or 'кондиционер' in lemmas or 'кольцо' in lemmas or 'емкость' in lemmas or 'соль' in lemmas\n",
    "        or 'сито' in lemmas or 'рукав' in lemmas or 'бак' in lemmas or 'концентрат' in lemmas\n",
    "        or 'тряпкодержатель' in lemmas or 'окномойка' in lemmas or 'фиксатор' in lemmas or 'седум' in lemmas\n",
    "        or 'антинакипин' in lemmas or 'ванна' in lemmas or 'фал' in lemmas or 'отделитель' in lemmas\n",
    "        or 'отбеливатель' in lemmas or 'тряпка' in lemmas or 'молодить' in lemmas or 'концентрированный' in lemmas\n",
    "    ):\n",
    "        return 'хозтовары'\n",
    "    if ('тарелка' in lemmas or 'вилка' in lemmas or 'ложка' in lemmas or 'нож' in lemmas \n",
    "        or 'сковорода' in lemmas or 'кружка' in lemmas or 'чайник' in lemmas or 'крышка' in lemmas \n",
    "        or 'противень' in lemmas or 'толкушка' in lemmas or 'кувшин' in lemmas \n",
    "        or 'tepмокружка' in lemmas or 'миксер' in lemmas or 'масленка' in lemmas or 'фужер' in lemmas \n",
    "        or 'кастрюля' in lemmas or 'салатник' in lemmas or 'термос' in lemmas or 'стакан' in lemmas \n",
    "        or 'овощеварка' in lemmas or 'терка' in lemmas or 'банка' in lemmas or 'чайный' in lemmas \n",
    "        or 'лопатка' in lemmas or 'измельчитель' in lemmas or 'кухонный' in lemmas or 'бокал' in lemmas \n",
    "        or 'мантоварка' in lemmas or 'скребок' in lemmas or 'кисточка' in lemmas \n",
    "        or 'эмалированный' in lemmas or 'форма' in lemmas or 'миска' in lemmas \n",
    "        or 'термостакан' in lemmas or 'столовая' in lemmas or 'термокружок' in lemmas \n",
    "        or 'блюдце' in lemmas or 'бульонница' in lemmas or 'просеиватель' in lemmas \n",
    "        or 'хлебница' in lemmas or 'маска' in lemmas or 'бальзам' in lemmas or 'орехоколка' in lemmas\n",
    "        or 'скалка' in lemmas or 'венчик' in lemmas or 'овсянница' in lemmas or 'тортница' in lemmas\n",
    "        or 'блюдо' in lemmas or 'стеклянный' in lemmas or 'посуда' in lemmas or 'сотейник' in lemmas\n",
    "        or 'бидон' in lemmas or 'шприц' in lemmas or 'сахарница' in lemmas or 'соковарка' in lemmas\n",
    "        or 'соковыжималка' in lemmas or 'половник' in lemmas\n",
    "    ):\n",
    "        return 'посуда'\n",
    "    if ('муляж' in lemmas or 'халат' in lemmas or 'одеяло' in lemmas or 'фоторамка' in lemmas \n",
    "        or 'коврик' in lemmas or 'скатерть' in lemmas or 'ковер' in lemmas or 'искусственный' in lemmas \n",
    "        or 'штора' in lemmas or 'подкладка' in lemmas or 'простыня' in lemmas or 'салфетка' in lemmas \n",
    "        or 'декоративный' in lemmas or 'плед' in lemmas or 'полотенце' in lemmas \n",
    "        or 'наматрасник' in lemmas or 'карниз' in lemmas or 'комнатный' in lemmas \n",
    "        or 'салфетница' in lemmas or 'вкладыш' in lemmas or 'покрывало' in lemmas \n",
    "        or 'новогодний' in lemmas or 'постельный' in lemmas or 'махровый' in lemmas \n",
    "        or 'сетка' in lemmas or 'картина' in lemmas or 'подарочный' in lemmas or 'ткань' in lemmas\n",
    "        or 'кашпо' in lemmas or 'наматрацник' in lemmas or 'наволочка' in lemmas or 'пододеяльник' in lemmas\n",
    "        or 'ваза' in lemmas or 'корзинка' in lemmas or 'подушка' in lemmas or 'набор' in lemmas\n",
    "    ):\n",
    "        return 'уют'\n",
    "    if ('доска' in lemmas or 'сушилка' in lemmas or 'сумка' in lemmas or 'корзина' in lemmas \n",
    "        or 'крючок' in lemmas or 'тележка' in lemmas or 'контейнер' in lemmas or 'плечики' in lemmas \n",
    "        or 'вешалка' in lemmas or 'чехол' in lemmas or 'стремянка' in lemmas or 'кофр' in lemmas \n",
    "        or 'светильник' in lemmas or 'пружина' in lemmas or 'короб' in lemmas or 'коробка' in lemmas \n",
    "        or 'ручка' in lemmas or 'ящик' in lemmas or 'котел' in lemmas or 'пакет' in lemmas \n",
    "        or 'подрукавник' in lemmas or 'петля' in lemmas or 'фен' in lemmas or 'сидение' in lemmas \n",
    "        or 'сверло' in lemmas or 'термометр' in lemmas or 'крепеж' in lemmas or 'шило' in lemmas \n",
    "        or 'комод' in lemmas or 'сварка' in lemmas or 'весы' in lemmas or 'гладильный' in lemmas \n",
    "        or 'подголовник' in lemmas or 'инструмент' in lemmas or 'этажерка' in lemmas or 'полка' in lemmas\n",
    "        or 'электроштопор' in lemmas or 'экран' in lemmas or 'пылесос' in lemmas or 'штанга' in lemmas\n",
    "        or 'пресс' in lemmas or 'штангенциркуль' in lemmas or 'полк' in lemmas or 'настенный' in lemmas\n",
    "        or 'обувница' in lemmas or 'отжим' in lemmas or 'стеллаж' in lemmas or 'рассекатель' in lemmas\n",
    "        or 'рассекатель' in lemmas or 'измерительный' in lemmas or 'шпагат' in lemmas or 'мешок' in lemmas\n",
    "        or 'складной' in lemmas or 'завертка' in lemmas or 'веревка' in lemmas or 'решетка' in lemmas\n",
    "        or 'покрытие' in lemmas or 'электрический' in lemmas or 'уголок' in lemmas or 'шпингалет' in lemmas\n",
    "        or 'пьезозажигалка' in lemmas or 'основание' in lemmas or 'утюг' in lemmas or 'комплект' in lemmas\n",
    "        or 'сметка' in lemmas or 'бензин' in lemmas\n",
    "    ):\n",
    "        return 'дом'\n",
    "    return 'разное'"
   ]
  },
  {
   "cell_type": "code",
   "execution_count": 37,
   "metadata": {},
   "outputs": [],
   "source": [
    "# Применим функцию, выделим категории\n",
    "\n",
    "data['category'] = data['lemmas'].apply(product_category)"
   ]
  },
  {
   "cell_type": "code",
   "execution_count": 38,
   "metadata": {},
   "outputs": [
    {
     "data": {
      "text/html": [
       "<div>\n",
       "<style scoped>\n",
       "    .dataframe tbody tr th:only-of-type {\n",
       "        vertical-align: middle;\n",
       "    }\n",
       "\n",
       "    .dataframe tbody tr th {\n",
       "        vertical-align: top;\n",
       "    }\n",
       "\n",
       "    .dataframe thead th {\n",
       "        text-align: right;\n",
       "    }\n",
       "</style>\n",
       "<table border=\"1\" class=\"dataframe\">\n",
       "  <thead>\n",
       "    <tr style=\"text-align: right;\">\n",
       "      <th></th>\n",
       "      <th>date</th>\n",
       "      <th>customer_id</th>\n",
       "      <th>order_id</th>\n",
       "      <th>product</th>\n",
       "      <th>quantity</th>\n",
       "      <th>price</th>\n",
       "      <th>day</th>\n",
       "      <th>month</th>\n",
       "      <th>year</th>\n",
       "      <th>num</th>\n",
       "      <th>total_price</th>\n",
       "      <th>word</th>\n",
       "      <th>lemmas</th>\n",
       "      <th>category</th>\n",
       "    </tr>\n",
       "  </thead>\n",
       "  <tbody>\n",
       "    <tr>\n",
       "      <th>0</th>\n",
       "      <td>2018-10-01</td>\n",
       "      <td>ee47d746-6d2f-4d3c-9622-c31412542920</td>\n",
       "      <td>68477</td>\n",
       "      <td>комнатное растение в горшке алое вера, d12, h30</td>\n",
       "      <td>1</td>\n",
       "      <td>142.0</td>\n",
       "      <td>0</td>\n",
       "      <td>10</td>\n",
       "      <td>2018</td>\n",
       "      <td>24592</td>\n",
       "      <td>142.0</td>\n",
       "      <td>комнатное растение</td>\n",
       "      <td>[комнатный,  , растение, \\n]</td>\n",
       "      <td>сад-огород</td>\n",
       "    </tr>\n",
       "    <tr>\n",
       "      <th>1</th>\n",
       "      <td>2018-10-01</td>\n",
       "      <td>ee47d746-6d2f-4d3c-9622-c31412542920</td>\n",
       "      <td>68477</td>\n",
       "      <td>комнатное растение в горшке кофе арабика, d12,...</td>\n",
       "      <td>1</td>\n",
       "      <td>194.0</td>\n",
       "      <td>0</td>\n",
       "      <td>10</td>\n",
       "      <td>2018</td>\n",
       "      <td>24592</td>\n",
       "      <td>194.0</td>\n",
       "      <td>комнатное растение</td>\n",
       "      <td>[комнатный,  , растение, \\n]</td>\n",
       "      <td>сад-огород</td>\n",
       "    </tr>\n",
       "    <tr>\n",
       "      <th>2</th>\n",
       "      <td>2018-10-01</td>\n",
       "      <td>ee47d746-6d2f-4d3c-9622-c31412542920</td>\n",
       "      <td>68477</td>\n",
       "      <td>радермахера d-12 см h-20 см</td>\n",
       "      <td>1</td>\n",
       "      <td>112.0</td>\n",
       "      <td>0</td>\n",
       "      <td>10</td>\n",
       "      <td>2018</td>\n",
       "      <td>24592</td>\n",
       "      <td>112.0</td>\n",
       "      <td>радермахера d-12</td>\n",
       "      <td>[радермахер,  , d, -, 12, \\n]</td>\n",
       "      <td>сад-огород</td>\n",
       "    </tr>\n",
       "    <tr>\n",
       "      <th>3</th>\n",
       "      <td>2018-10-01</td>\n",
       "      <td>ee47d746-6d2f-4d3c-9622-c31412542920</td>\n",
       "      <td>68477</td>\n",
       "      <td>хризолидокарпус лутесценс d-9 см</td>\n",
       "      <td>1</td>\n",
       "      <td>179.0</td>\n",
       "      <td>0</td>\n",
       "      <td>10</td>\n",
       "      <td>2018</td>\n",
       "      <td>24592</td>\n",
       "      <td>179.0</td>\n",
       "      <td>хризолидокарпус лутесценс</td>\n",
       "      <td>[хризолидокарпус,  , лутесценс, \\n]</td>\n",
       "      <td>сад-огород</td>\n",
       "    </tr>\n",
       "    <tr>\n",
       "      <th>4</th>\n",
       "      <td>2018-10-01</td>\n",
       "      <td>ee47d746-6d2f-4d3c-9622-c31412542920</td>\n",
       "      <td>68477</td>\n",
       "      <td>циперус зумула d-12 см h-25 см</td>\n",
       "      <td>1</td>\n",
       "      <td>112.0</td>\n",
       "      <td>0</td>\n",
       "      <td>10</td>\n",
       "      <td>2018</td>\n",
       "      <td>24592</td>\n",
       "      <td>112.0</td>\n",
       "      <td>циперус зумула</td>\n",
       "      <td>[циперус,  , зумул, \\n]</td>\n",
       "      <td>сад-огород</td>\n",
       "    </tr>\n",
       "  </tbody>\n",
       "</table>\n",
       "</div>"
      ],
      "text/plain": [
       "        date                           customer_id order_id  \\\n",
       "0 2018-10-01  ee47d746-6d2f-4d3c-9622-c31412542920    68477   \n",
       "1 2018-10-01  ee47d746-6d2f-4d3c-9622-c31412542920    68477   \n",
       "2 2018-10-01  ee47d746-6d2f-4d3c-9622-c31412542920    68477   \n",
       "3 2018-10-01  ee47d746-6d2f-4d3c-9622-c31412542920    68477   \n",
       "4 2018-10-01  ee47d746-6d2f-4d3c-9622-c31412542920    68477   \n",
       "\n",
       "                                             product  quantity  price  day  \\\n",
       "0    комнатное растение в горшке алое вера, d12, h30         1  142.0    0   \n",
       "1  комнатное растение в горшке кофе арабика, d12,...         1  194.0    0   \n",
       "2                        радермахера d-12 см h-20 см         1  112.0    0   \n",
       "3                   хризолидокарпус лутесценс d-9 см         1  179.0    0   \n",
       "4                     циперус зумула d-12 см h-25 см         1  112.0    0   \n",
       "\n",
       "   month  year    num  total_price                       word  \\\n",
       "0     10  2018  24592        142.0         комнатное растение   \n",
       "1     10  2018  24592        194.0         комнатное растение   \n",
       "2     10  2018  24592        112.0           радермахера d-12   \n",
       "3     10  2018  24592        179.0  хризолидокарпус лутесценс   \n",
       "4     10  2018  24592        112.0             циперус зумула   \n",
       "\n",
       "                                lemmas    category  \n",
       "0         [комнатный,  , растение, \\n]  сад-огород  \n",
       "1         [комнатный,  , растение, \\n]  сад-огород  \n",
       "2        [радермахер,  , d, -, 12, \\n]  сад-огород  \n",
       "3  [хризолидокарпус,  , лутесценс, \\n]  сад-огород  \n",
       "4              [циперус,  , зумул, \\n]  сад-огород  "
      ]
     },
     "execution_count": 38,
     "metadata": {},
     "output_type": "execute_result"
    }
   ],
   "source": [
    "# Проверим, что получилось\n",
    "\n",
    "data.head()"
   ]
  },
  {
   "cell_type": "code",
   "execution_count": 39,
   "metadata": {},
   "outputs": [
    {
     "data": {
      "image/png": "[encoded data removed]",
      "text/plain": [
       "<Figure size 1440x360 with 1 Axes>"
      ]
     },
     "metadata": {
      "needs_background": "light"
     },
     "output_type": "display_data"
    }
   ],
   "source": [
    "# Посмотрим в какой категории сколько товаров\n",
    "\n",
    "data.groupby('category')['product'].nunique().plot(kind='bar',figsize=(20,5), grid=True)\n",
    "plt.title('Распределение товаров по категориям')\n",
    "plt.xlabel('Категории')\n",
    "plt.ylabel('Количество товара')\n",
    "plt.xticks(rotation=45)\n",
    "plt.show()"
   ]
  },
  {
   "cell_type": "markdown",
   "metadata": {},
   "source": [
    "Сильно выделяется категория \"сад-огород\". "
   ]
  },
  {
   "cell_type": "code",
   "execution_count": 40,
   "metadata": {},
   "outputs": [
    {
     "data": {
      "image/png": "[encoded data removed]",
      "text/plain": [
       "<Figure size 2160x720 with 1 Axes>"
      ]
     },
     "metadata": {},
     "output_type": "display_data"
    }
   ],
   "source": [
    "# Создадим диаграмму и посмотрим, в какой категории сколько товаров\n",
    "\n",
    "gh = data.pivot_table(index='category', values='product', aggfunc='nunique')\n",
    "(\n",
    "    gh.pivot_table(index='category', values='product')\n",
    "    .plot(kind='pie',\n",
    "          figsize=(30,10),\n",
    "          grid=True, \n",
    "          autopct='%.0f%%', \n",
    "          subplots=True, \n",
    "          legend=False \n",
    "          )\n",
    ")    \n",
    "plt.title('Распределение категорий в процентах')\n",
    "plt.ylabel(' ')\n",
    "plt.show()"
   ]
  },
  {
   "cell_type": "markdown",
   "metadata": {},
   "source": [
    "В заказах действительно почти половина относится к категории \"сад-огород\". \n"
   ]
  },
  {
   "cell_type": "code",
   "execution_count": 41,
   "metadata": {},
   "outputs": [
    {
     "data": {
      "text/plain": [
       "Text(0, 0.5, 'Выручка')"
      ]
     },
     "execution_count": 41,
     "metadata": {},
     "output_type": "execute_result"
    },
    {
     "data": {
      "image/png": "[encoded data removed]",
      "text/plain": [
       "<Figure size 2520x720 with 1 Axes>"
      ]
     },
     "metadata": {
      "needs_background": "light"
     },
     "output_type": "display_data"
    }
   ],
   "source": [
    "# Посмотрим на прибыль в разрезе категорий\n",
    "\n",
    "\n",
    "plt.figure(figsize=(35, 10))\n",
    "sns.set_theme(style=\"whitegrid\")\n",
    "\n",
    "ax = sns.barplot(x='category', y='total_price', data=data)\n",
    "ax.axes.set_title('Распреденение выручки')\n",
    "ax.set_xlabel(' ')\n",
    "ax.set_ylabel('Выручка')"
   ]
  },
  {
   "cell_type": "markdown",
   "metadata": {},
   "source": [
    "Интересно, но ситуация разитетельно отличается. \"Сад-огород\" приносит наименьшую прибыль, хотя и является самой продаваемой категорией. Больше всего средств приносит \"Дом\"."
   ]
  },
  {
   "cell_type": "markdown",
   "metadata": {},
   "source": [
    "# Построим гистограмму распределения категорий товара во времени"
   ]
  },
  {
   "cell_type": "code",
   "execution_count": 42,
   "metadata": {},
   "outputs": [
    {
     "data": {
      "image/png": "[encoded data removed]",
      "text/plain": [
       "<Figure size 2160x1080 with 1 Axes>"
      ]
     },
     "metadata": {},
     "output_type": "display_data"
    }
   ],
   "source": [
    " # Посмотрим на распределение категорий товара по времени\n",
    "    \n",
    "    \n",
    "(\n",
    "    data.pivot_table(index=['month', 'year'], columns='category', values='product', aggfunc='nunique')\n",
    "    .sort_values(by=['year', 'month'])\n",
    "    .plot(kind='bar',figsize=(30,15), grid=True)\n",
    ")    \n",
    "plt.legend()\n",
    "plt.title('Заказываемые категории товара за данный период')\n",
    "plt.xlabel('Год, месяц')\n",
    "plt.ylabel('Количество товаров')\n",
    "plt.xticks(rotation=45)\n",
    "plt.show()"
   ]
  },
  {
   "cell_type": "markdown",
   "metadata": {},
   "source": [
    "Подтверждается мысль о том, что весной резко возрастают продажи в категории \"сад-огород\". Отмечаем сезонность. На фоне этого продажи остальных категорией проседают."
   ]
  },
  {
   "cell_type": "code",
   "execution_count": 43,
   "metadata": {},
   "outputs": [
    {
     "data": {
      "image/png": "[encoded data removed]",
      "text/plain": [
       "<Figure size 1440x360 with 1 Axes>"
      ]
     },
     "metadata": {},
     "output_type": "display_data"
    },
    {
     "data": {
      "image/png": "[encoded data removed]",
      "text/plain": [
       "<Figure size 1440x360 with 1 Axes>"
      ]
     },
     "metadata": {},
     "output_type": "display_data"
    }
   ],
   "source": [
    "# Посмотрим, как изменяется выручка и количество заказов во времени\n",
    "\n",
    "fg = (\n",
    "    data.groupby(by=['year', 'month'])\n",
    "    .agg({'total_price':'sum', 'num': 'nunique'})\n",
    "    .sort_values(by=['year', 'month'])\n",
    ")    \n",
    "\n",
    "fg.plot(y='total_price', grid=True, figsize=(20,5))\n",
    "plt.title('Динамика изменения выручки')\n",
    "plt.xlabel('Год, месяц')\n",
    "plt.ylabel('Выручка')\n",
    "plt.show()\n",
    "\n",
    "fg.plot(y='num', grid=True, figsize=(20,5))\n",
    "plt.title('Динамика изменения количества заказов')\n",
    "plt.xlabel('Год, месяц')\n",
    "plt.ylabel('Количество заказов')\n",
    "plt.show()"
   ]
  },
  {
   "cell_type": "code",
   "execution_count": 44,
   "metadata": {},
   "outputs": [
    {
     "data": {
      "image/png": "[encoded data removed]",
      "text/plain": [
       "<Figure size 1440x360 with 1 Axes>"
      ]
     },
     "metadata": {},
     "output_type": "display_data"
    }
   ],
   "source": [
    "# Отобразим средний чек\n",
    "\n",
    "fg = (\n",
    "    data.pivot_table(index=['year', 'month', 'num'], values='total_price', aggfunc='sum')\n",
    "    .reset_index() \n",
    ")    \n",
    "    \n",
    "(\n",
    "    fg.groupby(by=['year', 'month'])\n",
    "    .mean()\n",
    "    .plot(figsize=(20,5), grid=True)\n",
    ")    \n",
    "    \n",
    "plt.title('Динамика изменения среднего чека')\n",
    "plt.xlabel('Год, месяц')\n",
    "plt.ylabel('Средний чек')\n",
    "plt.show()"
   ]
  },
  {
   "cell_type": "markdown",
   "metadata": {},
   "source": [
    "На основе данных:\n",
    "\n",
    "- Магазин продает большое количество бытовых вещей, стоимость которых остается не очень высокой.\n",
    "- Среди всех товаров прослеживается вный рост спроса на товары, относящиеся к категории \"сад-огород\", у которых есть четко выраженная сезонность. Чаще всего ими интересуются ближе к началу летнего периода.\n",
    "- Выручка магазина снижается к концу периода. Количество заказов сохраняется на том же уровне, уменьшился средний чек\n",
    "- Наибольшую выручку магазину приносят товары, относящиеся к категории \"дом\", стоимость которых выше\n",
    "\n",
    "\n",
    "\n",
    "\n",
    "Магазин специальзируется на продаже различных мелочей для дома по не высоким ценам. Среди заказываемых товаров преобладают дешевые и средней стоимости товары. Так же было определено, что магазин продает не дорогие товары сезонного характера, присущие летнему периоду. За предоставленный период выручка магазина снижается, количество заказов примерно стается на том же уровне, но средний чек заказа значительно уменьшился по сравнению с началом периода. В магазине в основном представлены товары среднего ценнового сегмента от 100 до 500, но большую выручку приносят товары премеум сегмента стоимостью от 1000."
   ]
  },
  {
   "cell_type": "code",
   "execution_count": null,
   "metadata": {},
   "outputs": [],
   "source": []
  },
  {
   "cell_type": "markdown",
   "metadata": {},
   "source": [
    "# Шаг 3 Кластеризация"
   ]
  },
  {
   "cell_type": "markdown",
   "metadata": {},
   "source": [
    "Провести кластеризацию, обозначить кластеры продуктов и описать признаки"
   ]
  },
  {
   "cell_type": "code",
   "execution_count": 45,
   "metadata": {},
   "outputs": [],
   "source": [
    "# Создадим столбец с выручкой\n",
    "\n",
    "data['revenue'] = data['price'] * data['quantity']"
   ]
  },
  {
   "cell_type": "code",
   "execution_count": 46,
   "metadata": {},
   "outputs": [
    {
     "data": {
      "text/plain": [
       "<AxesSubplot:>"
      ]
     },
     "execution_count": 46,
     "metadata": {},
     "output_type": "execute_result"
    },
    {
     "data": {
      "image/png": "[encoded data removed]",
      "text/plain": [
       "<Figure size 216x864 with 1 Axes>"
      ]
     },
     "metadata": {},
     "output_type": "display_data"
    }
   ],
   "source": [
    "# Визуализируем столбец, чтобы посмотреть на выбросы\n",
    "\n",
    "data.boxplot('revenue', figsize=(3, 12))"
   ]
  },
  {
   "cell_type": "markdown",
   "metadata": {},
   "source": [
    "Выбросы есть, нам нужно их убрать, прежде чем идти дальше\n"
   ]
  },
  {
   "cell_type": "code",
   "execution_count": 47,
   "metadata": {},
   "outputs": [],
   "source": [
    "data.drop(data[data['quantity'] == 1000].index, inplace=True)"
   ]
  },
  {
   "cell_type": "code",
   "execution_count": 48,
   "metadata": {},
   "outputs": [],
   "source": [
    "data_x = data[['price', 'quantity', 'revenue']]"
   ]
  },
  {
   "cell_type": "code",
   "execution_count": 49,
   "metadata": {},
   "outputs": [],
   "source": [
    "sc = StandardScaler()\n",
    "x_sc = sc.fit_transform(data_x)"
   ]
  },
  {
   "cell_type": "code",
   "execution_count": 50,
   "metadata": {},
   "outputs": [
    {
     "ename": "SyntaxError",
     "evalue": "invalid syntax (121170063.py, line 1)",
     "output_type": "error",
     "traceback": [
      "\u001b[0;36m  File \u001b[0;32m\"/tmp/ipykernel_293/121170063.py\"\u001b[0;36m, line \u001b[0;32m1\u001b[0m\n\u001b[0;31m    Посмотрим, как выглядит агломерация кластеров товаров\u001b[0m\n\u001b[0m                                                         ^\u001b[0m\n\u001b[0;31mSyntaxError\u001b[0m\u001b[0;31m:\u001b[0m invalid syntax\n"
     ]
    }
   ],
   "source": [
    "Посмотрим, как выглядит агломерация кластеров товаров\n",
    "\n",
    "linked = linkage(x_sc, method='ward')\n",
    "plt.figure(figsize=(25, 13))\n",
    "plt.title('Иерархическая агломерация кластеров товаров', fontsize=14)\n",
    "dendrogram(linked, orientation='top', leaf_rotation=45., leaf_font_size = 8., truncate_mode='lastp', p=100, color_threshold=80)\n",
    "plt.show()"
   ]
  },
  {
   "cell_type": "markdown",
   "metadata": {},
   "source": [
    "Выделяем два кластера"
   ]
  },
  {
   "cell_type": "code",
   "execution_count": null,
   "metadata": {},
   "outputs": [],
   "source": [
    "model_km = KMeans(n_clusters = 2, random_state = 0)\n",
    "labels = model_km.fit_predict(x_sc)"
   ]
  },
  {
   "cell_type": "code",
   "execution_count": null,
   "metadata": {},
   "outputs": [],
   "source": [
    "# Группируем\n",
    "\n",
    "data['cluster'] = labels\n",
    "data.groupby('cluster')[['quantity', 'price', 'revenue']].mean()"
   ]
  },
  {
   "cell_type": "code",
   "execution_count": null,
   "metadata": {},
   "outputs": [],
   "source": [
    "cluster0 = data[data['cluster'] == 0]\n",
    "cluster1 = data[data['cluster'] == 1]"
   ]
  },
  {
   "cell_type": "code",
   "execution_count": null,
   "metadata": {},
   "outputs": [],
   "source": [
    "features = data[['quantity', 'price', 'revenue']]"
   ]
  },
  {
   "cell_type": "code",
   "execution_count": null,
   "metadata": {},
   "outputs": [],
   "source": [
    "# Построим графики по количеству, стоимости и прибыли\n",
    "\n",
    "for feature in features.columns: \n",
    "    plt.figure(figsize=(12, 8))\n",
    "    sns.distplot(cluster0[feature], bins=20, color='C1', label=0)\n",
    "    sns.distplot(cluster1[feature], bins=5, color='C2', label=1)\n",
    "    plt.legend(title='Кластер')\n",
    "    plt.xlabel('')\n",
    "    plt.title(feature)\n",
    "    plt.show()"
   ]
  },
  {
   "cell_type": "markdown",
   "metadata": {},
   "source": [
    "Товары из первого кластера приобретают меньше (1,8 по количеству) с ценой (в среднем) 302, хотя в некоторых случаях она может доходить до 2500 или более. Средняя выручка - 383. \n",
    "\n",
    "Товары из второго кластера приобретают чаще (2,2 по количеству), средний ценник сильно выше - 3308, а прибыль - 4189 в среднем\n"
   ]
  },
  {
   "cell_type": "code",
   "execution_count": null,
   "metadata": {},
   "outputs": [],
   "source": [
    "# Создадим график и посмотрим на количество купленных товарных наименований в кластерах по категориям\n",
    "\n",
    "plt.figure(figsize=(15, 9))\n",
    "sns.countplot(data=data, x='category', hue='cluster', palette=['C1', 'C2', 'C3'], order=data['category'].value_counts().index)\n",
    "plt.xticks(rotation=45, rotation_mode='anchor', ha='right', fontsize=9)\n",
    "plt.title('Количество оформленных товаров по категориям в кластерах')\n",
    "plt.xlabel('')\n",
    "plt.ylabel('')\n",
    "plt.legend(title='Кластер')\n",
    "plt.show()"
   ]
  },
  {
   "cell_type": "markdown",
   "metadata": {},
   "source": [
    "За исключением некоторых товаров из категорий \"дом\" и \"уют\" большинство товаров относится к первому (\"0\") кластеру. И в категориях \"дом\" и \"уют\" большая часть товаров тоже из первого кластера."
   ]
  },
  {
   "cell_type": "markdown",
   "metadata": {},
   "source": [
    "# Вывод\n",
    "\n",
    "Мы провели кластеризацию, выделили 2 кластера.\n",
    "\n",
    "В первый кластер попали товары из категорий \"сад-огород\", \"дом\", \"уют\", \"посуда\", \"хозтовары\".\n",
    "Во второй кластер попали товары из категорий \"дом\" и \"уют\".\n",
    "\n",
    "Первый кластер объединяет более дешевые товары (302 средняя цена), со средней выручкой в 383. В среднем их приобретают в количестве 1,8.\n",
    "\n",
    "Второй кластер объединяет более дорогие товары: 3308 за покупку, 2.2 - среднее количество. Выручка в среднем: 4189\n",
    "\n"
   ]
  },
  {
   "cell_type": "markdown",
   "metadata": {},
   "source": [
    "# Шаг 4. Анализ ключевых бизнес-метрик продуктового ассортимента"
   ]
  },
  {
   "cell_type": "markdown",
   "metadata": {},
   "source": [
    "- Выявить сезонность продаж;\n",
    "- Посчитать количество уникальных пользователей за период DAU, WAU, MAU и за сезон;\n",
    "- Посчитать количество заказов за сезон и в разбивке по кластерам;\n",
    "- Проанализировать динамику среднего чека во времени;\n",
    "- Проанализировать динамику среднего чека по кластерам;\n",
    "- Посчитать выручку за период и в разбивке по кластерам;"
   ]
  },
  {
   "cell_type": "code",
   "execution_count": null,
   "metadata": {},
   "outputs": [],
   "source": [
    "# Приведем типы к нужному виду для работы в этом шаге и напишем функцию для сезонности, применим ее\n",
    "\n",
    "data['month'] = data['date'].dt.strftime('%Y-%m')\n",
    "data['week'] = data['date'].dt.strftime('%Y-%U')\n",
    "data['day'] = data['date'].dt.dayofweek\n",
    "data['order_date'] = data['date'].dt.date\n",
    "data['hour'] = data['date'].dt.hour\n",
    "\n",
    "\n",
    "def season_func(x):\n",
    "    if '-01' in x or '02' in x or '12' in x: \n",
    "        return 'зима'\n",
    "    elif '03' in x or '04' in x or '05' in x: \n",
    "        return 'весна'\n",
    "    elif '06' in x or '07' in x or '08' in x:\n",
    "        return 'лето'\n",
    "    else:\n",
    "        return 'осень'\n",
    "    \n",
    "data['season'] = data['month'].apply(season_func)"
   ]
  },
  {
   "cell_type": "markdown",
   "metadata": {},
   "source": [
    "## Пользователськая активность dau, wau, mau"
   ]
  },
  {
   "cell_type": "code",
   "execution_count": null,
   "metadata": {},
   "outputs": [],
   "source": [
    "# Посмотрим на метрики пользовательской активности\n",
    "\n",
    "dau_total = data.groupby('order_date').agg({'customer_id':'nunique'}).mean()\n",
    "wau_total = data.groupby('week').agg({'customer_id':'nunique'}).mean()\n",
    "mau_total = data.groupby('month').agg({'customer_id':'nunique'}).mean()\n",
    "\n",
    "print('Среднее количество уникальных пользователей в день: {} человек.'.format(int(dau_total)))\n",
    "print('Среднее количество уникальных пользователей в неделю: {} человек.'.format(int(wau_total)))\n",
    "print('Среднее количество уникальных пользователей в месяць: {} человек.'.format(int(mau_total)))"
   ]
  },
  {
   "cell_type": "code",
   "execution_count": null,
   "metadata": {},
   "outputs": [],
   "source": [
    "sticky_wau = (dau_total / wau_total) * 100\n",
    "sticky_mau = (dau_total / mau_total) * 100\n",
    "print('Недельная аудитория: {:0.2f}%'.format(sticky_wau[0]))\n",
    "print('Месячная аудитория: {:0.2f}%'.format(sticky_mau[0]))"
   ]
  },
  {
   "cell_type": "code",
   "execution_count": null,
   "metadata": {},
   "outputs": [],
   "source": [
    "# Теперь оценим динамику изменения количества уникальных пользователей во времени\n",
    "\n",
    "data.groupby('order_date').agg({'customer_id':'nunique'}).plot(figsize=(20, 9), color='C1', legend=False)\n",
    "plt.title('Количество уникальных пользователей в день')\n",
    "plt.xlabel('')\n",
    "plt.ylabel('')\n",
    "plt.show()"
   ]
  },
  {
   "cell_type": "code",
   "execution_count": null,
   "metadata": {},
   "outputs": [],
   "source": [
    "data.groupby('week').agg({'customer_id':'nunique'}).plot(figsize=(20, 9), color='C1', legend=False)\n",
    "plt.title('Количество уникальных пользователей в неделю')\n",
    "plt.xlabel('')\n",
    "plt.ylabel('')\n",
    "plt.show()\n"
   ]
  },
  {
   "cell_type": "code",
   "execution_count": null,
   "metadata": {},
   "outputs": [],
   "source": [
    "data.groupby('month').agg({'customer_id':'nunique'}).plot(figsize=(20, 9), color='C1', legend=False)\n",
    "plt.title('Количество уникальных пользователей в месяц')\n",
    "plt.xlabel('')\n",
    "plt.ylabel('')\n",
    "plt.show()\n"
   ]
  },
  {
   "cell_type": "markdown",
   "metadata": {},
   "source": [
    "В месяц - наибольшее число покупателей приходится на декабрь и февраль. Небольшой скачок есть и в апреле, в остальные месяцы продажи ниже. Хотя и есть всплеск в июле. \n",
    "\n",
    "Посмотрим на количественную разницу по покупателям в разные сезоны.\n",
    "\n"
   ]
  },
  {
   "cell_type": "code",
   "execution_count": null,
   "metadata": {},
   "outputs": [],
   "source": [
    "data.query('month != \"2018-10\"').groupby('season').agg(\n",
    "    {'customer_id':'nunique'}).plot(kind='bar', figsize=(12, 6), color='C1', legend=False)\n",
    "plt.title('Число покупателей в разное время года')\n",
    "plt.xlabel('')\n",
    "plt.ylabel('')\n",
    "plt.show()"
   ]
  },
  {
   "cell_type": "markdown",
   "metadata": {},
   "source": [
    "Больше всего покупателей весной и зимо (более 600 пользователей). Летом - меньше всего, около 500. При этом сезоны бьютса на 2 примерно схожих по своим внутренним данным - весна-зима и лето-осень"
   ]
  },
  {
   "cell_type": "code",
   "execution_count": null,
   "metadata": {},
   "outputs": [],
   "source": [
    "# летне-весенний сезон\n",
    "\n",
    "spring_summer = data.query('season == \"лето\"' and 'season == \"весна\"')"
   ]
  },
  {
   "cell_type": "code",
   "execution_count": null,
   "metadata": {},
   "outputs": [],
   "source": [
    "# осенне-зимний\n",
    "\n",
    "autumn_winter = data.query('season == \"осень\"' and 'season == \"зима\"')"
   ]
  },
  {
   "cell_type": "code",
   "execution_count": null,
   "metadata": {},
   "outputs": [],
   "source": [
    "# Напишем функцию\n",
    "\n",
    "def time_func(season):\n",
    "    if (season == 'лето') or (season == 'весна'):\n",
    "        return 'ss'\n",
    "    else: \n",
    "        return 'aw'\n",
    "    \n",
    "data['year_time'] = data['season'].apply(time_func)"
   ]
  },
  {
   "cell_type": "markdown",
   "metadata": {},
   "source": [
    "## Анализ количества заказов"
   ]
  },
  {
   "cell_type": "code",
   "execution_count": null,
   "metadata": {},
   "outputs": [],
   "source": [
    "# Отобразим на графике количество заказов по сезонам\n",
    "\n",
    "data.query('month != \"2018-10\"').groupby('season').agg(\n",
    "    {'order_id':'nunique'}).plot(kind='bar', figsize=(12, 6), color='C1', legend=False)\n",
    "plt.title('Число заказов в разное время года')\n",
    "plt.xlabel('')\n",
    "plt.ylabel('')\n",
    "plt.show()"
   ]
  },
  {
   "cell_type": "markdown",
   "metadata": {},
   "source": [
    "Зимой больше всего заказов. Летом - меньше всего. Посмотрим, как распределились продажи в кластерах по сезонам."
   ]
  },
  {
   "cell_type": "code",
   "execution_count": null,
   "metadata": {},
   "outputs": [],
   "source": [
    "plt.figure(figsize=(12, 7))\n",
    "sns.countplot(data=data, x='year_time', hue='cluster', palette=['C1', 'C2'])\n",
    "plt.title('Количество оформленных товаров в разные сезоны в кластерах')\n",
    "plt.xlabel('')\n",
    "plt.ylabel('')\n",
    "plt.legend(title='Кластер')\n",
    "plt.show()"
   ]
  },
  {
   "cell_type": "markdown",
   "metadata": {},
   "source": [
    "В первом кластере преобладают товары из весенне-летнего периода. Во втором кластере из осенне-зимнего. \n",
    "\n",
    "Важо понимать, когда выручка магазина растет, какие товары приносят ее и в какое время"
   ]
  },
  {
   "cell_type": "code",
   "execution_count": null,
   "metadata": {},
   "outputs": [],
   "source": [
    "unique_orders = data.pivot_table(\n",
    "    index='category', columns=['cluster', 'year_time'], values='order_id', aggfunc='nunique')\n",
    "plt.figure(figsize=(15, 15))\n",
    "sns.heatmap(unique_orders, annot=True, fmt='.2f', linewidth=0.1, cmap='viridis')\n",
    "plt.title('Количество уникальных заказов в категориях по сегментам и сезонам')\n",
    "plt.xlabel('')\n",
    "plt.ylabel('')\n",
    "plt.show()"
   ]
  },
  {
   "cell_type": "markdown",
   "metadata": {},
   "source": [
    "Итак, в первом кластере летом и зимой чаще всего пробретали что-то из категории \"сад-огород\". Также популярна категория \"дом\".\n",
    "\n",
    "Весной и летом активнее приобретают товары из категорий \"дом\" и \"уют\"\n"
   ]
  },
  {
   "cell_type": "code",
   "execution_count": null,
   "metadata": {},
   "outputs": [],
   "source": [
    "products_sold = data.pivot_table(\n",
    "    index='category', columns=['cluster', 'year_time'], values='product', aggfunc='count')\n",
    "plt.figure(figsize=(15, 15))\n",
    "sns.heatmap(products_sold, annot=True, fmt='.2f', linewidth=0.1, cmap='viridis')\n",
    "plt.title('Количество купленных наименований продуктов по кластерам и сезонам')\n",
    "plt.xlabel('')\n",
    "plt.ylabel('')\n",
    "plt.show()"
   ]
  },
  {
   "cell_type": "markdown",
   "metadata": {},
   "source": [
    "Поскольку один пользователь может сразу купить несколько товаров, количество проданных продуктов лучше показывает распределение по кластерам.\n",
    "\n",
    "Второй кластер не сильно поменлся. А в первом разные наименования из категорий \"сад-огород\" и \"дом\" часто оказываются в одной корзине\n"
   ]
  },
  {
   "cell_type": "markdown",
   "metadata": {},
   "source": [
    "## Анализ коммерческих показателей: выручка и средний чек"
   ]
  },
  {
   "cell_type": "code",
   "execution_count": null,
   "metadata": {},
   "outputs": [],
   "source": [
    "# Найдем общую выручку за весь период и среднюю выручку с заказа.\n",
    "\n",
    "print('Суммарная выручка за период с 1 октября 2018 по 31 октября 2019 составляет {} '.format(\n",
    "    data['revenue'].sum()))"
   ]
  },
  {
   "cell_type": "code",
   "execution_count": null,
   "metadata": {},
   "outputs": [],
   "source": [
    "revenue_avg = data.groupby('customer_id').agg({'revenue':'sum'}).mean()\n",
    "print('Средний чек заказа: {} '.format(int(revenue_avg)))"
   ]
  },
  {
   "cell_type": "markdown",
   "metadata": {},
   "source": [
    "Посмотрим на динамику выручки за день, месяц, сезон, а также в разрезе по кластерам. \n",
    "Оценим выручку в различных категориях товаров."
   ]
  },
  {
   "cell_type": "code",
   "execution_count": null,
   "metadata": {},
   "outputs": [],
   "source": [
    "revenue_per_day = data.pivot_table(index=['order_date', 'cluster'], values=['customer_id', 'revenue'], aggfunc={\n",
    "    'customer_id':'nunique', 'revenue':'sum'}).reset_index(level='cluster')\n",
    "revenue_per_month = data.pivot_table(index=['month', 'cluster'], values=['customer_id', 'revenue', 'order_id'], aggfunc={\n",
    "    'customer_id':'nunique', 'revenue':'sum', 'order_id':'nunique'}).reset_index(level='cluster')\n",
    "revenue_per_season = data.pivot_table(index=['year_time', 'cluster'], values=['customer_id', 'revenue', 'order_id'], aggfunc={\n",
    "    'customer_id':'nunique', 'revenue':'sum', 'order_id':'nunique'}).reset_index()"
   ]
  },
  {
   "cell_type": "code",
   "execution_count": null,
   "metadata": {},
   "outputs": [],
   "source": [
    "revenue_per_day.groupby('order_date')['revenue'].sum().plot(figsize=(18, 9), color='C1')\n",
    "plt.title('Суммарная выручка в день')\n",
    "plt.xlabel('')\n",
    "plt.show()"
   ]
  },
  {
   "cell_type": "markdown",
   "metadata": {},
   "source": [
    "Выделяется один из дней в январе, который превзошел все остальные очень сильно. В остальном, у магазина иногда случаются очень удачные дни с хорошей выручкой"
   ]
  },
  {
   "cell_type": "code",
   "execution_count": null,
   "metadata": {},
   "outputs": [],
   "source": [
    "revenue_per_month.groupby('month')['revenue'].sum().plot(figsize=(18, 9), color='C1')\n",
    "plt.title('Суммарная выручка в месяц')\n",
    "plt.xlabel('')\n",
    "plt.show()"
   ]
  },
  {
   "cell_type": "markdown",
   "metadata": {},
   "source": [
    "Если сравнивать по месяцам, то октябрь 2018 года сильно опережает октябрь 2019 года. Доход резко упал ближе к концу выборки, хотя годом ранее октябрь был достаточно удачным, затем был всплекс в декабре, апреле и июне. И все же, выручка падала\n"
   ]
  },
  {
   "cell_type": "code",
   "execution_count": null,
   "metadata": {},
   "outputs": [],
   "source": [
    "# Посмотрим на выручку по сезонам\n",
    "\n",
    "revenue_per_season.groupby('year_time').agg({'revenue':'sum'})"
   ]
  },
  {
   "cell_type": "code",
   "execution_count": null,
   "metadata": {},
   "outputs": [],
   "source": [
    "# Без учета октября 2018\n",
    "\n",
    "data.query('month != \"2018-10\"').groupby('year_time').agg({'revenue':'sum'})"
   ]
  },
  {
   "cell_type": "markdown",
   "metadata": {},
   "source": [
    "Осенне-зимний сезон прибыльнее весенне-летнего"
   ]
  },
  {
   "cell_type": "code",
   "execution_count": null,
   "metadata": {},
   "outputs": [],
   "source": [
    "plt.figure(figsize=(18, 9))\n",
    "revenue_per_day[revenue_per_day['cluster'] == 0]['revenue'].plot(color='C1', label=0)\n",
    "revenue_per_day[revenue_per_day['cluster'] == 1]['revenue'].plot(color='C2', label=1)\n",
    "plt.title('Суммарная выручка за день в разбивке по кластерам')\n",
    "plt.xlabel('')\n",
    "plt.legend(title='Кластер')\n",
    "plt.show()"
   ]
  },
  {
   "cell_type": "code",
   "execution_count": null,
   "metadata": {},
   "outputs": [],
   "source": [
    "plt.figure(figsize=(18, 9))\n",
    "revenue_per_month[revenue_per_month['cluster'] == 0]['revenue'].plot(color='C1', label=0)\n",
    "revenue_per_month[revenue_per_month['cluster'] == 1]['revenue'].plot(color='C2', label=1)\n",
    "plt.title('Суммарная выручка за месяц в разбивке по кластерам')\n",
    "plt.xlabel('')\n",
    "plt.legend(title='Кластер')\n",
    "plt.show()\n"
   ]
  },
  {
   "cell_type": "markdown",
   "metadata": {},
   "source": [
    "Товары из второго кластера заказывают реже, поэтому их месячна выручка ниже, но дневная выше"
   ]
  },
  {
   "cell_type": "code",
   "execution_count": null,
   "metadata": {},
   "outputs": [],
   "source": [
    "plt.figure(figsize=(13, 9))\n",
    "sns.barplot(data=revenue_per_season, y='revenue', x='year_time', hue='cluster', palette=['C1', 'C2'])\n",
    "plt.xlabel('')\n",
    "plt.ylabel('')\n",
    "plt.title('Суммарная выручка за сезон в разрезе кластеров')\n",
    "plt.legend(title='Кластер')\n",
    "plt.show()"
   ]
  },
  {
   "cell_type": "markdown",
   "metadata": {},
   "source": [
    "Суммарная выручка за осенне-зимний период выше. Общая сумма проданных товаров первого кластера больше, чем второго."
   ]
  },
  {
   "cell_type": "code",
   "execution_count": null,
   "metadata": {},
   "outputs": [],
   "source": [
    "revenue_per_category = data.pivot_table(\n",
    "    index='category', columns=['cluster', 'year_time'], values='revenue', aggfunc='sum')\n",
    "plt.figure(figsize=(15, 15))\n",
    "sns.heatmap(revenue_per_category, annot=True, fmt='.2f', linewidth=0.1, cmap='viridis')\n",
    "plt.title('Суммарная выручка с категории товара в разрезе по кластерам и сезонам')\n",
    "plt.xlabel('')\n",
    "plt.ylabel('')\n",
    "plt.show()"
   ]
  },
  {
   "cell_type": "code",
   "execution_count": null,
   "metadata": {},
   "outputs": [],
   "source": [
    "avg_revenue_per_category = data.pivot_table(\n",
    "    index='category', columns=['cluster', 'year_time'], values='revenue', aggfunc='mean')\n",
    "plt.figure(figsize=(15, 15))\n",
    "sns.heatmap(avg_revenue_per_category, annot=True, fmt='.2f', linewidth=0.1, cmap='viridis')\n",
    "plt.title('Средняя выручка с категории товара в разрезе по кластерам и сезонам')\n",
    "plt.xlabel('')\n",
    "plt.ylabel('')\n",
    "plt.show()"
   ]
  },
  {
   "cell_type": "markdown",
   "metadata": {},
   "source": [
    "Итак, суммарная выручка по некоторым категориям первого кластера эквивалентна выручке с продаж из категорией по второму кластеру.\n",
    "\n",
    "Посмотрим на показатели среднего чека с заказа за весь период и в разрезе по сегментам."
   ]
  },
  {
   "cell_type": "code",
   "execution_count": null,
   "metadata": {},
   "outputs": [],
   "source": [
    "avg_check = data.groupby('month').agg({'revenue':'sum', 'order_id':'nunique'})\n",
    "avg_check['revenue_per_order'] = avg_check['revenue'] / avg_check['order_id']"
   ]
  },
  {
   "cell_type": "code",
   "execution_count": null,
   "metadata": {},
   "outputs": [],
   "source": [
    "avg_check.plot(figsize=(18, 9), y='revenue_per_order', color='C1', legend=False)\n",
    "plt.title('Динамика среднего чека по месяцам')\n",
    "plt.xlabel('')\n",
    "plt.show()"
   ]
  },
  {
   "cell_type": "markdown",
   "metadata": {},
   "source": [
    "Средний чек не стабилен. Зимой падал, в летние месяцы взлетел вверх, осенью вновь просел.\n"
   ]
  },
  {
   "cell_type": "code",
   "execution_count": null,
   "metadata": {},
   "outputs": [],
   "source": [
    "avg_check_cluster = data.groupby(['month', 'cluster']).agg(\n",
    "    {'revenue':'sum','customer_id':'nunique','order_id':'nunique'}).reset_index(level='cluster')\n",
    "avg_check_cluster['revenue_per_order'] = avg_check_cluster['revenue'] / avg_check_cluster['order_id']\n"
   ]
  },
  {
   "cell_type": "code",
   "execution_count": null,
   "metadata": {},
   "outputs": [],
   "source": [
    "plt.figure(figsize=(18, 9))\n",
    "avg_check_cluster[avg_check_cluster['cluster'] == 0]['revenue_per_order'].plot(color='C1', label=0)\n",
    "avg_check_cluster[avg_check_cluster['cluster'] == 1]['revenue_per_order'].plot(color='C2', label=1)\n",
    "plt.legend(title='Кластер')\n",
    "plt.xlabel('')\n",
    "plt.show()"
   ]
  },
  {
   "cell_type": "markdown",
   "metadata": {},
   "source": [
    "Средний чек товаров из первого кластера поднимался вверх в июне. \n",
    "\n",
    "Средний чек заказов из второго кластера всегда выже. У него есть два пиковых времени - январь и май.\n"
   ]
  },
  {
   "cell_type": "code",
   "execution_count": null,
   "metadata": {},
   "outputs": [],
   "source": [
    "avg_check_cluster_season = data.groupby(['year_time', 'cluster']).agg(\n",
    "    {'revenue':'sum', 'order_id':'nunique'}).reset_index(level='cluster').reset_index()\n",
    "avg_check_cluster_season['revenue_per_order'] = avg_check_cluster_season['revenue'] / avg_check_cluster_season['order_id']"
   ]
  },
  {
   "cell_type": "code",
   "execution_count": null,
   "metadata": {},
   "outputs": [],
   "source": [
    "plt.figure(figsize=(13, 9))\n",
    "sns.barplot(data=avg_check_cluster_season, y='revenue_per_order', x='year_time', hue='cluster', palette=['C1', 'C2'])\n",
    "plt.xlabel('')\n",
    "plt.ylabel('')\n",
    "plt.title('Средний чек на сезонные товары в разрезе кластеров')\n",
    "plt.legend(title='Кластер')\n",
    "plt.show()\n"
   ]
  },
  {
   "cell_type": "markdown",
   "metadata": {},
   "source": [
    "Интересно, но сезонность почти не влияет на средний чек. Разница есть, но она минимальная в пользу весенне-летнего периода.\n",
    "\n",
    "Посмотрим на прибыльность товаров по разным категориям. Составим топ-5 в каждой категории по выручке, топ-10 наиболее прибыльных летом и зимой\n"
   ]
  },
  {
   "cell_type": "code",
   "execution_count": null,
   "metadata": {},
   "outputs": [],
   "source": [
    "category = data['category'].unique()\n",
    "for i in category:\n",
    "    display(i, data[data['category'] == i].groupby('product').agg(\n",
    "        {'order_id':'nunique', 'quantity':'sum', 'revenue':'sum'}).sort_values(by='revenue', ascending=False).head(5))"
   ]
  },
  {
   "cell_type": "markdown",
   "metadata": {},
   "source": [
    "В каждой таблице есть данные, сколько товаров было приобретено и сумму, которую они принесли:\n",
    "\n",
    "\"Сад-огород\":\n",
    "- состоит из растений. Их покупают много и часто.\n",
    "- наибольшая выручка у спатифиллум свит лауретта (10 штук, 17 620)\n",
    "\n",
    "\"Дом\":\n",
    "- приобретают сумки и гладильные доски.\n",
    "- больше всего принесла сумка-тележка (70 штук 76 090)\n",
    "\n",
    "\"Хозтовары\":\n",
    "- всевозможные хозтовары разного калибра\n",
    "- больше всего принесла урна (5 штук, 24370)\n",
    "\n",
    "\"Посуда\":\n",
    "- довольно часто приобретают тарелки, хотя наибольшую выручку принесла модульная стеклянная банка (7 штук, 5775)\n",
    "\n",
    "\"Уют\"\n",
    "- сразу три единицы относятся к спальне\n",
    "- наибольшую выручку принесла простынь вафельная (54 штуки, 16 888)\n",
    "\n",
    "\n"
   ]
  },
  {
   "cell_type": "code",
   "execution_count": null,
   "metadata": {},
   "outputs": [],
   "source": [
    "season = data['year_time'].unique()\n",
    "for i in season:\n",
    "    display(i, data[data['year_time'] == i].groupby('product').agg(\n",
    "        {'order_id':'nunique', 'quantity':'sum', 'revenue':'sum'}).sort_values(by='revenue', ascending=False).head(10))"
   ]
  },
  {
   "cell_type": "markdown",
   "metadata": {},
   "source": [
    "Самый прибыльный товар осенью-зимой: вафельная простыня (летом-весной нет в топе)\n",
    "Самый прибыльный товар весной-летом: умка-тележка 2-х колесная (популярна и в осенне-зимний период)\n"
   ]
  },
  {
   "cell_type": "markdown",
   "metadata": {},
   "source": [
    "# Вывод\n",
    "\n",
    "\n",
    "**Среднее количество уникальных пользователей в день**: 7 человек.\n",
    "\n",
    "**Среднее количество уникальных пользователей в неделю**: 45 человек.\n",
    "\n",
    "**Среднее количество уникальных пользователей в месяць**: 192 человек.\n",
    "\n",
    "**Недельная аудитория**: 16.60%\n",
    "\n",
    "**Месячная аудитория**: 3.92%\n",
    "\n",
    "**Наибольшие месяцы по пользователям**: декабрь, февраль, март, апрель.\n",
    "\n",
    "**Меньше всего покупателей**: июнь, июль, август - около 500 человек\n",
    "\n",
    "**Сезон с наибольшим количество заказов**: зима\n",
    "\n",
    "**Сезон с наименьшим количество заказов**: лето\n",
    "\n",
    "**Суммарная выручка за период**: выше за осенне-зимний, а вообще составляет 3938022\n",
    "\n",
    "**Общая сумма проданных товаров**: выше у первого кластера\n",
    "\n",
    "**Средний чек**: 1621, наблюдается сильное падение. \n",
    "\n",
    "**Суммарная выручка некоторых категорий первого кластера схожа с продажами по категориям второго**: с 1700 до 1200 за весь период, хотя был явный рост в середине года\n",
    "\n",
    "**Сезонность не влияет на сердний чек**: изменения минимальны, около 100\n",
    "\n",
    "**По количеству заказы товаров из второго кластера**: происходят реже, но дневная выручка выше. Месячная меньше из-за редкости \n",
    "\n",
    "**Прибыльность**: осенне-зимний сезон прибыльнее весенне-летнего даже без учета октября, с корторого начинается исследование\n",
    "\n",
    "**Октябрь 2018 прибыльнее октбря 2019**: разница колоссальна. Падение пришлось на август и сентябрь, менее 200 000\n",
    "\n",
    "В первом кластере больше товаров из весенне-летнего сезона. Во втором - осенне-зимнего. Чаще всег приобретают товары категории \"Сад-огород\"\n",
    "\n",
    "\n",
    "\n",
    "\n",
    "\n",
    "\n",
    "\n",
    "\n"
   ]
  },
  {
   "cell_type": "markdown",
   "metadata": {},
   "source": [
    "# Шаг 5. Статистический анализ данных"
   ]
  },
  {
   "cell_type": "markdown",
   "metadata": {},
   "source": [
    "- Выявить взаоимосвязи между кластерами товаров;\n",
    "- Выяснить наиболее и наименее прибыльные кластеры товаров;\n",
    "- На основе сезонности популярности тех или иных сегментов товаров, спрогнозировать динамику будущих продаж;"
   ]
  },
  {
   "cell_type": "markdown",
   "metadata": {},
   "source": [
    "## Взаимосвязь кластеров"
   ]
  },
  {
   "cell_type": "code",
   "execution_count": null,
   "metadata": {},
   "outputs": [],
   "source": [
    "# Для оценки разницы прибыльности кластеров используем статистические методы анализа.\n",
    "\n",
    "cm = data.groupby(['year_time']).corr()\n",
    "plt.figure(figsize=(15,15))\n",
    "sns.heatmap(cm, annot=True, linewidth=0.1, fmt='.2f', cmap='viridis')\n",
    "plt.ylabel('')\n",
    "plt.title('Матрица корреляции')\n",
    "plt.show()"
   ]
  },
  {
   "cell_type": "markdown",
   "metadata": {},
   "source": [
    "Видно, на показатель влиют сезонность, выручка, цена. По сезонам прослеживается корреляция с количеством и выручкой. \n",
    "\n",
    "Сформулируем гипотезы о равенстве кластеров по выручке и среднем чеке и проверим разницу показателей с помощью теста для независимых выборок"
   ]
  },
  {
   "cell_type": "markdown",
   "metadata": {},
   "source": [
    "## Статистический тест на равенство выручек кластеров"
   ]
  },
  {
   "cell_type": "markdown",
   "metadata": {},
   "source": [
    "**Нулевая гипотеза**: Выручки разных кластеров товаров равны.\n",
    "\n",
    "**Альтернативная гипотеза**: Выручки разных кластеров товаров отличаются.\n",
    "\n",
    "Для проведения теста необходимо проверить равны ли дисперсии выборок."
   ]
  },
  {
   "cell_type": "code",
   "execution_count": null,
   "metadata": {},
   "outputs": [],
   "source": [
    "sam_rev_0 = cluster0['revenue']\n",
    "sam_rev_1 = cluster1['revenue']"
   ]
  },
  {
   "cell_type": "code",
   "execution_count": null,
   "metadata": {},
   "outputs": [],
   "source": [
    "print('Дисперсия выручки 0-го кластера: {}'.format(np.var(sam_rev_0, ddof=1)))\n",
    "print('Дисперсия выручки 1-го кластера: {}'.format(np.var(sam_rev_1, ddof=1)))\n",
    "print('Соотношение дисперсий: {}'.format((np.var(sam_rev_1, ddof=1))/(np.var(sam_rev_0, ddof=1))))"
   ]
  },
  {
   "cell_type": "markdown",
   "metadata": {},
   "source": [
    "Соотношение дисперсий слишком высоко, при проведение теста необходимо учитывать параметр equal_var."
   ]
  },
  {
   "cell_type": "code",
   "execution_count": null,
   "metadata": {},
   "outputs": [],
   "source": [
    "alpha = 0.05 \n",
    "results = st.ttest_ind(sam_rev_0, sam_rev_1, equal_var=False)\n",
    "print('p-значение: ', results.pvalue)\n",
    "if results.pvalue < alpha:\n",
    "    print('Отвергаем нулевую гипотезу: между выборками есть значимая разница')\n",
    "else:\n",
    "    print('Не получилось отвергнуть нулевую гипотезу, нет оснований считать выборки разными')"
   ]
  },
  {
   "cell_type": "code",
   "execution_count": null,
   "metadata": {},
   "outputs": [],
   "source": [
    "print('Средняя выручка 0-го кластера: {:.2f}'.format(np.mean(sam_rev_0)))\n",
    "print('Средняя выручка 1-го кластера: {:.2f}'.format(np.mean(sam_rev_1)))\n",
    "print('Соотношение между выручками двух кластеров: {:.2f}'.format(np.mean(sam_rev_1) / np.mean(sam_rev_0)))"
   ]
  },
  {
   "cell_type": "markdown",
   "metadata": {},
   "source": [
    "Средние выручки с товаров разных кластеров отличаются практически в 11 раз. Проверим еще выручки с заказов.\n",
    "\n",
    "**Нулевая гипотеза**: Выручки с уникальных заказов разных кластеров товаров равны.\n",
    "\n",
    "**Альтернативная гипотеза**: Выручки с уникальных заказов разных кластеров товаров отличаются."
   ]
  },
  {
   "cell_type": "code",
   "execution_count": null,
   "metadata": {},
   "outputs": [],
   "source": [
    "sam_ord_rev_0 = data[data['cluster'] == 0].groupby('order_id').agg({'revenue':'sum'})['revenue']\n",
    "sam_ord_rev_1 = data[data['cluster'] == 1].groupby('order_id').agg({'revenue':'sum'})['revenue']\n"
   ]
  },
  {
   "cell_type": "code",
   "execution_count": null,
   "metadata": {},
   "outputs": [],
   "source": [
    "print('Дисперсия выручки 0-го кластера: {}'.format(np.var(sam_ord_rev_0, ddof=1)))\n",
    "print('Дисперсия выручки 1-го кластера: {}'.format(np.var(sam_ord_rev_1, ddof=1)))\n",
    "print('Соотношение дисперсий: {}'.format((np.var(sam_ord_rev_1, ddof=1))/(np.var(sam_ord_rev_0, ddof=1))))"
   ]
  },
  {
   "cell_type": "code",
   "execution_count": null,
   "metadata": {},
   "outputs": [],
   "source": [
    "alpha = 0.05 \n",
    "results = st.ttest_ind(sam_ord_rev_0, sam_ord_rev_1, equal_var=False)\n",
    "print('p-значение: ', results.pvalue)\n",
    "if results.pvalue < alpha:\n",
    "    print('Отвергаем нулевую гипотезу: между выборками есть значимая разница')\n",
    "else:\n",
    "    print('Не получилось отвергнуть нулевую гипотезу, нет оснований считать выборки разными')"
   ]
  },
  {
   "cell_type": "code",
   "execution_count": null,
   "metadata": {},
   "outputs": [],
   "source": [
    "print('Средняя выручка с заказа товаров 0-го кластера: {}'.format(np.mean(sam_ord_rev_0)))\n",
    "print('Средняя выручка с заказа товаров 1-го кластера: {}'.format(np.mean(sam_ord_rev_1)))\n",
    "print('Соотношение между выручками двух кластеров: {:.2f}'.format(np.mean(sam_ord_rev_1) / np.mean(sam_ord_rev_0)))"
   ]
  },
  {
   "cell_type": "markdown",
   "metadata": {},
   "source": [
    "Средние выручки между заказами товаров из разных сегментов отличаются в 5,1 раз. Разница большая"
   ]
  },
  {
   "cell_type": "markdown",
   "metadata": {},
   "source": [
    "## 5.3 Статистический тест на равенство среднего чека в кластерах"
   ]
  },
  {
   "cell_type": "markdown",
   "metadata": {},
   "source": [
    "**Нулевая гипотеза**: Средние чеки разных кластеров товаров равны.\n",
    "\n",
    "**Альтернативная гипотеза**: Средние чеки разных кластеров товаров отличаются."
   ]
  },
  {
   "cell_type": "code",
   "execution_count": null,
   "metadata": {},
   "outputs": [],
   "source": [
    "product_clusters = data.pivot_table(\n",
    "    index=['order_id','cluster'], values=['product', 'revenue'], aggfunc={'product':'nunique', 'revenue':'sum'}).reset_index()\n",
    "product_clusters['avg_check'] = product_clusters['revenue'] / product_clusters['product']"
   ]
  },
  {
   "cell_type": "code",
   "execution_count": null,
   "metadata": {},
   "outputs": [],
   "source": [
    "sam_check_0 = product_clusters[product_clusters['cluster'] == 0]['avg_check']\n",
    "sam_check_1 = product_clusters[product_clusters['cluster'] == 1]['avg_check']"
   ]
  },
  {
   "cell_type": "markdown",
   "metadata": {},
   "source": [
    "Также проверим дисперсии выборок."
   ]
  },
  {
   "cell_type": "code",
   "execution_count": null,
   "metadata": {},
   "outputs": [],
   "source": [
    "print('Дисперсия среднего чека 0-го кластера: {}'.format(np.var(sam_check_0, ddof=1)))\n",
    "print('Дисперсия среднего чека 1-го кластера: {}'.format(np.var(sam_check_1, ddof=1)))\n",
    "print('Соотношение дисперсий: {}'.format((np.var(sam_check_1, ddof=1))/(np.var(sam_check_0, ddof=1))))"
   ]
  },
  {
   "cell_type": "code",
   "execution_count": null,
   "metadata": {},
   "outputs": [],
   "source": [
    "alpha = 0.05 \n",
    "results = st.ttest_ind(sam_check_0, sam_check_1, equal_var=False)\n",
    "print('p-значение: ', results.pvalue)\n",
    "if results.pvalue < alpha:\n",
    "    print('Отвергаем нулевую гипотезу: между выборками есть значимая разница')\n",
    "else:\n",
    "    print('Не получилось отвергнуть нулевую гипотезу, нет оснований считать выборки разными')"
   ]
  },
  {
   "cell_type": "code",
   "execution_count": null,
   "metadata": {},
   "outputs": [],
   "source": [
    "print('Значение среднего чека в 0-ом кластере: {:.2f}'.format(np.mean(sam_check_0)))\n",
    "print('Значение среднего чека в 1-ом кластере: {:.2f}'.format(np.mean(sam_check_1)))\n",
    "print('Соотношение между средними чеками двух кластеров: {:.2f}'.format(np.mean(sam_check_1) / np.mean(sam_check_0)))"
   ]
  },
  {
   "cell_type": "markdown",
   "metadata": {},
   "source": [
    "Средний чек также статистически сильно отличается в кластерах."
   ]
  },
  {
   "cell_type": "markdown",
   "metadata": {},
   "source": [
    "## Вывод\n",
    "\n",
    "Статистический анализ показывает, что между сегментами есть весомая разница как в показателях средней выручки с товара и заказа, так и среднего чека."
   ]
  },
  {
   "cell_type": "markdown",
   "metadata": {},
   "source": [
    "# Шаг 6. Выводы и рекомендации\n",
    "\n",
    "Мы работали с данным с 1 октября 2018 года по 31 октября 2019 года. \n",
    "\n",
    "В ходе анализа мы выяснили: \n",
    "\n",
    "**Среднее количество уникальных пользователей в день**: 7 человек.\n",
    "\n",
    "**Среднее количество уникальных пользователей в неделю**: 45 человек.\n",
    "\n",
    "**Среднее количество уникальных пользователей в месяць**: 192 человек.\n",
    "\n",
    "**Недельная аудитория**: 16.60%\n",
    "\n",
    "**Месячная аудитория**: 3.92%\n",
    "\n",
    "**Наибольшие месяцы по пользователям**: декабрь, февраль, март, апрель.\n",
    "\n",
    "**Меньше всего покупателей**: июнь, июль, август - около 500 человек\n",
    "\n",
    "**Сезон с наибольшим количество заказов**: зима\n",
    "\n",
    "**Сезон с наименьшим количество заказов**: лето\n",
    "\n",
    "**Суммарная выручка за период**: выше за осенне-зимний, а вообще составляет 3938022\n",
    "\n",
    "**Общая сумма проданных товаров**: выше у первого кластера\n",
    "\n",
    "**Средний чек**: 1621, наблюдается сильное падение. \n",
    "\n",
    "**Суммарная выручка некоторых категорий первого кластера схожа с продажами по категориям второго**: с 1700 до 1200 за весь период, хотя был явный рост в середине года\n",
    "\n",
    "**Сезонность не влияет на сердний чек**: изменения минимальны, около 100\n",
    "\n",
    "**По количеству заказы товаров из второго кластера**: происходят реже, но дневная выручка выше. Месячная меньше из-за редкости \n",
    "\n",
    "**Прибыльность**: осенне-зимний сезон прибыльнее весенне-летнего даже без учета октября, с корторого начинается исследование\n",
    "\n",
    "**Октябрь 2018 прибыльнее октбря 2019**: разница колоссальна. Падение пришлось на август и сентябрь, менее 200 000\n",
    "\n",
    "В первом кластере больше товаров из весенне-летнего сезона. Во втором - осенне-зимнего. Чаще всег приобретают товары категории \"Сад-огород\"\n",
    "\n",
    "\n",
    "Затем мы сформулировали гипотезы и проверили их:\n",
    "\n",
    "**Нулевая гипотеза**: Выручки разных кластеров товаров равны.\n",
    "\n",
    "**Альтернативная гипотеза**: Выручки разных кластеров товаров отличаются.\n",
    "\n",
    "Отвергли нулевую гипотезу\n",
    "\n",
    "\n",
    "**Нулевая гипотеза**: Выручки с уникальных заказов разных кластеров товаров равны.\n",
    "\n",
    "**Альтернативная гипотеза**: Выручки с уникальных заказов разных кластеров товаров отличаются.\n",
    "\n",
    "Отвергли нулевую гипотезу\n",
    "\n",
    "**Нулевая гипотеза**: Средние чеки разных кластеров товаров равны.\n",
    "**Альтернативная гипотеза**: Средние чеки разных кластеров товаров отличаются.\n",
    "\n",
    "Отвергли нулевую гипотезу\n",
    "\n",
    "\n",
    "На бизнес показатели кластера влияет сезонность, выручка, цента товара. По сезонам существует взаимосявзь между количеством купленного и выручкой, то есть, средний чек имеет весомое значение.\n",
    "\n",
    "\n",
    "# Рекомендации:\n",
    "\n",
    "Поскольку видно, что по продажам магазин за год просел, важно найти решение улучшить положение.\n",
    "\n",
    "Необходимо:\n",
    "\n",
    "- Проработать сезонность\n",
    "- Повысить средний чек\n",
    "\n",
    "В магазине часто приобретают дешевые товары, за счет массовости они становятся прибыльнее дорогих. При этом весной-летом покупателей меньше, но средний чек и выручка не падают относительно зимних, ведь увеличивается количество приобретаемых товаров.\n",
    "\n",
    "Поэтому имеет смысл проработать маркетинговое сообщение для покупателей с сезонной направленностью. Например, реклама товаров, относящихся к категории \"Сад и огород\"\n"
   ]
  },
  {
   "cell_type": "markdown",
   "metadata": {},
   "source": [
    "Презентация:"
   ]
  },
  {
   "cell_type": "markdown",
   "metadata": {},
   "source": [
    "Дашборд: "
   ]
  },
  {
   "cell_type": "code",
   "execution_count": null,
   "metadata": {},
   "outputs": [],
   "source": []
  },
  {
   "cell_type": "code",
   "execution_count": null,
   "metadata": {},
   "outputs": [],
   "source": []
  },
  {
   "cell_type": "code",
   "execution_count": null,
   "metadata": {},
   "outputs": [],
   "source": []
  },
  {
   "cell_type": "code",
   "execution_count": null,
   "metadata": {},
   "outputs": [],
   "source": []
  }
 ],
 "metadata": {
  "ExecuteTimeLog": [
   {
    "duration": 50,
    "start_time": "2022-11-30T21:38:10.650Z"
   },
   {
    "duration": 87,
    "start_time": "2022-11-30T21:38:24.948Z"
   },
   {
    "duration": 89,
    "start_time": "2022-11-30T21:39:40.307Z"
   },
   {
    "duration": 1530,
    "start_time": "2022-11-30T21:42:37.396Z"
   },
   {
    "duration": 7,
    "start_time": "2022-11-30T21:45:09.579Z"
   },
   {
    "duration": 177,
    "start_time": "2022-11-30T21:45:10.134Z"
   },
   {
    "duration": 5,
    "start_time": "2022-11-30T21:45:46.135Z"
   },
   {
    "duration": 45,
    "start_time": "2022-11-30T21:45:46.598Z"
   },
   {
    "duration": 12,
    "start_time": "2022-11-30T21:45:47.317Z"
   },
   {
    "duration": 1069,
    "start_time": "2022-11-30T21:46:03.557Z"
   },
   {
    "duration": 41,
    "start_time": "2022-11-30T21:46:19.814Z"
   },
   {
    "duration": 41,
    "start_time": "2022-11-30T21:46:24.730Z"
   },
   {
    "duration": 40,
    "start_time": "2022-11-30T21:46:29.421Z"
   },
   {
    "duration": 41,
    "start_time": "2022-11-30T21:47:26.503Z"
   },
   {
    "duration": 11,
    "start_time": "2022-11-30T21:47:27.260Z"
   },
   {
    "duration": 1087,
    "start_time": "2022-11-30T21:47:35.511Z"
   },
   {
    "duration": 42,
    "start_time": "2022-11-30T21:47:36.600Z"
   },
   {
    "duration": 12,
    "start_time": "2022-11-30T21:47:36.643Z"
   },
   {
    "duration": 11,
    "start_time": "2022-11-30T21:49:06.472Z"
   },
   {
    "duration": 11,
    "start_time": "2022-11-30T21:50:12.802Z"
   },
   {
    "duration": 9,
    "start_time": "2022-11-30T21:50:47.366Z"
   },
   {
    "duration": 11,
    "start_time": "2022-11-30T21:51:04.661Z"
   },
   {
    "duration": 10,
    "start_time": "2022-11-30T21:51:30.924Z"
   },
   {
    "duration": 9,
    "start_time": "2022-11-30T21:52:16.714Z"
   },
   {
    "duration": 9,
    "start_time": "2022-11-30T21:52:22.602Z"
   },
   {
    "duration": 10,
    "start_time": "2022-11-30T21:52:46.189Z"
   },
   {
    "duration": 8,
    "start_time": "2022-11-30T21:55:59.851Z"
   },
   {
    "duration": 606,
    "start_time": "2022-11-30T21:56:03.185Z"
   },
   {
    "duration": 17,
    "start_time": "2022-11-30T21:59:48.475Z"
   },
   {
    "duration": 4,
    "start_time": "2022-11-30T22:01:31.198Z"
   },
   {
    "duration": 5,
    "start_time": "2022-11-30T22:01:54.003Z"
   },
   {
    "duration": 10,
    "start_time": "2022-11-30T22:03:25.480Z"
   },
   {
    "duration": 187,
    "start_time": "2022-11-30T22:03:39.640Z"
   },
   {
    "duration": 191,
    "start_time": "2022-11-30T22:03:52.079Z"
   },
   {
    "duration": 7,
    "start_time": "2022-11-30T22:04:18.884Z"
   },
   {
    "duration": 5,
    "start_time": "2022-11-30T22:04:39.342Z"
   },
   {
    "duration": 5,
    "start_time": "2022-11-30T22:04:47.693Z"
   },
   {
    "duration": 11,
    "start_time": "2022-11-30T22:04:59.292Z"
   },
   {
    "duration": 211,
    "start_time": "2022-11-30T22:05:08.342Z"
   },
   {
    "duration": 4,
    "start_time": "2022-11-30T22:05:49.592Z"
   },
   {
    "duration": 58,
    "start_time": "2022-11-30T22:05:58.443Z"
   },
   {
    "duration": 4,
    "start_time": "2022-11-30T22:06:09.514Z"
   },
   {
    "duration": 4,
    "start_time": "2022-11-30T22:06:17.666Z"
   },
   {
    "duration": 13,
    "start_time": "2022-11-30T22:06:25.598Z"
   },
   {
    "duration": 4,
    "start_time": "2022-11-30T22:06:35.992Z"
   },
   {
    "duration": 7,
    "start_time": "2022-11-30T22:06:44.826Z"
   },
   {
    "duration": 9,
    "start_time": "2022-11-30T22:07:05.092Z"
   },
   {
    "duration": 7,
    "start_time": "2022-11-30T22:07:16.349Z"
   },
   {
    "duration": 14,
    "start_time": "2022-11-30T22:07:24.668Z"
   },
   {
    "duration": 5,
    "start_time": "2022-11-30T22:07:33.761Z"
   },
   {
    "duration": 8,
    "start_time": "2022-11-30T22:07:54.146Z"
   },
   {
    "duration": 14,
    "start_time": "2022-11-30T22:08:30.783Z"
   },
   {
    "duration": 13,
    "start_time": "2022-11-30T22:10:10.216Z"
   },
   {
    "duration": 13,
    "start_time": "2022-11-30T22:10:26.028Z"
   },
   {
    "duration": 3,
    "start_time": "2022-11-30T22:10:36.176Z"
   },
   {
    "duration": 229,
    "start_time": "2022-11-30T22:10:57.115Z"
   },
   {
    "duration": 311,
    "start_time": "2022-11-30T22:11:19.364Z"
   },
   {
    "duration": 169,
    "start_time": "2022-11-30T22:11:39.282Z"
   },
   {
    "duration": 4,
    "start_time": "2022-11-30T22:12:25.188Z"
   },
   {
    "duration": 290,
    "start_time": "2022-11-30T22:12:50.613Z"
   },
   {
    "duration": 289,
    "start_time": "2022-11-30T22:13:22.072Z"
   },
   {
    "duration": 1373,
    "start_time": "2022-11-30T22:13:27.521Z"
   },
   {
    "duration": 43,
    "start_time": "2022-11-30T22:13:28.895Z"
   },
   {
    "duration": 11,
    "start_time": "2022-11-30T22:13:28.939Z"
   },
   {
    "duration": 12,
    "start_time": "2022-11-30T22:13:28.952Z"
   },
   {
    "duration": 9,
    "start_time": "2022-11-30T22:13:28.966Z"
   },
   {
    "duration": 12,
    "start_time": "2022-11-30T22:13:28.977Z"
   },
   {
    "duration": 10,
    "start_time": "2022-11-30T22:13:28.991Z"
   },
   {
    "duration": 22,
    "start_time": "2022-11-30T22:13:29.002Z"
   },
   {
    "duration": 14,
    "start_time": "2022-11-30T22:13:29.025Z"
   },
   {
    "duration": 618,
    "start_time": "2022-11-30T22:13:29.042Z"
   },
   {
    "duration": 17,
    "start_time": "2022-11-30T22:13:29.662Z"
   },
   {
    "duration": 5,
    "start_time": "2022-11-30T22:13:29.680Z"
   },
   {
    "duration": 6,
    "start_time": "2022-11-30T22:13:29.687Z"
   },
   {
    "duration": 35,
    "start_time": "2022-11-30T22:13:29.694Z"
   },
   {
    "duration": 201,
    "start_time": "2022-11-30T22:13:29.731Z"
   },
   {
    "duration": 275,
    "start_time": "2022-11-30T22:13:29.934Z"
   },
   {
    "duration": 15,
    "start_time": "2022-11-30T22:13:30.211Z"
   },
   {
    "duration": 28,
    "start_time": "2022-11-30T22:13:30.227Z"
   },
   {
    "duration": 46,
    "start_time": "2022-11-30T22:13:30.256Z"
   },
   {
    "duration": 76,
    "start_time": "2022-11-30T22:13:30.304Z"
   },
   {
    "duration": 244,
    "start_time": "2022-11-30T22:13:30.382Z"
   },
   {
    "duration": 5,
    "start_time": "2022-11-30T22:13:30.627Z"
   },
   {
    "duration": 134,
    "start_time": "2022-11-30T22:13:30.634Z"
   },
   {
    "duration": 16,
    "start_time": "2022-11-30T22:13:30.770Z"
   },
   {
    "duration": 30,
    "start_time": "2022-11-30T22:13:30.788Z"
   },
   {
    "duration": 35,
    "start_time": "2022-11-30T22:13:30.820Z"
   },
   {
    "duration": 40,
    "start_time": "2022-11-30T22:13:30.857Z"
   },
   {
    "duration": 27,
    "start_time": "2022-11-30T22:13:30.900Z"
   },
   {
    "duration": 36,
    "start_time": "2022-11-30T22:13:30.929Z"
   },
   {
    "duration": 10,
    "start_time": "2022-11-30T22:13:30.967Z"
   },
   {
    "duration": 27,
    "start_time": "2022-11-30T22:13:30.979Z"
   },
   {
    "duration": 29,
    "start_time": "2022-11-30T22:13:31.007Z"
   },
   {
    "duration": 29,
    "start_time": "2022-11-30T22:13:31.037Z"
   },
   {
    "duration": 32,
    "start_time": "2022-11-30T22:13:31.067Z"
   },
   {
    "duration": 30,
    "start_time": "2022-11-30T22:13:31.100Z"
   },
   {
    "duration": 38,
    "start_time": "2022-11-30T22:13:31.132Z"
   },
   {
    "duration": 9,
    "start_time": "2022-11-30T22:13:31.172Z"
   },
   {
    "duration": 234,
    "start_time": "2022-11-30T22:13:31.182Z"
   },
   {
    "duration": 259,
    "start_time": "2022-11-30T22:13:31.417Z"
   },
   {
    "duration": 179,
    "start_time": "2022-11-30T22:13:31.678Z"
   },
   {
    "duration": 4,
    "start_time": "2022-11-30T22:13:31.859Z"
   },
   {
    "duration": 20,
    "start_time": "2022-11-30T22:13:31.865Z"
   },
   {
    "duration": 19,
    "start_time": "2022-11-30T22:13:39.376Z"
   },
   {
    "duration": 12,
    "start_time": "2022-11-30T22:14:00.773Z"
   },
   {
    "duration": 7,
    "start_time": "2022-11-30T22:14:09.198Z"
   },
   {
    "duration": 8,
    "start_time": "2022-11-30T22:14:16.882Z"
   },
   {
    "duration": 1955,
    "start_time": "2022-11-30T22:14:28.969Z"
   },
   {
    "duration": 529,
    "start_time": "2022-11-30T22:14:37.010Z"
   },
   {
    "duration": 108,
    "start_time": "2022-11-30T22:15:15.279Z"
   },
   {
    "duration": 7,
    "start_time": "2022-11-30T22:15:24.290Z"
   },
   {
    "duration": 99,
    "start_time": "2022-11-30T22:15:34.678Z"
   },
   {
    "duration": 6,
    "start_time": "2022-11-30T22:16:45.239Z"
   },
   {
    "duration": 228,
    "start_time": "2022-11-30T22:17:06.477Z"
   },
   {
    "duration": 447,
    "start_time": "2022-11-30T22:17:25.125Z"
   },
   {
    "duration": 8,
    "start_time": "2022-11-30T22:17:43.233Z"
   },
   {
    "duration": 244,
    "start_time": "2022-11-30T22:17:49.981Z"
   },
   {
    "duration": 6,
    "start_time": "2022-11-30T22:18:07.463Z"
   },
   {
    "duration": 395,
    "start_time": "2022-11-30T22:18:14.878Z"
   },
   {
    "duration": 18,
    "start_time": "2022-11-30T22:18:28.105Z"
   },
   {
    "duration": 210,
    "start_time": "2022-11-30T22:19:34.527Z"
   },
   {
    "duration": 7,
    "start_time": "2022-11-30T22:19:50.845Z"
   },
   {
    "duration": 4,
    "start_time": "2022-11-30T22:19:57.613Z"
   },
   {
    "duration": 7,
    "start_time": "2022-11-30T22:20:03.730Z"
   },
   {
    "duration": 3557,
    "start_time": "2022-11-30T22:20:12.920Z"
   },
   {
    "duration": 247,
    "start_time": "2022-11-30T22:20:34.177Z"
   },
   {
    "duration": 11,
    "start_time": "2022-11-30T22:20:40.265Z"
   },
   {
    "duration": 6,
    "start_time": "2022-11-30T22:20:46.381Z"
   },
   {
    "duration": 4,
    "start_time": "2022-11-30T22:20:53.524Z"
   },
   {
    "duration": 683,
    "start_time": "2022-11-30T22:21:00.040Z"
   },
   {
    "duration": 260,
    "start_time": "2022-11-30T22:21:19.603Z"
   },
   {
    "duration": 7,
    "start_time": "2022-11-30T22:22:16.990Z"
   },
   {
    "duration": 15,
    "start_time": "2022-11-30T22:22:52.756Z"
   },
   {
    "duration": 5,
    "start_time": "2022-11-30T22:23:02.673Z"
   },
   {
    "duration": 229,
    "start_time": "2022-11-30T22:23:16.964Z"
   },
   {
    "duration": 170,
    "start_time": "2022-11-30T22:23:24.090Z"
   },
   {
    "duration": 165,
    "start_time": "2022-11-30T22:23:31.132Z"
   },
   {
    "duration": 129,
    "start_time": "2022-11-30T22:23:45.049Z"
   },
   {
    "duration": 6,
    "start_time": "2022-11-30T22:24:03.529Z"
   },
   {
    "duration": 6,
    "start_time": "2022-11-30T22:24:09.188Z"
   },
   {
    "duration": 5,
    "start_time": "2022-11-30T22:24:16.025Z"
   },
   {
    "duration": 214,
    "start_time": "2022-11-30T22:24:34.840Z"
   },
   {
    "duration": 131,
    "start_time": "2022-11-30T22:24:54.059Z"
   },
   {
    "duration": 568,
    "start_time": "2022-11-30T22:25:13.847Z"
   },
   {
    "duration": 604,
    "start_time": "2022-11-30T22:25:35.873Z"
   },
   {
    "duration": 3,
    "start_time": "2022-11-30T22:26:12.950Z"
   },
   {
    "duration": 9,
    "start_time": "2022-11-30T22:26:22.600Z"
   },
   {
    "duration": 33,
    "start_time": "2022-11-30T22:26:40.618Z"
   },
   {
    "duration": 200,
    "start_time": "2022-11-30T22:26:47.865Z"
   },
   {
    "duration": 167,
    "start_time": "2022-11-30T22:27:03.472Z"
   },
   {
    "duration": 9,
    "start_time": "2022-11-30T22:27:19.485Z"
   },
   {
    "duration": 13,
    "start_time": "2022-11-30T22:27:27.880Z"
   },
   {
    "duration": 236,
    "start_time": "2022-11-30T22:27:43.024Z"
   },
   {
    "duration": 196,
    "start_time": "2022-11-30T22:27:51.279Z"
   },
   {
    "duration": 153,
    "start_time": "2022-11-30T22:28:10.488Z"
   },
   {
    "duration": 40,
    "start_time": "2022-11-30T22:28:19.655Z"
   },
   {
    "duration": 637,
    "start_time": "2022-11-30T22:28:29.305Z"
   },
   {
    "duration": 711,
    "start_time": "2022-11-30T22:28:37.934Z"
   },
   {
    "duration": 8,
    "start_time": "2022-11-30T22:28:57.746Z"
   },
   {
    "duration": 178,
    "start_time": "2022-11-30T22:29:04.596Z"
   },
   {
    "duration": 11,
    "start_time": "2022-11-30T22:29:21.889Z"
   },
   {
    "duration": 187,
    "start_time": "2022-11-30T22:29:32.889Z"
   },
   {
    "duration": 10,
    "start_time": "2022-11-30T22:29:51.413Z"
   },
   {
    "duration": 140,
    "start_time": "2022-11-30T22:29:59.681Z"
   },
   {
    "duration": 161,
    "start_time": "2022-11-30T22:30:21.500Z"
   },
   {
    "duration": 30,
    "start_time": "2022-11-30T22:31:06.156Z"
   },
   {
    "duration": 962,
    "start_time": "2022-11-30T22:32:20.917Z"
   },
   {
    "duration": 3,
    "start_time": "2022-11-30T22:33:16.656Z"
   },
   {
    "duration": 6,
    "start_time": "2022-11-30T22:33:29.203Z"
   },
   {
    "duration": 48,
    "start_time": "2022-11-30T22:33:36.336Z"
   },
   {
    "duration": 6,
    "start_time": "2022-11-30T22:33:48.556Z"
   },
   {
    "duration": 5,
    "start_time": "2022-11-30T22:33:56.880Z"
   },
   {
    "duration": 13,
    "start_time": "2022-11-30T22:34:26.027Z"
   },
   {
    "duration": 6,
    "start_time": "2022-11-30T22:34:33.474Z"
   },
   {
    "duration": 5,
    "start_time": "2022-11-30T22:34:43.101Z"
   },
   {
    "duration": 5,
    "start_time": "2022-11-30T22:34:51.336Z"
   },
   {
    "duration": 18,
    "start_time": "2022-11-30T22:35:43.921Z"
   },
   {
    "duration": 5,
    "start_time": "2022-11-30T22:35:52.946Z"
   },
   {
    "duration": 5,
    "start_time": "2022-11-30T22:36:08.681Z"
   },
   {
    "duration": 5,
    "start_time": "2022-11-30T22:36:16.713Z"
   },
   {
    "duration": 5,
    "start_time": "2022-11-30T22:36:25.475Z"
   },
   {
    "duration": 1639,
    "start_time": "2022-12-01T07:05:40.453Z"
   },
   {
    "duration": 178,
    "start_time": "2022-12-01T07:05:42.095Z"
   },
   {
    "duration": 13,
    "start_time": "2022-12-01T07:05:42.274Z"
   },
   {
    "duration": 18,
    "start_time": "2022-12-01T07:05:42.289Z"
   },
   {
    "duration": 11,
    "start_time": "2022-12-01T07:05:42.309Z"
   },
   {
    "duration": 13,
    "start_time": "2022-12-01T07:05:42.322Z"
   },
   {
    "duration": 19,
    "start_time": "2022-12-01T07:05:42.337Z"
   },
   {
    "duration": 25,
    "start_time": "2022-12-01T07:05:42.358Z"
   },
   {
    "duration": 10,
    "start_time": "2022-12-01T07:05:42.385Z"
   },
   {
    "duration": 669,
    "start_time": "2022-12-01T07:05:42.398Z"
   },
   {
    "duration": 23,
    "start_time": "2022-12-01T07:05:43.069Z"
   },
   {
    "duration": 4,
    "start_time": "2022-12-01T07:05:43.094Z"
   },
   {
    "duration": 22,
    "start_time": "2022-12-01T07:05:43.100Z"
   },
   {
    "duration": 11,
    "start_time": "2022-12-01T07:05:43.124Z"
   },
   {
    "duration": 215,
    "start_time": "2022-12-01T07:05:43.137Z"
   },
   {
    "duration": 287,
    "start_time": "2022-12-01T07:05:43.353Z"
   },
   {
    "duration": 6,
    "start_time": "2022-12-01T07:05:43.642Z"
   },
   {
    "duration": 9,
    "start_time": "2022-12-01T07:05:43.649Z"
   },
   {
    "duration": 18,
    "start_time": "2022-12-01T07:05:43.659Z"
   },
   {
    "duration": 13,
    "start_time": "2022-12-01T07:05:43.679Z"
   },
   {
    "duration": 234,
    "start_time": "2022-12-01T07:05:43.693Z"
   },
   {
    "duration": 5,
    "start_time": "2022-12-01T07:05:43.928Z"
   },
   {
    "duration": 79,
    "start_time": "2022-12-01T07:05:43.934Z"
   },
   {
    "duration": 4,
    "start_time": "2022-12-01T07:05:44.015Z"
   },
   {
    "duration": 12,
    "start_time": "2022-12-01T07:05:44.020Z"
   },
   {
    "duration": 16,
    "start_time": "2022-12-01T07:05:44.033Z"
   },
   {
    "duration": 3,
    "start_time": "2022-12-01T07:05:44.050Z"
   },
   {
    "duration": 19,
    "start_time": "2022-12-01T07:05:44.057Z"
   },
   {
    "duration": 10,
    "start_time": "2022-12-01T07:05:44.077Z"
   },
   {
    "duration": 9,
    "start_time": "2022-12-01T07:05:44.088Z"
   },
   {
    "duration": 15,
    "start_time": "2022-12-01T07:05:44.099Z"
   },
   {
    "duration": 6,
    "start_time": "2022-12-01T07:05:44.116Z"
   },
   {
    "duration": 14,
    "start_time": "2022-12-01T07:05:44.124Z"
   },
   {
    "duration": 13,
    "start_time": "2022-12-01T07:05:44.140Z"
   },
   {
    "duration": 13,
    "start_time": "2022-12-01T07:05:44.177Z"
   },
   {
    "duration": 14,
    "start_time": "2022-12-01T07:05:44.191Z"
   },
   {
    "duration": 8,
    "start_time": "2022-12-01T07:05:44.206Z"
   },
   {
    "duration": 253,
    "start_time": "2022-12-01T07:05:44.216Z"
   },
   {
    "duration": 254,
    "start_time": "2022-12-01T07:05:44.471Z"
   },
   {
    "duration": 225,
    "start_time": "2022-12-01T07:05:44.727Z"
   },
   {
    "duration": 4,
    "start_time": "2022-12-01T07:05:44.954Z"
   },
   {
    "duration": 33,
    "start_time": "2022-12-01T07:05:44.959Z"
   },
   {
    "duration": 11,
    "start_time": "2022-12-01T07:05:44.993Z"
   },
   {
    "duration": 32,
    "start_time": "2022-12-01T07:05:45.006Z"
   },
   {
    "duration": 22,
    "start_time": "2022-12-01T07:05:45.039Z"
   },
   {
    "duration": 1928,
    "start_time": "2022-12-01T07:05:45.063Z"
   },
   {
    "duration": 552,
    "start_time": "2022-12-01T07:05:46.993Z"
   },
   {
    "duration": 111,
    "start_time": "2022-12-01T07:05:47.547Z"
   },
   {
    "duration": 16,
    "start_time": "2022-12-01T07:05:47.660Z"
   },
   {
    "duration": 145,
    "start_time": "2022-12-01T07:05:47.678Z"
   },
   {
    "duration": 5,
    "start_time": "2022-12-01T07:05:47.826Z"
   },
   {
    "duration": 275,
    "start_time": "2022-12-01T07:05:47.832Z"
   },
   {
    "duration": 422,
    "start_time": "2022-12-01T07:05:48.109Z"
   },
   {
    "duration": 9,
    "start_time": "2022-12-01T07:05:48.533Z"
   },
   {
    "duration": 273,
    "start_time": "2022-12-01T07:05:48.543Z"
   },
   {
    "duration": 6,
    "start_time": "2022-12-01T07:05:48.818Z"
   },
   {
    "duration": 429,
    "start_time": "2022-12-01T07:05:48.825Z"
   },
   {
    "duration": 28,
    "start_time": "2022-12-01T07:05:49.256Z"
   },
   {
    "duration": 233,
    "start_time": "2022-12-01T07:05:49.285Z"
   },
   {
    "duration": 7,
    "start_time": "2022-12-01T07:05:49.520Z"
   },
   {
    "duration": 15,
    "start_time": "2022-12-01T07:05:49.528Z"
   },
   {
    "duration": 12,
    "start_time": "2022-12-01T07:05:49.544Z"
   },
   {
    "duration": 3605,
    "start_time": "2022-12-01T07:05:49.557Z"
   },
   {
    "duration": 423,
    "start_time": "2022-12-01T07:05:53.164Z"
   },
   {
    "duration": 189,
    "start_time": "2022-12-01T07:05:53.588Z"
   },
   {
    "duration": 18,
    "start_time": "2022-12-01T07:05:53.779Z"
   },
   {
    "duration": 24,
    "start_time": "2022-12-01T07:05:53.799Z"
   },
   {
    "duration": 777,
    "start_time": "2022-12-01T07:05:53.825Z"
   },
   {
    "duration": 297,
    "start_time": "2022-12-01T07:05:54.604Z"
   },
   {
    "duration": 8,
    "start_time": "2022-12-01T07:05:54.903Z"
   },
   {
    "duration": 24,
    "start_time": "2022-12-01T07:05:54.913Z"
   },
   {
    "duration": 5,
    "start_time": "2022-12-01T07:05:54.939Z"
   },
   {
    "duration": 371,
    "start_time": "2022-12-01T07:05:54.946Z"
   },
   {
    "duration": 229,
    "start_time": "2022-12-01T07:05:55.319Z"
   },
   {
    "duration": 190,
    "start_time": "2022-12-01T07:05:55.549Z"
   },
   {
    "duration": 144,
    "start_time": "2022-12-01T07:05:55.741Z"
   },
   {
    "duration": 7,
    "start_time": "2022-12-01T07:05:55.886Z"
   },
   {
    "duration": 16,
    "start_time": "2022-12-01T07:05:55.894Z"
   },
   {
    "duration": 11,
    "start_time": "2022-12-01T07:05:55.912Z"
   },
   {
    "duration": 236,
    "start_time": "2022-12-01T07:05:55.925Z"
   },
   {
    "duration": 148,
    "start_time": "2022-12-01T07:05:56.163Z"
   },
   {
    "duration": 627,
    "start_time": "2022-12-01T07:05:56.317Z"
   },
   {
    "duration": 652,
    "start_time": "2022-12-01T07:05:56.946Z"
   },
   {
    "duration": 5,
    "start_time": "2022-12-01T07:05:57.600Z"
   },
   {
    "duration": 15,
    "start_time": "2022-12-01T07:05:57.607Z"
   },
   {
    "duration": 52,
    "start_time": "2022-12-01T07:05:57.624Z"
   },
   {
    "duration": 219,
    "start_time": "2022-12-01T07:05:57.678Z"
   },
   {
    "duration": 187,
    "start_time": "2022-12-01T07:05:57.899Z"
   },
   {
    "duration": 9,
    "start_time": "2022-12-01T07:05:58.088Z"
   },
   {
    "duration": 30,
    "start_time": "2022-12-01T07:05:58.099Z"
   },
   {
    "duration": 257,
    "start_time": "2022-12-01T07:05:58.131Z"
   },
   {
    "duration": 220,
    "start_time": "2022-12-01T07:05:58.390Z"
   },
   {
    "duration": 166,
    "start_time": "2022-12-01T07:05:58.612Z"
   },
   {
    "duration": 670,
    "start_time": "2022-12-01T07:05:58.780Z"
   },
   {
    "duration": 774,
    "start_time": "2022-12-01T07:05:59.452Z"
   },
   {
    "duration": 8,
    "start_time": "2022-12-01T07:06:00.227Z"
   },
   {
    "duration": 306,
    "start_time": "2022-12-01T07:06:00.236Z"
   },
   {
    "duration": 11,
    "start_time": "2022-12-01T07:06:00.544Z"
   },
   {
    "duration": 219,
    "start_time": "2022-12-01T07:06:00.557Z"
   },
   {
    "duration": 10,
    "start_time": "2022-12-01T07:06:00.777Z"
   },
   {
    "duration": 161,
    "start_time": "2022-12-01T07:06:00.788Z"
   },
   {
    "duration": 160,
    "start_time": "2022-12-01T07:06:00.951Z"
   },
   {
    "duration": 29,
    "start_time": "2022-12-01T07:06:01.113Z"
   },
   {
    "duration": 52,
    "start_time": "2022-12-01T07:06:01.144Z"
   },
   {
    "duration": 0,
    "start_time": "2022-12-01T07:06:01.198Z"
   },
   {
    "duration": 0,
    "start_time": "2022-12-01T07:06:01.199Z"
   },
   {
    "duration": 0,
    "start_time": "2022-12-01T07:06:01.200Z"
   },
   {
    "duration": 0,
    "start_time": "2022-12-01T07:06:01.202Z"
   },
   {
    "duration": 0,
    "start_time": "2022-12-01T07:06:01.203Z"
   },
   {
    "duration": 0,
    "start_time": "2022-12-01T07:06:01.204Z"
   },
   {
    "duration": 0,
    "start_time": "2022-12-01T07:06:01.205Z"
   },
   {
    "duration": 0,
    "start_time": "2022-12-01T07:06:01.206Z"
   },
   {
    "duration": 0,
    "start_time": "2022-12-01T07:06:01.207Z"
   },
   {
    "duration": 0,
    "start_time": "2022-12-01T07:06:01.208Z"
   },
   {
    "duration": 0,
    "start_time": "2022-12-01T07:06:01.209Z"
   },
   {
    "duration": 0,
    "start_time": "2022-12-01T07:06:01.210Z"
   },
   {
    "duration": 0,
    "start_time": "2022-12-01T07:06:01.211Z"
   },
   {
    "duration": 0,
    "start_time": "2022-12-01T07:06:01.212Z"
   },
   {
    "duration": 656,
    "start_time": "2022-12-01T07:20:06.936Z"
   },
   {
    "duration": 1552,
    "start_time": "2022-12-01T07:20:19.962Z"
   },
   {
    "duration": 59,
    "start_time": "2022-12-01T07:20:21.517Z"
   },
   {
    "duration": 14,
    "start_time": "2022-12-01T07:20:21.578Z"
   },
   {
    "duration": 24,
    "start_time": "2022-12-01T07:20:21.595Z"
   },
   {
    "duration": 18,
    "start_time": "2022-12-01T07:20:21.622Z"
   },
   {
    "duration": 15,
    "start_time": "2022-12-01T07:20:21.643Z"
   },
   {
    "duration": 27,
    "start_time": "2022-12-01T07:20:21.659Z"
   },
   {
    "duration": 19,
    "start_time": "2022-12-01T07:20:21.688Z"
   },
   {
    "duration": 14,
    "start_time": "2022-12-01T07:20:21.709Z"
   },
   {
    "duration": 822,
    "start_time": "2022-12-01T07:20:21.725Z"
   },
   {
    "duration": 41,
    "start_time": "2022-12-01T07:20:22.550Z"
   },
   {
    "duration": 7,
    "start_time": "2022-12-01T07:20:22.594Z"
   },
   {
    "duration": 16,
    "start_time": "2022-12-01T07:20:22.604Z"
   },
   {
    "duration": 23,
    "start_time": "2022-12-01T07:20:22.626Z"
   },
   {
    "duration": 272,
    "start_time": "2022-12-01T07:20:22.651Z"
   },
   {
    "duration": 341,
    "start_time": "2022-12-01T07:20:22.925Z"
   },
   {
    "duration": 14,
    "start_time": "2022-12-01T07:20:23.268Z"
   },
   {
    "duration": 7,
    "start_time": "2022-12-01T07:20:23.284Z"
   },
   {
    "duration": 12,
    "start_time": "2022-12-01T07:20:23.296Z"
   },
   {
    "duration": 28,
    "start_time": "2022-12-01T07:20:23.310Z"
   },
   {
    "duration": 292,
    "start_time": "2022-12-01T07:20:23.340Z"
   },
   {
    "duration": 5,
    "start_time": "2022-12-01T07:20:23.634Z"
   },
   {
    "duration": 124,
    "start_time": "2022-12-01T07:20:23.642Z"
   },
   {
    "duration": 4,
    "start_time": "2022-12-01T07:20:23.767Z"
   },
   {
    "duration": 12,
    "start_time": "2022-12-01T07:20:23.777Z"
   },
   {
    "duration": 19,
    "start_time": "2022-12-01T07:20:23.791Z"
   },
   {
    "duration": 6,
    "start_time": "2022-12-01T07:20:23.812Z"
   },
   {
    "duration": 14,
    "start_time": "2022-12-01T07:20:23.820Z"
   },
   {
    "duration": 40,
    "start_time": "2022-12-01T07:20:23.836Z"
   },
   {
    "duration": 10,
    "start_time": "2022-12-01T07:20:23.878Z"
   },
   {
    "duration": 30,
    "start_time": "2022-12-01T07:20:23.889Z"
   },
   {
    "duration": 12,
    "start_time": "2022-12-01T07:20:23.921Z"
   },
   {
    "duration": 38,
    "start_time": "2022-12-01T07:20:23.935Z"
   },
   {
    "duration": 17,
    "start_time": "2022-12-01T07:20:23.975Z"
   },
   {
    "duration": 16,
    "start_time": "2022-12-01T07:20:23.994Z"
   },
   {
    "duration": 24,
    "start_time": "2022-12-01T07:20:24.015Z"
   },
   {
    "duration": 13,
    "start_time": "2022-12-01T07:20:24.041Z"
   },
   {
    "duration": 277,
    "start_time": "2022-12-01T07:20:24.056Z"
   },
   {
    "duration": 291,
    "start_time": "2022-12-01T07:20:24.335Z"
   },
   {
    "duration": 238,
    "start_time": "2022-12-01T07:20:24.628Z"
   },
   {
    "duration": 7,
    "start_time": "2022-12-01T07:20:24.879Z"
   },
   {
    "duration": 40,
    "start_time": "2022-12-01T07:20:24.888Z"
   },
   {
    "duration": 24,
    "start_time": "2022-12-01T07:20:24.931Z"
   },
   {
    "duration": 34,
    "start_time": "2022-12-01T07:20:24.958Z"
   },
   {
    "duration": 34,
    "start_time": "2022-12-01T07:20:24.994Z"
   },
   {
    "duration": 2486,
    "start_time": "2022-12-01T07:20:25.030Z"
   },
   {
    "duration": 620,
    "start_time": "2022-12-01T07:20:27.519Z"
   },
   {
    "duration": 118,
    "start_time": "2022-12-01T07:20:28.141Z"
   },
   {
    "duration": 16,
    "start_time": "2022-12-01T07:20:28.261Z"
   },
   {
    "duration": 154,
    "start_time": "2022-12-01T07:20:28.279Z"
   },
   {
    "duration": 42,
    "start_time": "2022-12-01T07:20:28.436Z"
   },
   {
    "duration": 290,
    "start_time": "2022-12-01T07:20:28.480Z"
   },
   {
    "duration": 505,
    "start_time": "2022-12-01T07:20:28.776Z"
   },
   {
    "duration": 10,
    "start_time": "2022-12-01T07:20:29.283Z"
   },
   {
    "duration": 297,
    "start_time": "2022-12-01T07:20:29.295Z"
   },
   {
    "duration": 8,
    "start_time": "2022-12-01T07:20:29.593Z"
   },
   {
    "duration": 449,
    "start_time": "2022-12-01T07:20:29.602Z"
   },
   {
    "duration": 30,
    "start_time": "2022-12-01T07:20:30.053Z"
   },
   {
    "duration": 262,
    "start_time": "2022-12-01T07:20:30.086Z"
   },
   {
    "duration": 7,
    "start_time": "2022-12-01T07:20:30.350Z"
   },
   {
    "duration": 61,
    "start_time": "2022-12-01T07:20:30.358Z"
   },
   {
    "duration": 32,
    "start_time": "2022-12-01T07:20:30.421Z"
   },
   {
    "duration": 4051,
    "start_time": "2022-12-01T07:20:30.455Z"
   },
   {
    "duration": 674,
    "start_time": "2022-12-01T07:20:34.508Z"
   },
   {
    "duration": 105,
    "start_time": "2022-12-01T07:20:35.185Z"
   },
   {
    "duration": 8,
    "start_time": "2022-12-01T07:20:35.292Z"
   },
   {
    "duration": 21,
    "start_time": "2022-12-01T07:20:35.303Z"
   },
   {
    "duration": 914,
    "start_time": "2022-12-01T07:20:35.326Z"
   },
   {
    "duration": 325,
    "start_time": "2022-12-01T07:20:36.242Z"
   },
   {
    "duration": 11,
    "start_time": "2022-12-01T07:20:36.575Z"
   },
   {
    "duration": 26,
    "start_time": "2022-12-01T07:20:36.589Z"
   },
   {
    "duration": 12,
    "start_time": "2022-12-01T07:20:36.617Z"
   },
   {
    "duration": 294,
    "start_time": "2022-12-01T07:20:36.630Z"
   },
   {
    "duration": 209,
    "start_time": "2022-12-01T07:20:36.926Z"
   },
   {
    "duration": 246,
    "start_time": "2022-12-01T07:20:37.137Z"
   },
   {
    "duration": 172,
    "start_time": "2022-12-01T07:20:37.385Z"
   },
   {
    "duration": 17,
    "start_time": "2022-12-01T07:20:37.560Z"
   },
   {
    "duration": 16,
    "start_time": "2022-12-01T07:20:37.579Z"
   },
   {
    "duration": 18,
    "start_time": "2022-12-01T07:20:37.597Z"
   },
   {
    "duration": 279,
    "start_time": "2022-12-01T07:20:37.618Z"
   },
   {
    "duration": 202,
    "start_time": "2022-12-01T07:20:37.899Z"
   },
   {
    "duration": 766,
    "start_time": "2022-12-01T07:20:38.104Z"
   },
   {
    "duration": 697,
    "start_time": "2022-12-01T07:20:38.873Z"
   },
   {
    "duration": 10,
    "start_time": "2022-12-01T07:20:39.576Z"
   },
   {
    "duration": 16,
    "start_time": "2022-12-01T07:20:39.588Z"
   },
   {
    "duration": 52,
    "start_time": "2022-12-01T07:20:39.606Z"
   },
   {
    "duration": 260,
    "start_time": "2022-12-01T07:20:39.661Z"
   },
   {
    "duration": 242,
    "start_time": "2022-12-01T07:20:39.923Z"
   },
   {
    "duration": 12,
    "start_time": "2022-12-01T07:20:40.166Z"
   },
   {
    "duration": 42,
    "start_time": "2022-12-01T07:20:40.180Z"
   },
   {
    "duration": 270,
    "start_time": "2022-12-01T07:20:40.224Z"
   },
   {
    "duration": 260,
    "start_time": "2022-12-01T07:20:40.497Z"
   },
   {
    "duration": 176,
    "start_time": "2022-12-01T07:20:40.759Z"
   },
   {
    "duration": 738,
    "start_time": "2022-12-01T07:20:40.936Z"
   },
   {
    "duration": 832,
    "start_time": "2022-12-01T07:20:41.676Z"
   },
   {
    "duration": 8,
    "start_time": "2022-12-01T07:20:42.510Z"
   },
   {
    "duration": 237,
    "start_time": "2022-12-01T07:20:42.520Z"
   },
   {
    "duration": 22,
    "start_time": "2022-12-01T07:20:42.759Z"
   },
   {
    "duration": 261,
    "start_time": "2022-12-01T07:20:42.783Z"
   },
   {
    "duration": 13,
    "start_time": "2022-12-01T07:20:43.045Z"
   },
   {
    "duration": 197,
    "start_time": "2022-12-01T07:20:43.060Z"
   },
   {
    "duration": 177,
    "start_time": "2022-12-01T07:20:43.259Z"
   },
   {
    "duration": 65,
    "start_time": "2022-12-01T07:20:43.438Z"
   },
   {
    "duration": 76,
    "start_time": "2022-12-01T07:20:43.505Z"
   },
   {
    "duration": 0,
    "start_time": "2022-12-01T07:20:43.583Z"
   },
   {
    "duration": 0,
    "start_time": "2022-12-01T07:20:43.584Z"
   },
   {
    "duration": 0,
    "start_time": "2022-12-01T07:20:43.586Z"
   },
   {
    "duration": 0,
    "start_time": "2022-12-01T07:20:43.588Z"
   },
   {
    "duration": 0,
    "start_time": "2022-12-01T07:20:43.589Z"
   },
   {
    "duration": 0,
    "start_time": "2022-12-01T07:20:43.591Z"
   },
   {
    "duration": 0,
    "start_time": "2022-12-01T07:20:43.592Z"
   },
   {
    "duration": 0,
    "start_time": "2022-12-01T07:20:43.594Z"
   },
   {
    "duration": 0,
    "start_time": "2022-12-01T07:20:43.595Z"
   },
   {
    "duration": 0,
    "start_time": "2022-12-01T07:20:43.596Z"
   },
   {
    "duration": 0,
    "start_time": "2022-12-01T07:20:43.597Z"
   },
   {
    "duration": 0,
    "start_time": "2022-12-01T07:20:43.599Z"
   },
   {
    "duration": 0,
    "start_time": "2022-12-01T07:20:43.600Z"
   },
   {
    "duration": 0,
    "start_time": "2022-12-01T07:20:43.601Z"
   },
   {
    "duration": 12,
    "start_time": "2022-12-01T07:21:01.424Z"
   },
   {
    "duration": 110,
    "start_time": "2022-12-01T07:23:40.838Z"
   },
   {
    "duration": 1052,
    "start_time": "2022-12-01T07:25:06.530Z"
   },
   {
    "duration": 8,
    "start_time": "2022-12-01T07:27:04.287Z"
   },
   {
    "duration": 18,
    "start_time": "2022-12-01T07:28:09.895Z"
   },
   {
    "duration": 7,
    "start_time": "2022-12-01T07:29:52.285Z"
   },
   {
    "duration": 111,
    "start_time": "2022-12-01T07:31:58.374Z"
   },
   {
    "duration": 5,
    "start_time": "2022-12-01T07:32:14.751Z"
   },
   {
    "duration": 3,
    "start_time": "2022-12-01T07:33:15.370Z"
   },
   {
    "duration": 4,
    "start_time": "2022-12-01T07:33:25.378Z"
   },
   {
    "duration": 5,
    "start_time": "2022-12-01T07:34:56.878Z"
   },
   {
    "duration": 3,
    "start_time": "2022-12-01T07:36:25.000Z"
   },
   {
    "duration": 8,
    "start_time": "2022-12-01T07:36:39.495Z"
   },
   {
    "duration": 6,
    "start_time": "2022-12-01T07:40:55.196Z"
   },
   {
    "duration": 5,
    "start_time": "2022-12-01T07:41:33.179Z"
   },
   {
    "duration": 5,
    "start_time": "2022-12-01T07:41:42.869Z"
   },
   {
    "duration": 195,
    "start_time": "2022-12-01T07:41:45.318Z"
   },
   {
    "duration": 339,
    "start_time": "2022-12-01T07:42:25.396Z"
   },
   {
    "duration": 3,
    "start_time": "2022-12-01T07:42:28.445Z"
   },
   {
    "duration": 195,
    "start_time": "2022-12-01T07:42:29.666Z"
   },
   {
    "duration": 4,
    "start_time": "2022-12-01T07:44:12.107Z"
   },
   {
    "duration": 148,
    "start_time": "2022-12-01T07:44:12.982Z"
   },
   {
    "duration": 5,
    "start_time": "2022-12-01T07:44:24.378Z"
   },
   {
    "duration": 160,
    "start_time": "2022-12-01T07:44:25.541Z"
   },
   {
    "duration": 183,
    "start_time": "2022-12-01T07:44:37.070Z"
   },
   {
    "duration": 5,
    "start_time": "2022-12-01T07:45:15.678Z"
   },
   {
    "duration": 272,
    "start_time": "2022-12-01T07:45:16.340Z"
   },
   {
    "duration": 5,
    "start_time": "2022-12-01T07:45:28.402Z"
   },
   {
    "duration": 211,
    "start_time": "2022-12-01T07:45:29.282Z"
   },
   {
    "duration": 4,
    "start_time": "2022-12-01T07:45:37.866Z"
   },
   {
    "duration": 232,
    "start_time": "2022-12-01T07:45:38.680Z"
   },
   {
    "duration": 4,
    "start_time": "2022-12-01T07:46:45.102Z"
   },
   {
    "duration": 185,
    "start_time": "2022-12-01T07:46:45.978Z"
   },
   {
    "duration": 7,
    "start_time": "2022-12-01T07:47:59.068Z"
   },
   {
    "duration": 7,
    "start_time": "2022-12-01T07:51:01.569Z"
   },
   {
    "duration": 6,
    "start_time": "2022-12-01T07:51:26.698Z"
   },
   {
    "duration": 8,
    "start_time": "2022-12-01T07:51:27.772Z"
   },
   {
    "duration": 169,
    "start_time": "2022-12-01T07:51:51.935Z"
   },
   {
    "duration": 8,
    "start_time": "2022-12-01T07:53:18.891Z"
   },
   {
    "duration": 6,
    "start_time": "2022-12-01T09:51:27.913Z"
   },
   {
    "duration": 9,
    "start_time": "2022-12-01T09:51:29.423Z"
   },
   {
    "duration": 153,
    "start_time": "2022-12-01T09:51:30.677Z"
   },
   {
    "duration": 7,
    "start_time": "2022-12-01T09:51:40.006Z"
   },
   {
    "duration": 7,
    "start_time": "2022-12-01T09:51:50.419Z"
   },
   {
    "duration": 9,
    "start_time": "2022-12-01T09:51:51.254Z"
   },
   {
    "duration": 192,
    "start_time": "2022-12-01T09:51:52.158Z"
   },
   {
    "duration": 10,
    "start_time": "2022-12-01T09:51:54.873Z"
   },
   {
    "duration": 6,
    "start_time": "2022-12-01T09:51:59.471Z"
   },
   {
    "duration": 8,
    "start_time": "2022-12-01T09:52:00.408Z"
   },
   {
    "duration": 187,
    "start_time": "2022-12-01T09:52:01.467Z"
   },
   {
    "duration": 7,
    "start_time": "2022-12-01T09:52:03.870Z"
   },
   {
    "duration": 1415,
    "start_time": "2022-12-01T09:52:24.825Z"
   },
   {
    "duration": 45,
    "start_time": "2022-12-01T09:52:26.242Z"
   },
   {
    "duration": 13,
    "start_time": "2022-12-01T09:52:26.288Z"
   },
   {
    "duration": 14,
    "start_time": "2022-12-01T09:52:26.304Z"
   },
   {
    "duration": 13,
    "start_time": "2022-12-01T09:52:26.320Z"
   },
   {
    "duration": 20,
    "start_time": "2022-12-01T09:52:26.336Z"
   },
   {
    "duration": 27,
    "start_time": "2022-12-01T09:52:26.358Z"
   },
   {
    "duration": 35,
    "start_time": "2022-12-01T09:52:26.387Z"
   },
   {
    "duration": 17,
    "start_time": "2022-12-01T09:52:26.424Z"
   },
   {
    "duration": 9,
    "start_time": "2022-12-01T09:52:26.444Z"
   },
   {
    "duration": 645,
    "start_time": "2022-12-01T09:52:26.455Z"
   },
   {
    "duration": 5,
    "start_time": "2022-12-01T09:52:27.102Z"
   },
   {
    "duration": 15,
    "start_time": "2022-12-01T09:52:27.108Z"
   },
   {
    "duration": 14,
    "start_time": "2022-12-01T09:52:27.124Z"
   },
   {
    "duration": 26,
    "start_time": "2022-12-01T09:52:27.140Z"
   },
   {
    "duration": 17,
    "start_time": "2022-12-01T09:52:27.168Z"
   },
   {
    "duration": 8,
    "start_time": "2022-12-01T09:52:27.188Z"
   },
   {
    "duration": 228,
    "start_time": "2022-12-01T09:52:27.198Z"
   },
   {
    "duration": 7,
    "start_time": "2022-12-01T09:52:27.428Z"
   },
   {
    "duration": 14,
    "start_time": "2022-12-01T09:52:27.437Z"
   },
   {
    "duration": 18,
    "start_time": "2022-12-01T09:52:27.453Z"
   },
   {
    "duration": 258,
    "start_time": "2022-12-01T09:52:27.475Z"
   },
   {
    "duration": 7,
    "start_time": "2022-12-01T09:52:27.734Z"
   },
   {
    "duration": 65,
    "start_time": "2022-12-01T09:52:27.742Z"
   },
   {
    "duration": 0,
    "start_time": "2022-12-01T09:52:27.811Z"
   },
   {
    "duration": 0,
    "start_time": "2022-12-01T09:52:27.812Z"
   },
   {
    "duration": 0,
    "start_time": "2022-12-01T09:52:27.813Z"
   },
   {
    "duration": 0,
    "start_time": "2022-12-01T09:52:27.815Z"
   },
   {
    "duration": 0,
    "start_time": "2022-12-01T09:52:27.816Z"
   },
   {
    "duration": 0,
    "start_time": "2022-12-01T09:52:27.817Z"
   },
   {
    "duration": 0,
    "start_time": "2022-12-01T09:52:27.818Z"
   },
   {
    "duration": 0,
    "start_time": "2022-12-01T09:52:27.819Z"
   },
   {
    "duration": 0,
    "start_time": "2022-12-01T09:52:27.820Z"
   },
   {
    "duration": 0,
    "start_time": "2022-12-01T09:52:27.821Z"
   },
   {
    "duration": 0,
    "start_time": "2022-12-01T09:52:27.822Z"
   },
   {
    "duration": 0,
    "start_time": "2022-12-01T09:52:27.823Z"
   },
   {
    "duration": 0,
    "start_time": "2022-12-01T09:52:27.824Z"
   },
   {
    "duration": 0,
    "start_time": "2022-12-01T09:52:27.825Z"
   },
   {
    "duration": 0,
    "start_time": "2022-12-01T09:52:27.826Z"
   },
   {
    "duration": 0,
    "start_time": "2022-12-01T09:52:27.827Z"
   },
   {
    "duration": 0,
    "start_time": "2022-12-01T09:52:27.828Z"
   },
   {
    "duration": 0,
    "start_time": "2022-12-01T09:52:27.829Z"
   },
   {
    "duration": 1,
    "start_time": "2022-12-01T09:52:27.830Z"
   },
   {
    "duration": 0,
    "start_time": "2022-12-01T09:52:27.832Z"
   },
   {
    "duration": 0,
    "start_time": "2022-12-01T09:52:27.833Z"
   },
   {
    "duration": 0,
    "start_time": "2022-12-01T09:52:27.834Z"
   },
   {
    "duration": 0,
    "start_time": "2022-12-01T09:52:27.835Z"
   },
   {
    "duration": 0,
    "start_time": "2022-12-01T09:52:27.836Z"
   },
   {
    "duration": 0,
    "start_time": "2022-12-01T09:52:27.837Z"
   },
   {
    "duration": 0,
    "start_time": "2022-12-01T09:52:27.838Z"
   },
   {
    "duration": 0,
    "start_time": "2022-12-01T09:52:27.839Z"
   },
   {
    "duration": 0,
    "start_time": "2022-12-01T09:52:27.840Z"
   },
   {
    "duration": 0,
    "start_time": "2022-12-01T09:52:27.841Z"
   },
   {
    "duration": 0,
    "start_time": "2022-12-01T09:52:27.843Z"
   },
   {
    "duration": 0,
    "start_time": "2022-12-01T09:52:27.844Z"
   },
   {
    "duration": 0,
    "start_time": "2022-12-01T09:52:27.845Z"
   },
   {
    "duration": 0,
    "start_time": "2022-12-01T09:52:27.846Z"
   },
   {
    "duration": 0,
    "start_time": "2022-12-01T09:52:27.877Z"
   },
   {
    "duration": 0,
    "start_time": "2022-12-01T09:52:27.878Z"
   },
   {
    "duration": 0,
    "start_time": "2022-12-01T09:52:27.879Z"
   },
   {
    "duration": 1,
    "start_time": "2022-12-01T09:52:27.880Z"
   },
   {
    "duration": 0,
    "start_time": "2022-12-01T09:52:27.882Z"
   },
   {
    "duration": 0,
    "start_time": "2022-12-01T09:52:27.883Z"
   },
   {
    "duration": 0,
    "start_time": "2022-12-01T09:52:27.884Z"
   },
   {
    "duration": 0,
    "start_time": "2022-12-01T09:52:27.886Z"
   },
   {
    "duration": 0,
    "start_time": "2022-12-01T09:52:27.887Z"
   },
   {
    "duration": 0,
    "start_time": "2022-12-01T09:52:27.888Z"
   },
   {
    "duration": 0,
    "start_time": "2022-12-01T09:52:27.890Z"
   },
   {
    "duration": 1,
    "start_time": "2022-12-01T09:52:27.890Z"
   },
   {
    "duration": 0,
    "start_time": "2022-12-01T09:52:27.892Z"
   },
   {
    "duration": 0,
    "start_time": "2022-12-01T09:52:27.893Z"
   },
   {
    "duration": 0,
    "start_time": "2022-12-01T09:52:27.894Z"
   },
   {
    "duration": 0,
    "start_time": "2022-12-01T09:52:27.895Z"
   },
   {
    "duration": 0,
    "start_time": "2022-12-01T09:52:27.896Z"
   },
   {
    "duration": 0,
    "start_time": "2022-12-01T09:52:27.897Z"
   },
   {
    "duration": 0,
    "start_time": "2022-12-01T09:52:27.900Z"
   },
   {
    "duration": 0,
    "start_time": "2022-12-01T09:52:27.901Z"
   },
   {
    "duration": 0,
    "start_time": "2022-12-01T09:52:27.903Z"
   },
   {
    "duration": 0,
    "start_time": "2022-12-01T09:52:27.904Z"
   },
   {
    "duration": 0,
    "start_time": "2022-12-01T09:52:27.905Z"
   },
   {
    "duration": 0,
    "start_time": "2022-12-01T09:52:27.907Z"
   },
   {
    "duration": 0,
    "start_time": "2022-12-01T09:52:27.908Z"
   },
   {
    "duration": 0,
    "start_time": "2022-12-01T09:52:27.910Z"
   },
   {
    "duration": 0,
    "start_time": "2022-12-01T09:52:27.911Z"
   },
   {
    "duration": 0,
    "start_time": "2022-12-01T09:52:27.913Z"
   },
   {
    "duration": 0,
    "start_time": "2022-12-01T09:52:27.914Z"
   },
   {
    "duration": 0,
    "start_time": "2022-12-01T09:52:27.976Z"
   },
   {
    "duration": 0,
    "start_time": "2022-12-01T09:52:27.977Z"
   },
   {
    "duration": 0,
    "start_time": "2022-12-01T09:52:27.979Z"
   },
   {
    "duration": 0,
    "start_time": "2022-12-01T09:52:27.980Z"
   },
   {
    "duration": 0,
    "start_time": "2022-12-01T09:52:27.981Z"
   },
   {
    "duration": 0,
    "start_time": "2022-12-01T09:52:27.982Z"
   },
   {
    "duration": 0,
    "start_time": "2022-12-01T09:52:27.983Z"
   },
   {
    "duration": 0,
    "start_time": "2022-12-01T09:52:27.984Z"
   },
   {
    "duration": 0,
    "start_time": "2022-12-01T09:52:27.985Z"
   },
   {
    "duration": 0,
    "start_time": "2022-12-01T09:52:27.986Z"
   },
   {
    "duration": 0,
    "start_time": "2022-12-01T09:52:27.987Z"
   },
   {
    "duration": 0,
    "start_time": "2022-12-01T09:52:27.988Z"
   },
   {
    "duration": 0,
    "start_time": "2022-12-01T09:52:27.989Z"
   },
   {
    "duration": 0,
    "start_time": "2022-12-01T09:52:27.990Z"
   },
   {
    "duration": 0,
    "start_time": "2022-12-01T09:52:27.991Z"
   },
   {
    "duration": 0,
    "start_time": "2022-12-01T09:52:27.992Z"
   },
   {
    "duration": 0,
    "start_time": "2022-12-01T09:52:27.993Z"
   },
   {
    "duration": 0,
    "start_time": "2022-12-01T09:52:27.994Z"
   },
   {
    "duration": 0,
    "start_time": "2022-12-01T09:52:27.996Z"
   },
   {
    "duration": 0,
    "start_time": "2022-12-01T09:52:27.997Z"
   },
   {
    "duration": 0,
    "start_time": "2022-12-01T09:52:27.998Z"
   },
   {
    "duration": 0,
    "start_time": "2022-12-01T09:52:27.999Z"
   },
   {
    "duration": 0,
    "start_time": "2022-12-01T09:52:28.000Z"
   },
   {
    "duration": 0,
    "start_time": "2022-12-01T09:52:28.001Z"
   },
   {
    "duration": 0,
    "start_time": "2022-12-01T09:52:28.002Z"
   },
   {
    "duration": 0,
    "start_time": "2022-12-01T09:52:28.003Z"
   },
   {
    "duration": 0,
    "start_time": "2022-12-01T09:52:28.004Z"
   },
   {
    "duration": 0,
    "start_time": "2022-12-01T09:52:28.005Z"
   },
   {
    "duration": 0,
    "start_time": "2022-12-01T09:52:28.006Z"
   },
   {
    "duration": 0,
    "start_time": "2022-12-01T09:52:28.007Z"
   },
   {
    "duration": 0,
    "start_time": "2022-12-01T09:52:28.009Z"
   },
   {
    "duration": 0,
    "start_time": "2022-12-01T09:52:28.010Z"
   },
   {
    "duration": 0,
    "start_time": "2022-12-01T09:52:28.011Z"
   },
   {
    "duration": 0,
    "start_time": "2022-12-01T09:52:28.011Z"
   },
   {
    "duration": 0,
    "start_time": "2022-12-01T09:52:28.076Z"
   },
   {
    "duration": 0,
    "start_time": "2022-12-01T09:52:28.077Z"
   },
   {
    "duration": 0,
    "start_time": "2022-12-01T09:52:28.078Z"
   },
   {
    "duration": 0,
    "start_time": "2022-12-01T09:52:28.079Z"
   },
   {
    "duration": 0,
    "start_time": "2022-12-01T09:52:28.080Z"
   },
   {
    "duration": 0,
    "start_time": "2022-12-01T09:52:28.081Z"
   },
   {
    "duration": 0,
    "start_time": "2022-12-01T09:52:28.082Z"
   },
   {
    "duration": 0,
    "start_time": "2022-12-01T09:52:28.083Z"
   },
   {
    "duration": 0,
    "start_time": "2022-12-01T09:52:28.084Z"
   },
   {
    "duration": 0,
    "start_time": "2022-12-01T09:52:28.085Z"
   },
   {
    "duration": 0,
    "start_time": "2022-12-01T09:52:28.086Z"
   },
   {
    "duration": 0,
    "start_time": "2022-12-01T09:52:28.088Z"
   },
   {
    "duration": 7,
    "start_time": "2022-12-01T09:53:10.424Z"
   },
   {
    "duration": 6,
    "start_time": "2022-12-01T09:53:51.745Z"
   },
   {
    "duration": 10,
    "start_time": "2022-12-01T09:55:46.549Z"
   },
   {
    "duration": 204,
    "start_time": "2022-12-01T10:01:16.243Z"
   },
   {
    "duration": 6,
    "start_time": "2022-12-01T10:02:44.397Z"
   },
   {
    "duration": 7,
    "start_time": "2022-12-01T10:02:52.563Z"
   },
   {
    "duration": 7,
    "start_time": "2022-12-01T10:02:57.268Z"
   },
   {
    "duration": 9,
    "start_time": "2022-12-01T10:03:07.362Z"
   },
   {
    "duration": 6,
    "start_time": "2022-12-01T10:05:49.798Z"
   },
   {
    "duration": 9,
    "start_time": "2022-12-01T10:05:54.356Z"
   },
   {
    "duration": 170,
    "start_time": "2022-12-01T10:05:58.438Z"
   },
   {
    "duration": 8,
    "start_time": "2022-12-01T10:06:02.696Z"
   },
   {
    "duration": 11,
    "start_time": "2022-12-01T10:06:06.845Z"
   },
   {
    "duration": 194,
    "start_time": "2022-12-01T10:06:11.320Z"
   },
   {
    "duration": 9,
    "start_time": "2022-12-01T10:06:15.906Z"
   },
   {
    "duration": 5,
    "start_time": "2022-12-01T10:06:31.803Z"
   },
   {
    "duration": 6,
    "start_time": "2022-12-01T10:07:11.883Z"
   },
   {
    "duration": 1557,
    "start_time": "2022-12-01T10:23:02.330Z"
   },
   {
    "duration": 57,
    "start_time": "2022-12-01T10:23:03.889Z"
   },
   {
    "duration": 15,
    "start_time": "2022-12-01T10:23:03.951Z"
   },
   {
    "duration": 20,
    "start_time": "2022-12-01T10:23:03.968Z"
   },
   {
    "duration": 27,
    "start_time": "2022-12-01T10:23:03.990Z"
   },
   {
    "duration": 13,
    "start_time": "2022-12-01T10:23:04.019Z"
   },
   {
    "duration": 12,
    "start_time": "2022-12-01T10:23:04.033Z"
   },
   {
    "duration": 16,
    "start_time": "2022-12-01T10:23:04.046Z"
   },
   {
    "duration": 15,
    "start_time": "2022-12-01T10:23:04.077Z"
   },
   {
    "duration": 9,
    "start_time": "2022-12-01T10:23:04.094Z"
   },
   {
    "duration": 802,
    "start_time": "2022-12-01T10:23:04.104Z"
   },
   {
    "duration": 7,
    "start_time": "2022-12-01T10:23:04.909Z"
   },
   {
    "duration": 25,
    "start_time": "2022-12-01T10:23:04.918Z"
   },
   {
    "duration": 27,
    "start_time": "2022-12-01T10:23:04.945Z"
   },
   {
    "duration": 38,
    "start_time": "2022-12-01T10:23:04.974Z"
   },
   {
    "duration": 21,
    "start_time": "2022-12-01T10:23:05.014Z"
   },
   {
    "duration": 29,
    "start_time": "2022-12-01T10:23:05.037Z"
   },
   {
    "duration": 202,
    "start_time": "2022-12-01T10:23:05.069Z"
   },
   {
    "duration": 8,
    "start_time": "2022-12-01T10:23:05.275Z"
   },
   {
    "duration": 46,
    "start_time": "2022-12-01T10:23:05.285Z"
   },
   {
    "duration": 18,
    "start_time": "2022-12-01T10:23:05.334Z"
   },
   {
    "duration": 298,
    "start_time": "2022-12-01T10:23:05.354Z"
   },
   {
    "duration": 8,
    "start_time": "2022-12-01T10:23:05.654Z"
   },
   {
    "duration": 10,
    "start_time": "2022-12-01T10:23:05.676Z"
   },
   {
    "duration": 278,
    "start_time": "2022-12-01T10:23:05.688Z"
   },
   {
    "duration": 11,
    "start_time": "2022-12-01T10:23:05.968Z"
   },
   {
    "duration": 8,
    "start_time": "2022-12-01T10:23:05.984Z"
   },
   {
    "duration": 101,
    "start_time": "2022-12-01T10:23:05.994Z"
   },
   {
    "duration": 0,
    "start_time": "2022-12-01T10:23:06.099Z"
   },
   {
    "duration": 0,
    "start_time": "2022-12-01T10:23:06.101Z"
   },
   {
    "duration": 0,
    "start_time": "2022-12-01T10:23:06.102Z"
   },
   {
    "duration": 0,
    "start_time": "2022-12-01T10:23:06.104Z"
   },
   {
    "duration": 0,
    "start_time": "2022-12-01T10:23:06.105Z"
   },
   {
    "duration": 0,
    "start_time": "2022-12-01T10:23:06.106Z"
   },
   {
    "duration": 0,
    "start_time": "2022-12-01T10:23:06.108Z"
   },
   {
    "duration": 0,
    "start_time": "2022-12-01T10:23:06.109Z"
   },
   {
    "duration": 0,
    "start_time": "2022-12-01T10:23:06.110Z"
   },
   {
    "duration": 0,
    "start_time": "2022-12-01T10:23:06.112Z"
   },
   {
    "duration": 0,
    "start_time": "2022-12-01T10:23:06.113Z"
   },
   {
    "duration": 0,
    "start_time": "2022-12-01T10:23:06.114Z"
   },
   {
    "duration": 0,
    "start_time": "2022-12-01T10:23:06.116Z"
   },
   {
    "duration": 0,
    "start_time": "2022-12-01T10:23:06.117Z"
   },
   {
    "duration": 0,
    "start_time": "2022-12-01T10:23:06.119Z"
   },
   {
    "duration": 0,
    "start_time": "2022-12-01T10:23:06.120Z"
   },
   {
    "duration": 0,
    "start_time": "2022-12-01T10:23:06.121Z"
   },
   {
    "duration": 0,
    "start_time": "2022-12-01T10:23:06.123Z"
   },
   {
    "duration": 0,
    "start_time": "2022-12-01T10:23:06.124Z"
   },
   {
    "duration": 0,
    "start_time": "2022-12-01T10:23:06.126Z"
   },
   {
    "duration": 0,
    "start_time": "2022-12-01T10:23:06.127Z"
   },
   {
    "duration": 0,
    "start_time": "2022-12-01T10:23:06.129Z"
   },
   {
    "duration": 0,
    "start_time": "2022-12-01T10:23:06.130Z"
   },
   {
    "duration": 0,
    "start_time": "2022-12-01T10:23:06.131Z"
   },
   {
    "duration": 0,
    "start_time": "2022-12-01T10:23:06.132Z"
   },
   {
    "duration": 0,
    "start_time": "2022-12-01T10:23:06.133Z"
   },
   {
    "duration": 0,
    "start_time": "2022-12-01T10:23:06.135Z"
   },
   {
    "duration": 0,
    "start_time": "2022-12-01T10:23:06.177Z"
   },
   {
    "duration": 0,
    "start_time": "2022-12-01T10:23:06.178Z"
   },
   {
    "duration": 0,
    "start_time": "2022-12-01T10:23:06.179Z"
   },
   {
    "duration": 0,
    "start_time": "2022-12-01T10:23:06.181Z"
   },
   {
    "duration": 0,
    "start_time": "2022-12-01T10:23:06.182Z"
   },
   {
    "duration": 0,
    "start_time": "2022-12-01T10:23:06.183Z"
   },
   {
    "duration": 0,
    "start_time": "2022-12-01T10:23:06.184Z"
   },
   {
    "duration": 0,
    "start_time": "2022-12-01T10:23:06.185Z"
   },
   {
    "duration": 0,
    "start_time": "2022-12-01T10:23:06.186Z"
   },
   {
    "duration": 0,
    "start_time": "2022-12-01T10:23:06.188Z"
   },
   {
    "duration": 0,
    "start_time": "2022-12-01T10:23:06.189Z"
   },
   {
    "duration": 0,
    "start_time": "2022-12-01T10:23:06.190Z"
   },
   {
    "duration": 0,
    "start_time": "2022-12-01T10:23:06.191Z"
   },
   {
    "duration": 0,
    "start_time": "2022-12-01T10:23:06.192Z"
   },
   {
    "duration": 0,
    "start_time": "2022-12-01T10:23:06.194Z"
   },
   {
    "duration": 0,
    "start_time": "2022-12-01T10:23:06.194Z"
   },
   {
    "duration": 0,
    "start_time": "2022-12-01T10:23:06.195Z"
   },
   {
    "duration": 0,
    "start_time": "2022-12-01T10:23:06.197Z"
   },
   {
    "duration": 0,
    "start_time": "2022-12-01T10:23:06.197Z"
   },
   {
    "duration": 0,
    "start_time": "2022-12-01T10:23:06.198Z"
   },
   {
    "duration": 0,
    "start_time": "2022-12-01T10:23:06.200Z"
   },
   {
    "duration": 0,
    "start_time": "2022-12-01T10:23:06.201Z"
   },
   {
    "duration": 0,
    "start_time": "2022-12-01T10:23:06.204Z"
   },
   {
    "duration": 0,
    "start_time": "2022-12-01T10:23:06.212Z"
   },
   {
    "duration": 0,
    "start_time": "2022-12-01T10:23:06.275Z"
   },
   {
    "duration": 0,
    "start_time": "2022-12-01T10:23:06.277Z"
   },
   {
    "duration": 0,
    "start_time": "2022-12-01T10:23:06.278Z"
   },
   {
    "duration": 0,
    "start_time": "2022-12-01T10:23:06.280Z"
   },
   {
    "duration": 0,
    "start_time": "2022-12-01T10:23:06.281Z"
   },
   {
    "duration": 0,
    "start_time": "2022-12-01T10:23:06.282Z"
   },
   {
    "duration": 0,
    "start_time": "2022-12-01T10:23:06.284Z"
   },
   {
    "duration": 0,
    "start_time": "2022-12-01T10:23:06.286Z"
   },
   {
    "duration": 0,
    "start_time": "2022-12-01T10:23:06.287Z"
   },
   {
    "duration": 0,
    "start_time": "2022-12-01T10:23:06.289Z"
   },
   {
    "duration": 0,
    "start_time": "2022-12-01T10:23:06.291Z"
   },
   {
    "duration": 0,
    "start_time": "2022-12-01T10:23:06.293Z"
   },
   {
    "duration": 0,
    "start_time": "2022-12-01T10:23:06.294Z"
   },
   {
    "duration": 0,
    "start_time": "2022-12-01T10:23:06.296Z"
   },
   {
    "duration": 0,
    "start_time": "2022-12-01T10:23:06.298Z"
   },
   {
    "duration": 0,
    "start_time": "2022-12-01T10:23:06.300Z"
   },
   {
    "duration": 0,
    "start_time": "2022-12-01T10:23:06.302Z"
   },
   {
    "duration": 0,
    "start_time": "2022-12-01T10:23:06.303Z"
   },
   {
    "duration": 0,
    "start_time": "2022-12-01T10:23:06.304Z"
   },
   {
    "duration": 0,
    "start_time": "2022-12-01T10:23:06.306Z"
   },
   {
    "duration": 0,
    "start_time": "2022-12-01T10:23:06.308Z"
   },
   {
    "duration": 0,
    "start_time": "2022-12-01T10:23:06.309Z"
   },
   {
    "duration": 0,
    "start_time": "2022-12-01T10:23:06.311Z"
   },
   {
    "duration": 0,
    "start_time": "2022-12-01T10:23:06.312Z"
   },
   {
    "duration": 0,
    "start_time": "2022-12-01T10:23:06.313Z"
   },
   {
    "duration": 0,
    "start_time": "2022-12-01T10:23:06.314Z"
   },
   {
    "duration": 1,
    "start_time": "2022-12-01T10:23:06.376Z"
   },
   {
    "duration": 0,
    "start_time": "2022-12-01T10:23:06.378Z"
   },
   {
    "duration": 0,
    "start_time": "2022-12-01T10:23:06.379Z"
   },
   {
    "duration": 0,
    "start_time": "2022-12-01T10:23:06.380Z"
   },
   {
    "duration": 0,
    "start_time": "2022-12-01T10:23:06.382Z"
   },
   {
    "duration": 0,
    "start_time": "2022-12-01T10:23:06.383Z"
   },
   {
    "duration": 0,
    "start_time": "2022-12-01T10:23:06.385Z"
   },
   {
    "duration": 1,
    "start_time": "2022-12-01T10:23:06.386Z"
   },
   {
    "duration": 0,
    "start_time": "2022-12-01T10:23:06.388Z"
   },
   {
    "duration": 0,
    "start_time": "2022-12-01T10:23:06.390Z"
   },
   {
    "duration": 0,
    "start_time": "2022-12-01T10:23:06.391Z"
   },
   {
    "duration": 0,
    "start_time": "2022-12-01T10:23:06.394Z"
   },
   {
    "duration": 0,
    "start_time": "2022-12-01T10:23:06.397Z"
   },
   {
    "duration": 0,
    "start_time": "2022-12-01T10:23:06.398Z"
   },
   {
    "duration": 0,
    "start_time": "2022-12-01T10:23:06.400Z"
   },
   {
    "duration": 0,
    "start_time": "2022-12-01T10:23:06.401Z"
   },
   {
    "duration": 1,
    "start_time": "2022-12-01T10:23:06.402Z"
   },
   {
    "duration": 0,
    "start_time": "2022-12-01T10:23:06.404Z"
   },
   {
    "duration": 0,
    "start_time": "2022-12-01T10:23:06.406Z"
   },
   {
    "duration": 0,
    "start_time": "2022-12-01T10:23:06.407Z"
   },
   {
    "duration": 0,
    "start_time": "2022-12-01T10:23:06.409Z"
   },
   {
    "duration": 0,
    "start_time": "2022-12-01T10:23:06.411Z"
   },
   {
    "duration": 0,
    "start_time": "2022-12-01T10:23:06.411Z"
   },
   {
    "duration": 0,
    "start_time": "2022-12-01T10:23:06.414Z"
   },
   {
    "duration": 0,
    "start_time": "2022-12-01T10:23:06.415Z"
   },
   {
    "duration": 0,
    "start_time": "2022-12-01T10:23:06.477Z"
   },
   {
    "duration": 0,
    "start_time": "2022-12-01T10:23:06.479Z"
   },
   {
    "duration": 0,
    "start_time": "2022-12-01T10:23:06.481Z"
   },
   {
    "duration": 0,
    "start_time": "2022-12-01T10:23:06.483Z"
   },
   {
    "duration": 0,
    "start_time": "2022-12-01T10:23:06.487Z"
   },
   {
    "duration": 0,
    "start_time": "2022-12-01T10:23:06.489Z"
   },
   {
    "duration": 4,
    "start_time": "2022-12-01T10:24:40.334Z"
   },
   {
    "duration": 113,
    "start_time": "2022-12-01T10:26:46.302Z"
   },
   {
    "duration": 8,
    "start_time": "2022-12-01T10:27:01.022Z"
   },
   {
    "duration": 4,
    "start_time": "2022-12-01T10:27:53.230Z"
   },
   {
    "duration": 4,
    "start_time": "2022-12-01T10:27:58.325Z"
   },
   {
    "duration": 8,
    "start_time": "2022-12-01T10:28:44.162Z"
   },
   {
    "duration": 8,
    "start_time": "2022-12-01T10:28:50.604Z"
   },
   {
    "duration": 8,
    "start_time": "2022-12-01T10:28:52.908Z"
   },
   {
    "duration": 166,
    "start_time": "2022-12-01T10:31:23.869Z"
   },
   {
    "duration": 20,
    "start_time": "2022-12-01T10:33:38.392Z"
   },
   {
    "duration": 4,
    "start_time": "2022-12-01T10:35:43.163Z"
   },
   {
    "duration": 9,
    "start_time": "2022-12-01T10:35:51.848Z"
   },
   {
    "duration": 10,
    "start_time": "2022-12-01T10:36:00.178Z"
   },
   {
    "duration": 10,
    "start_time": "2022-12-01T10:36:04.355Z"
   },
   {
    "duration": 9,
    "start_time": "2022-12-01T10:36:12.537Z"
   },
   {
    "duration": 10,
    "start_time": "2022-12-01T10:36:20.635Z"
   },
   {
    "duration": 10,
    "start_time": "2022-12-01T10:36:43.723Z"
   },
   {
    "duration": 9,
    "start_time": "2022-12-01T10:37:00.761Z"
   },
   {
    "duration": 9,
    "start_time": "2022-12-01T10:37:02.462Z"
   },
   {
    "duration": 539,
    "start_time": "2022-12-01T10:51:13.703Z"
   },
   {
    "duration": 1393,
    "start_time": "2022-12-01T10:54:38.638Z"
   },
   {
    "duration": 45,
    "start_time": "2022-12-01T10:54:40.033Z"
   },
   {
    "duration": 12,
    "start_time": "2022-12-01T10:54:40.080Z"
   },
   {
    "duration": 18,
    "start_time": "2022-12-01T10:54:40.094Z"
   },
   {
    "duration": 15,
    "start_time": "2022-12-01T10:54:40.114Z"
   },
   {
    "duration": 18,
    "start_time": "2022-12-01T10:54:40.131Z"
   },
   {
    "duration": 12,
    "start_time": "2022-12-01T10:54:40.151Z"
   },
   {
    "duration": 13,
    "start_time": "2022-12-01T10:54:40.165Z"
   },
   {
    "duration": 30,
    "start_time": "2022-12-01T10:54:40.180Z"
   },
   {
    "duration": 7,
    "start_time": "2022-12-01T10:54:40.212Z"
   },
   {
    "duration": 634,
    "start_time": "2022-12-01T10:54:40.221Z"
   },
   {
    "duration": 5,
    "start_time": "2022-12-01T10:54:40.857Z"
   },
   {
    "duration": 3,
    "start_time": "2022-12-01T10:54:40.876Z"
   },
   {
    "duration": 6,
    "start_time": "2022-12-01T10:54:40.881Z"
   },
   {
    "duration": 24,
    "start_time": "2022-12-01T10:54:40.888Z"
   },
   {
    "duration": 12,
    "start_time": "2022-12-01T10:54:40.914Z"
   },
   {
    "duration": 5,
    "start_time": "2022-12-01T10:54:40.928Z"
   },
   {
    "duration": 169,
    "start_time": "2022-12-01T10:54:40.935Z"
   },
   {
    "duration": 7,
    "start_time": "2022-12-01T10:54:41.105Z"
   },
   {
    "duration": 12,
    "start_time": "2022-12-01T10:54:41.114Z"
   },
   {
    "duration": 10,
    "start_time": "2022-12-01T10:54:41.127Z"
   },
   {
    "duration": 244,
    "start_time": "2022-12-01T10:54:41.139Z"
   },
   {
    "duration": 8,
    "start_time": "2022-12-01T10:54:41.385Z"
   },
   {
    "duration": 11,
    "start_time": "2022-12-01T10:54:41.395Z"
   },
   {
    "duration": 215,
    "start_time": "2022-12-01T10:54:41.408Z"
   },
   {
    "duration": 8,
    "start_time": "2022-12-01T10:54:41.625Z"
   },
   {
    "duration": 18,
    "start_time": "2022-12-01T10:54:41.635Z"
   },
   {
    "duration": 21,
    "start_time": "2022-12-01T10:54:41.657Z"
   },
   {
    "duration": 183,
    "start_time": "2022-12-01T10:54:41.679Z"
   },
   {
    "duration": 22,
    "start_time": "2022-12-01T10:54:41.864Z"
   },
   {
    "duration": 3,
    "start_time": "2022-12-01T10:54:41.888Z"
   },
   {
    "duration": 14,
    "start_time": "2022-12-01T10:54:41.893Z"
   },
   {
    "duration": 16,
    "start_time": "2022-12-01T10:54:41.909Z"
   },
   {
    "duration": 24,
    "start_time": "2022-12-01T10:54:41.928Z"
   },
   {
    "duration": 34,
    "start_time": "2022-12-01T10:54:41.955Z"
   },
   {
    "duration": 5,
    "start_time": "2022-12-01T10:54:41.991Z"
   },
   {
    "duration": 22,
    "start_time": "2022-12-01T10:54:41.997Z"
   },
   {
    "duration": 17,
    "start_time": "2022-12-01T10:54:42.021Z"
   },
   {
    "duration": 219,
    "start_time": "2022-12-01T10:54:42.040Z"
   },
   {
    "duration": 224,
    "start_time": "2022-12-01T10:54:42.261Z"
   },
   {
    "duration": 7,
    "start_time": "2022-12-01T10:54:42.487Z"
   },
   {
    "duration": 10,
    "start_time": "2022-12-01T10:54:42.496Z"
   },
   {
    "duration": 8,
    "start_time": "2022-12-01T10:54:42.507Z"
   },
   {
    "duration": 19,
    "start_time": "2022-12-01T10:54:42.517Z"
   },
   {
    "duration": 259,
    "start_time": "2022-12-01T10:54:42.537Z"
   },
   {
    "duration": 5,
    "start_time": "2022-12-01T10:54:42.797Z"
   },
   {
    "duration": 78,
    "start_time": "2022-12-01T10:54:42.803Z"
   },
   {
    "duration": 3,
    "start_time": "2022-12-01T10:54:42.883Z"
   },
   {
    "duration": 13,
    "start_time": "2022-12-01T10:54:42.888Z"
   },
   {
    "duration": 13,
    "start_time": "2022-12-01T10:54:42.903Z"
   },
   {
    "duration": 3,
    "start_time": "2022-12-01T10:54:42.918Z"
   },
   {
    "duration": 13,
    "start_time": "2022-12-01T10:54:42.922Z"
   },
   {
    "duration": 11,
    "start_time": "2022-12-01T10:54:42.936Z"
   },
   {
    "duration": 29,
    "start_time": "2022-12-01T10:54:42.948Z"
   },
   {
    "duration": 19,
    "start_time": "2022-12-01T10:54:42.979Z"
   },
   {
    "duration": 8,
    "start_time": "2022-12-01T10:54:42.999Z"
   },
   {
    "duration": 12,
    "start_time": "2022-12-01T10:54:43.008Z"
   },
   {
    "duration": 17,
    "start_time": "2022-12-01T10:54:43.021Z"
   },
   {
    "duration": 17,
    "start_time": "2022-12-01T10:54:43.040Z"
   },
   {
    "duration": 29,
    "start_time": "2022-12-01T10:54:43.058Z"
   },
   {
    "duration": 8,
    "start_time": "2022-12-01T10:54:43.089Z"
   },
   {
    "duration": 263,
    "start_time": "2022-12-01T10:54:43.098Z"
   },
   {
    "duration": 264,
    "start_time": "2022-12-01T10:54:43.363Z"
   },
   {
    "duration": 205,
    "start_time": "2022-12-01T10:54:43.629Z"
   },
   {
    "duration": 5,
    "start_time": "2022-12-01T10:54:43.836Z"
   },
   {
    "duration": 34,
    "start_time": "2022-12-01T10:54:43.843Z"
   },
   {
    "duration": 14,
    "start_time": "2022-12-01T10:54:43.879Z"
   },
   {
    "duration": 5,
    "start_time": "2022-12-01T10:54:43.895Z"
   },
   {
    "duration": 11,
    "start_time": "2022-12-01T10:54:43.902Z"
   },
   {
    "duration": 2103,
    "start_time": "2022-12-01T10:54:43.914Z"
   },
   {
    "duration": 545,
    "start_time": "2022-12-01T10:54:46.019Z"
   },
   {
    "duration": 99,
    "start_time": "2022-12-01T10:54:46.567Z"
   },
   {
    "duration": 12,
    "start_time": "2022-12-01T10:54:46.667Z"
   },
   {
    "duration": 130,
    "start_time": "2022-12-01T10:54:46.681Z"
   },
   {
    "duration": 4,
    "start_time": "2022-12-01T10:54:46.813Z"
   },
   {
    "duration": 368,
    "start_time": "2022-12-01T10:54:46.819Z"
   },
   {
    "duration": 425,
    "start_time": "2022-12-01T10:54:47.189Z"
   },
   {
    "duration": 9,
    "start_time": "2022-12-01T10:54:47.616Z"
   },
   {
    "duration": 269,
    "start_time": "2022-12-01T10:54:47.626Z"
   },
   {
    "duration": 7,
    "start_time": "2022-12-01T10:54:47.897Z"
   },
   {
    "duration": 405,
    "start_time": "2022-12-01T10:54:47.906Z"
   },
   {
    "duration": 19,
    "start_time": "2022-12-01T10:54:48.317Z"
   },
   {
    "duration": 116,
    "start_time": "2022-12-01T10:54:48.338Z"
   },
   {
    "duration": 6,
    "start_time": "2022-12-01T10:54:48.455Z"
   },
   {
    "duration": 20,
    "start_time": "2022-12-01T10:54:48.462Z"
   },
   {
    "duration": 26,
    "start_time": "2022-12-01T10:54:48.483Z"
   },
   {
    "duration": 3680,
    "start_time": "2022-12-01T10:54:48.511Z"
   },
   {
    "duration": 492,
    "start_time": "2022-12-01T10:54:52.193Z"
   },
   {
    "duration": 103,
    "start_time": "2022-12-01T10:54:52.778Z"
   },
   {
    "duration": 7,
    "start_time": "2022-12-01T10:54:52.883Z"
   },
   {
    "duration": 9,
    "start_time": "2022-12-01T10:54:52.891Z"
   },
   {
    "duration": 749,
    "start_time": "2022-12-01T10:54:52.902Z"
   },
   {
    "duration": 290,
    "start_time": "2022-12-01T10:54:53.652Z"
   },
   {
    "duration": 5,
    "start_time": "2022-12-01T10:54:53.944Z"
   },
   {
    "duration": 25,
    "start_time": "2022-12-01T10:54:53.951Z"
   },
   {
    "duration": 4,
    "start_time": "2022-12-01T10:54:53.978Z"
   },
   {
    "duration": 352,
    "start_time": "2022-12-01T10:54:53.984Z"
   },
   {
    "duration": 193,
    "start_time": "2022-12-01T10:54:54.338Z"
   },
   {
    "duration": 169,
    "start_time": "2022-12-01T10:54:54.533Z"
   },
   {
    "duration": 135,
    "start_time": "2022-12-01T10:54:54.704Z"
   },
   {
    "duration": 6,
    "start_time": "2022-12-01T10:54:54.840Z"
   },
   {
    "duration": 12,
    "start_time": "2022-12-01T10:54:54.848Z"
   },
   {
    "duration": 18,
    "start_time": "2022-12-01T10:54:54.861Z"
   },
   {
    "duration": 153,
    "start_time": "2022-12-01T10:54:54.880Z"
   },
   {
    "duration": 203,
    "start_time": "2022-12-01T10:54:55.035Z"
   },
   {
    "duration": 686,
    "start_time": "2022-12-01T10:54:55.240Z"
   },
   {
    "duration": 689,
    "start_time": "2022-12-01T10:54:55.928Z"
   },
   {
    "duration": 4,
    "start_time": "2022-12-01T10:54:56.619Z"
   },
   {
    "duration": 21,
    "start_time": "2022-12-01T10:54:56.624Z"
   },
   {
    "duration": 55,
    "start_time": "2022-12-01T10:54:56.646Z"
   },
   {
    "duration": 236,
    "start_time": "2022-12-01T10:54:56.702Z"
   },
   {
    "duration": 215,
    "start_time": "2022-12-01T10:54:56.940Z"
   },
   {
    "duration": 9,
    "start_time": "2022-12-01T10:54:57.157Z"
   },
   {
    "duration": 35,
    "start_time": "2022-12-01T10:54:57.168Z"
   },
   {
    "duration": 278,
    "start_time": "2022-12-01T10:54:57.204Z"
   },
   {
    "duration": 341,
    "start_time": "2022-12-01T10:54:57.484Z"
   },
   {
    "duration": 169,
    "start_time": "2022-12-01T10:54:57.827Z"
   },
   {
    "duration": 627,
    "start_time": "2022-12-01T10:54:57.998Z"
   },
   {
    "duration": 649,
    "start_time": "2022-12-01T10:54:58.627Z"
   },
   {
    "duration": 6,
    "start_time": "2022-12-01T10:54:59.278Z"
   },
   {
    "duration": 184,
    "start_time": "2022-12-01T10:54:59.285Z"
   },
   {
    "duration": 11,
    "start_time": "2022-12-01T10:54:59.471Z"
   },
   {
    "duration": 218,
    "start_time": "2022-12-01T10:54:59.483Z"
   },
   {
    "duration": 10,
    "start_time": "2022-12-01T10:54:59.703Z"
   },
   {
    "duration": 171,
    "start_time": "2022-12-01T10:54:59.715Z"
   },
   {
    "duration": 136,
    "start_time": "2022-12-01T10:54:59.888Z"
   },
   {
    "duration": 59,
    "start_time": "2022-12-01T10:55:00.025Z"
   },
   {
    "duration": 52,
    "start_time": "2022-12-01T10:55:00.085Z"
   },
   {
    "duration": 0,
    "start_time": "2022-12-01T10:55:00.139Z"
   },
   {
    "duration": 0,
    "start_time": "2022-12-01T10:55:00.141Z"
   },
   {
    "duration": 0,
    "start_time": "2022-12-01T10:55:00.142Z"
   },
   {
    "duration": 0,
    "start_time": "2022-12-01T10:55:00.143Z"
   },
   {
    "duration": 0,
    "start_time": "2022-12-01T10:55:00.144Z"
   },
   {
    "duration": 0,
    "start_time": "2022-12-01T10:55:00.145Z"
   },
   {
    "duration": 0,
    "start_time": "2022-12-01T10:55:00.146Z"
   },
   {
    "duration": 0,
    "start_time": "2022-12-01T10:55:00.148Z"
   },
   {
    "duration": 0,
    "start_time": "2022-12-01T10:55:00.149Z"
   },
   {
    "duration": 0,
    "start_time": "2022-12-01T10:55:00.150Z"
   },
   {
    "duration": 0,
    "start_time": "2022-12-01T10:55:00.151Z"
   },
   {
    "duration": 0,
    "start_time": "2022-12-01T10:55:00.152Z"
   },
   {
    "duration": 0,
    "start_time": "2022-12-01T10:55:00.153Z"
   },
   {
    "duration": 0,
    "start_time": "2022-12-01T10:55:00.154Z"
   },
   {
    "duration": 815,
    "start_time": "2022-12-01T11:51:47.051Z"
   },
   {
    "duration": 6,
    "start_time": "2022-12-01T11:52:47.282Z"
   },
   {
    "duration": 38,
    "start_time": "2022-12-01T11:55:15.584Z"
   },
   {
    "duration": 4,
    "start_time": "2022-12-01T11:55:22.765Z"
   },
   {
    "duration": 3,
    "start_time": "2022-12-01T11:55:45.778Z"
   },
   {
    "duration": 11,
    "start_time": "2022-12-01T11:56:38.364Z"
   },
   {
    "duration": 3,
    "start_time": "2022-12-01T11:57:02.679Z"
   },
   {
    "duration": 8,
    "start_time": "2022-12-01T11:57:09.406Z"
   },
   {
    "duration": 9,
    "start_time": "2022-12-01T11:58:14.677Z"
   },
   {
    "duration": 6,
    "start_time": "2022-12-01T11:58:22.213Z"
   },
   {
    "duration": 17,
    "start_time": "2022-12-01T11:58:30.216Z"
   },
   {
    "duration": 6,
    "start_time": "2022-12-01T11:58:42.091Z"
   },
   {
    "duration": 8,
    "start_time": "2022-12-01T11:59:06.182Z"
   },
   {
    "duration": 21,
    "start_time": "2022-12-01T11:59:16.578Z"
   },
   {
    "duration": 12,
    "start_time": "2022-12-01T11:59:29.517Z"
   },
   {
    "duration": 20,
    "start_time": "2022-12-01T11:59:42.573Z"
   },
   {
    "duration": 4,
    "start_time": "2022-12-01T11:59:51.774Z"
   },
   {
    "duration": 215,
    "start_time": "2022-12-01T12:00:20.065Z"
   },
   {
    "duration": 2,
    "start_time": "2022-12-01T12:00:29.580Z"
   },
   {
    "duration": 345,
    "start_time": "2022-12-01T12:00:39.524Z"
   },
   {
    "duration": 3,
    "start_time": "2022-12-01T12:00:47.988Z"
   },
   {
    "duration": 183,
    "start_time": "2022-12-01T12:01:00.519Z"
   },
   {
    "duration": 1440,
    "start_time": "2022-12-01T12:01:53.825Z"
   },
   {
    "duration": 46,
    "start_time": "2022-12-01T12:01:55.267Z"
   },
   {
    "duration": 14,
    "start_time": "2022-12-01T12:01:55.315Z"
   },
   {
    "duration": 34,
    "start_time": "2022-12-01T12:01:55.331Z"
   },
   {
    "duration": 13,
    "start_time": "2022-12-01T12:01:55.367Z"
   },
   {
    "duration": 8,
    "start_time": "2022-12-01T12:01:55.381Z"
   },
   {
    "duration": 10,
    "start_time": "2022-12-01T12:01:55.391Z"
   },
   {
    "duration": 10,
    "start_time": "2022-12-01T12:01:55.403Z"
   },
   {
    "duration": 13,
    "start_time": "2022-12-01T12:01:55.415Z"
   },
   {
    "duration": 8,
    "start_time": "2022-12-01T12:01:55.430Z"
   },
   {
    "duration": 711,
    "start_time": "2022-12-01T12:01:55.439Z"
   },
   {
    "duration": 6,
    "start_time": "2022-12-01T12:01:56.153Z"
   },
   {
    "duration": 117,
    "start_time": "2022-12-01T12:01:56.160Z"
   },
   {
    "duration": 4,
    "start_time": "2022-12-01T12:01:56.278Z"
   },
   {
    "duration": 17,
    "start_time": "2022-12-01T12:01:56.283Z"
   },
   {
    "duration": 3,
    "start_time": "2022-12-01T12:01:56.301Z"
   },
   {
    "duration": 14,
    "start_time": "2022-12-01T12:01:56.305Z"
   },
   {
    "duration": 10,
    "start_time": "2022-12-01T12:01:56.320Z"
   },
   {
    "duration": 5,
    "start_time": "2022-12-01T12:01:56.332Z"
   },
   {
    "duration": 42,
    "start_time": "2022-12-01T12:01:56.338Z"
   },
   {
    "duration": 8,
    "start_time": "2022-12-01T12:01:56.381Z"
   },
   {
    "duration": 8,
    "start_time": "2022-12-01T12:01:56.390Z"
   },
   {
    "duration": 13,
    "start_time": "2022-12-01T12:01:56.399Z"
   },
   {
    "duration": 22,
    "start_time": "2022-12-01T12:01:56.414Z"
   },
   {
    "duration": 11,
    "start_time": "2022-12-01T12:01:56.438Z"
   },
   {
    "duration": 6,
    "start_time": "2022-12-01T12:01:56.452Z"
   },
   {
    "duration": 278,
    "start_time": "2022-12-01T12:01:56.459Z"
   },
   {
    "duration": 3,
    "start_time": "2022-12-01T12:01:56.743Z"
   },
   {
    "duration": 270,
    "start_time": "2022-12-01T12:01:56.847Z"
   },
   {
    "duration": 206,
    "start_time": "2022-12-01T12:01:57.118Z"
   },
   {
    "duration": 4,
    "start_time": "2022-12-01T12:01:57.326Z"
   },
   {
    "duration": 6,
    "start_time": "2022-12-01T12:01:57.332Z"
   },
   {
    "duration": 8,
    "start_time": "2022-12-01T12:01:57.340Z"
   },
   {
    "duration": 13,
    "start_time": "2022-12-01T12:01:57.350Z"
   },
   {
    "duration": 4,
    "start_time": "2022-12-01T12:01:57.376Z"
   },
   {
    "duration": 166,
    "start_time": "2022-12-01T12:01:57.381Z"
   },
   {
    "duration": 7,
    "start_time": "2022-12-01T12:01:57.549Z"
   },
   {
    "duration": 21,
    "start_time": "2022-12-01T12:01:57.557Z"
   },
   {
    "duration": 9,
    "start_time": "2022-12-01T12:01:57.580Z"
   },
   {
    "duration": 168,
    "start_time": "2022-12-01T12:01:57.591Z"
   },
   {
    "duration": 7,
    "start_time": "2022-12-01T12:01:57.761Z"
   },
   {
    "duration": 8,
    "start_time": "2022-12-01T12:01:57.776Z"
   },
   {
    "duration": 195,
    "start_time": "2022-12-01T12:01:57.785Z"
   },
   {
    "duration": 7,
    "start_time": "2022-12-01T12:01:57.981Z"
   },
   {
    "duration": 9,
    "start_time": "2022-12-01T12:01:57.989Z"
   },
   {
    "duration": 15,
    "start_time": "2022-12-01T12:01:57.999Z"
   },
   {
    "duration": 186,
    "start_time": "2022-12-01T12:01:58.015Z"
   },
   {
    "duration": 22,
    "start_time": "2022-12-01T12:01:58.203Z"
   },
   {
    "duration": 3,
    "start_time": "2022-12-01T12:01:58.227Z"
   },
   {
    "duration": 13,
    "start_time": "2022-12-01T12:01:58.232Z"
   },
   {
    "duration": 20,
    "start_time": "2022-12-01T12:01:58.246Z"
   },
   {
    "duration": 19,
    "start_time": "2022-12-01T12:01:58.267Z"
   },
   {
    "duration": 25,
    "start_time": "2022-12-01T12:01:58.288Z"
   },
   {
    "duration": 4,
    "start_time": "2022-12-01T12:01:58.315Z"
   },
   {
    "duration": 10,
    "start_time": "2022-12-01T12:01:58.321Z"
   },
   {
    "duration": 15,
    "start_time": "2022-12-01T12:01:58.332Z"
   },
   {
    "duration": 207,
    "start_time": "2022-12-01T12:01:58.348Z"
   },
   {
    "duration": 199,
    "start_time": "2022-12-01T12:01:58.556Z"
   },
   {
    "duration": 7,
    "start_time": "2022-12-01T12:01:58.757Z"
   },
   {
    "duration": 5,
    "start_time": "2022-12-01T12:01:58.776Z"
   },
   {
    "duration": 5,
    "start_time": "2022-12-01T12:01:58.782Z"
   },
   {
    "duration": 14,
    "start_time": "2022-12-01T12:01:58.789Z"
   },
   {
    "duration": 231,
    "start_time": "2022-12-01T12:01:58.805Z"
   },
   {
    "duration": 54,
    "start_time": "2022-12-01T12:01:59.037Z"
   },
   {
    "duration": 0,
    "start_time": "2022-12-01T12:01:59.095Z"
   },
   {
    "duration": 0,
    "start_time": "2022-12-01T12:01:59.096Z"
   },
   {
    "duration": 0,
    "start_time": "2022-12-01T12:01:59.097Z"
   },
   {
    "duration": 0,
    "start_time": "2022-12-01T12:01:59.098Z"
   },
   {
    "duration": 0,
    "start_time": "2022-12-01T12:01:59.098Z"
   },
   {
    "duration": 0,
    "start_time": "2022-12-01T12:01:59.099Z"
   },
   {
    "duration": 0,
    "start_time": "2022-12-01T12:01:59.101Z"
   },
   {
    "duration": 0,
    "start_time": "2022-12-01T12:01:59.102Z"
   },
   {
    "duration": 0,
    "start_time": "2022-12-01T12:01:59.104Z"
   },
   {
    "duration": 0,
    "start_time": "2022-12-01T12:01:59.105Z"
   },
   {
    "duration": 0,
    "start_time": "2022-12-01T12:01:59.106Z"
   },
   {
    "duration": 0,
    "start_time": "2022-12-01T12:01:59.108Z"
   },
   {
    "duration": 0,
    "start_time": "2022-12-01T12:01:59.109Z"
   },
   {
    "duration": 0,
    "start_time": "2022-12-01T12:01:59.111Z"
   },
   {
    "duration": 0,
    "start_time": "2022-12-01T12:01:59.112Z"
   },
   {
    "duration": 1,
    "start_time": "2022-12-01T12:01:59.112Z"
   },
   {
    "duration": 0,
    "start_time": "2022-12-01T12:01:59.113Z"
   },
   {
    "duration": 0,
    "start_time": "2022-12-01T12:01:59.114Z"
   },
   {
    "duration": 1,
    "start_time": "2022-12-01T12:01:59.115Z"
   },
   {
    "duration": 0,
    "start_time": "2022-12-01T12:01:59.117Z"
   },
   {
    "duration": 0,
    "start_time": "2022-12-01T12:01:59.118Z"
   },
   {
    "duration": 0,
    "start_time": "2022-12-01T12:01:59.119Z"
   },
   {
    "duration": 0,
    "start_time": "2022-12-01T12:01:59.120Z"
   },
   {
    "duration": 0,
    "start_time": "2022-12-01T12:01:59.121Z"
   },
   {
    "duration": 0,
    "start_time": "2022-12-01T12:01:59.122Z"
   },
   {
    "duration": 0,
    "start_time": "2022-12-01T12:01:59.123Z"
   },
   {
    "duration": 0,
    "start_time": "2022-12-01T12:01:59.124Z"
   },
   {
    "duration": 0,
    "start_time": "2022-12-01T12:01:59.126Z"
   },
   {
    "duration": 0,
    "start_time": "2022-12-01T12:01:59.127Z"
   },
   {
    "duration": 0,
    "start_time": "2022-12-01T12:01:59.128Z"
   },
   {
    "duration": 0,
    "start_time": "2022-12-01T12:01:59.129Z"
   },
   {
    "duration": 0,
    "start_time": "2022-12-01T12:01:59.130Z"
   },
   {
    "duration": 0,
    "start_time": "2022-12-01T12:01:59.131Z"
   },
   {
    "duration": 0,
    "start_time": "2022-12-01T12:01:59.176Z"
   },
   {
    "duration": 0,
    "start_time": "2022-12-01T12:01:59.177Z"
   },
   {
    "duration": 0,
    "start_time": "2022-12-01T12:01:59.178Z"
   },
   {
    "duration": 0,
    "start_time": "2022-12-01T12:01:59.180Z"
   },
   {
    "duration": 0,
    "start_time": "2022-12-01T12:01:59.181Z"
   },
   {
    "duration": 0,
    "start_time": "2022-12-01T12:01:59.182Z"
   },
   {
    "duration": 0,
    "start_time": "2022-12-01T12:01:59.183Z"
   },
   {
    "duration": 0,
    "start_time": "2022-12-01T12:01:59.184Z"
   },
   {
    "duration": 0,
    "start_time": "2022-12-01T12:01:59.185Z"
   },
   {
    "duration": 0,
    "start_time": "2022-12-01T12:01:59.186Z"
   },
   {
    "duration": 0,
    "start_time": "2022-12-01T12:01:59.187Z"
   },
   {
    "duration": 0,
    "start_time": "2022-12-01T12:01:59.188Z"
   },
   {
    "duration": 0,
    "start_time": "2022-12-01T12:01:59.189Z"
   },
   {
    "duration": 0,
    "start_time": "2022-12-01T12:01:59.190Z"
   },
   {
    "duration": 0,
    "start_time": "2022-12-01T12:01:59.191Z"
   },
   {
    "duration": 0,
    "start_time": "2022-12-01T12:01:59.192Z"
   },
   {
    "duration": 0,
    "start_time": "2022-12-01T12:01:59.193Z"
   },
   {
    "duration": 0,
    "start_time": "2022-12-01T12:01:59.194Z"
   },
   {
    "duration": 0,
    "start_time": "2022-12-01T12:01:59.195Z"
   },
   {
    "duration": 0,
    "start_time": "2022-12-01T12:01:59.197Z"
   },
   {
    "duration": 0,
    "start_time": "2022-12-01T12:01:59.198Z"
   },
   {
    "duration": 0,
    "start_time": "2022-12-01T12:01:59.199Z"
   },
   {
    "duration": 0,
    "start_time": "2022-12-01T12:01:59.200Z"
   },
   {
    "duration": 0,
    "start_time": "2022-12-01T12:01:59.201Z"
   },
   {
    "duration": 0,
    "start_time": "2022-12-01T12:01:59.202Z"
   },
   {
    "duration": 0,
    "start_time": "2022-12-01T12:01:59.204Z"
   },
   {
    "duration": 0,
    "start_time": "2022-12-01T12:01:59.205Z"
   },
   {
    "duration": 0,
    "start_time": "2022-12-01T12:01:59.206Z"
   },
   {
    "duration": 0,
    "start_time": "2022-12-01T12:01:59.207Z"
   },
   {
    "duration": 0,
    "start_time": "2022-12-01T12:01:59.209Z"
   },
   {
    "duration": 0,
    "start_time": "2022-12-01T12:01:59.210Z"
   },
   {
    "duration": 0,
    "start_time": "2022-12-01T12:01:59.211Z"
   },
   {
    "duration": 0,
    "start_time": "2022-12-01T12:01:59.212Z"
   },
   {
    "duration": 0,
    "start_time": "2022-12-01T12:01:59.214Z"
   },
   {
    "duration": 0,
    "start_time": "2022-12-01T12:01:59.214Z"
   },
   {
    "duration": 0,
    "start_time": "2022-12-01T12:01:59.277Z"
   },
   {
    "duration": 0,
    "start_time": "2022-12-01T12:01:59.278Z"
   },
   {
    "duration": 0,
    "start_time": "2022-12-01T12:01:59.280Z"
   },
   {
    "duration": 0,
    "start_time": "2022-12-01T12:01:59.281Z"
   },
   {
    "duration": 0,
    "start_time": "2022-12-01T12:01:59.282Z"
   },
   {
    "duration": 0,
    "start_time": "2022-12-01T12:01:59.283Z"
   },
   {
    "duration": 0,
    "start_time": "2022-12-01T12:01:59.285Z"
   },
   {
    "duration": 0,
    "start_time": "2022-12-01T12:01:59.286Z"
   },
   {
    "duration": 0,
    "start_time": "2022-12-01T12:01:59.287Z"
   },
   {
    "duration": 0,
    "start_time": "2022-12-01T12:01:59.288Z"
   },
   {
    "duration": 0,
    "start_time": "2022-12-01T12:01:59.290Z"
   },
   {
    "duration": 0,
    "start_time": "2022-12-01T12:01:59.291Z"
   },
   {
    "duration": 0,
    "start_time": "2022-12-01T12:01:59.292Z"
   },
   {
    "duration": 0,
    "start_time": "2022-12-01T12:01:59.293Z"
   },
   {
    "duration": 0,
    "start_time": "2022-12-01T12:01:59.294Z"
   },
   {
    "duration": 0,
    "start_time": "2022-12-01T12:01:59.295Z"
   },
   {
    "duration": 0,
    "start_time": "2022-12-01T12:01:59.296Z"
   },
   {
    "duration": 0,
    "start_time": "2022-12-01T12:01:59.297Z"
   },
   {
    "duration": 0,
    "start_time": "2022-12-01T12:01:59.298Z"
   },
   {
    "duration": 0,
    "start_time": "2022-12-01T12:01:59.299Z"
   },
   {
    "duration": 0,
    "start_time": "2022-12-01T12:01:59.300Z"
   },
   {
    "duration": 0,
    "start_time": "2022-12-01T12:01:59.302Z"
   },
   {
    "duration": 0,
    "start_time": "2022-12-01T12:01:59.302Z"
   },
   {
    "duration": 0,
    "start_time": "2022-12-01T12:01:59.303Z"
   },
   {
    "duration": 0,
    "start_time": "2022-12-01T12:01:59.304Z"
   },
   {
    "duration": 0,
    "start_time": "2022-12-01T12:01:59.306Z"
   },
   {
    "duration": 0,
    "start_time": "2022-12-01T12:01:59.307Z"
   },
   {
    "duration": 0,
    "start_time": "2022-12-01T12:01:59.307Z"
   },
   {
    "duration": 10,
    "start_time": "2022-12-01T12:03:51.348Z"
   },
   {
    "duration": 1533,
    "start_time": "2022-12-01T12:04:00.081Z"
   },
   {
    "duration": 45,
    "start_time": "2022-12-01T12:04:01.616Z"
   },
   {
    "duration": 61,
    "start_time": "2022-12-01T12:04:01.662Z"
   },
   {
    "duration": 107,
    "start_time": "2022-12-01T12:04:01.726Z"
   },
   {
    "duration": 52,
    "start_time": "2022-12-01T12:04:01.835Z"
   },
   {
    "duration": 68,
    "start_time": "2022-12-01T12:04:01.890Z"
   },
   {
    "duration": 43,
    "start_time": "2022-12-01T12:04:01.959Z"
   },
   {
    "duration": 24,
    "start_time": "2022-12-01T12:04:02.004Z"
   },
   {
    "duration": 32,
    "start_time": "2022-12-01T12:04:02.029Z"
   },
   {
    "duration": 31,
    "start_time": "2022-12-01T12:04:02.063Z"
   },
   {
    "duration": 751,
    "start_time": "2022-12-01T12:04:02.096Z"
   },
   {
    "duration": 5,
    "start_time": "2022-12-01T12:04:02.849Z"
   },
   {
    "duration": 78,
    "start_time": "2022-12-01T12:04:02.856Z"
   },
   {
    "duration": 4,
    "start_time": "2022-12-01T12:04:02.936Z"
   },
   {
    "duration": 25,
    "start_time": "2022-12-01T12:04:02.941Z"
   },
   {
    "duration": 142,
    "start_time": "2022-12-01T12:04:02.967Z"
   },
   {
    "duration": 0,
    "start_time": "2022-12-01T12:04:03.114Z"
   },
   {
    "duration": 0,
    "start_time": "2022-12-01T12:04:03.115Z"
   },
   {
    "duration": 0,
    "start_time": "2022-12-01T12:04:03.116Z"
   },
   {
    "duration": 0,
    "start_time": "2022-12-01T12:04:03.117Z"
   },
   {
    "duration": 0,
    "start_time": "2022-12-01T12:04:03.118Z"
   },
   {
    "duration": 0,
    "start_time": "2022-12-01T12:04:03.119Z"
   },
   {
    "duration": 0,
    "start_time": "2022-12-01T12:04:03.120Z"
   },
   {
    "duration": 0,
    "start_time": "2022-12-01T12:04:03.121Z"
   },
   {
    "duration": 0,
    "start_time": "2022-12-01T12:04:03.123Z"
   },
   {
    "duration": 0,
    "start_time": "2022-12-01T12:04:03.124Z"
   },
   {
    "duration": 0,
    "start_time": "2022-12-01T12:04:03.125Z"
   },
   {
    "duration": 0,
    "start_time": "2022-12-01T12:04:03.127Z"
   },
   {
    "duration": 0,
    "start_time": "2022-12-01T12:04:03.129Z"
   },
   {
    "duration": 0,
    "start_time": "2022-12-01T12:04:03.130Z"
   },
   {
    "duration": 0,
    "start_time": "2022-12-01T12:04:03.131Z"
   },
   {
    "duration": 0,
    "start_time": "2022-12-01T12:04:03.133Z"
   },
   {
    "duration": 0,
    "start_time": "2022-12-01T12:04:03.134Z"
   },
   {
    "duration": 0,
    "start_time": "2022-12-01T12:04:03.136Z"
   },
   {
    "duration": 0,
    "start_time": "2022-12-01T12:04:03.177Z"
   },
   {
    "duration": 0,
    "start_time": "2022-12-01T12:04:03.179Z"
   },
   {
    "duration": 0,
    "start_time": "2022-12-01T12:04:03.180Z"
   },
   {
    "duration": 0,
    "start_time": "2022-12-01T12:04:03.182Z"
   },
   {
    "duration": 0,
    "start_time": "2022-12-01T12:04:03.183Z"
   },
   {
    "duration": 0,
    "start_time": "2022-12-01T12:04:03.185Z"
   },
   {
    "duration": 0,
    "start_time": "2022-12-01T12:04:03.187Z"
   },
   {
    "duration": 0,
    "start_time": "2022-12-01T12:04:03.188Z"
   },
   {
    "duration": 0,
    "start_time": "2022-12-01T12:04:03.193Z"
   },
   {
    "duration": 0,
    "start_time": "2022-12-01T12:04:03.194Z"
   },
   {
    "duration": 0,
    "start_time": "2022-12-01T12:04:03.196Z"
   },
   {
    "duration": 0,
    "start_time": "2022-12-01T12:04:03.197Z"
   },
   {
    "duration": 0,
    "start_time": "2022-12-01T12:04:03.198Z"
   },
   {
    "duration": 0,
    "start_time": "2022-12-01T12:04:03.199Z"
   },
   {
    "duration": 0,
    "start_time": "2022-12-01T12:04:03.201Z"
   },
   {
    "duration": 0,
    "start_time": "2022-12-01T12:04:03.202Z"
   },
   {
    "duration": 0,
    "start_time": "2022-12-01T12:04:03.202Z"
   },
   {
    "duration": 0,
    "start_time": "2022-12-01T12:04:03.204Z"
   },
   {
    "duration": 0,
    "start_time": "2022-12-01T12:04:03.205Z"
   },
   {
    "duration": 0,
    "start_time": "2022-12-01T12:04:03.206Z"
   },
   {
    "duration": 0,
    "start_time": "2022-12-01T12:04:03.207Z"
   },
   {
    "duration": 0,
    "start_time": "2022-12-01T12:04:03.208Z"
   },
   {
    "duration": 0,
    "start_time": "2022-12-01T12:04:03.209Z"
   },
   {
    "duration": 0,
    "start_time": "2022-12-01T12:04:03.210Z"
   },
   {
    "duration": 0,
    "start_time": "2022-12-01T12:04:03.210Z"
   },
   {
    "duration": 0,
    "start_time": "2022-12-01T12:04:03.212Z"
   },
   {
    "duration": 0,
    "start_time": "2022-12-01T12:04:03.213Z"
   },
   {
    "duration": 0,
    "start_time": "2022-12-01T12:04:03.213Z"
   },
   {
    "duration": 0,
    "start_time": "2022-12-01T12:04:03.214Z"
   },
   {
    "duration": 0,
    "start_time": "2022-12-01T12:04:03.216Z"
   },
   {
    "duration": 0,
    "start_time": "2022-12-01T12:04:03.217Z"
   },
   {
    "duration": 0,
    "start_time": "2022-12-01T12:04:03.218Z"
   },
   {
    "duration": 0,
    "start_time": "2022-12-01T12:04:03.278Z"
   },
   {
    "duration": 0,
    "start_time": "2022-12-01T12:04:03.280Z"
   },
   {
    "duration": 0,
    "start_time": "2022-12-01T12:04:03.281Z"
   },
   {
    "duration": 0,
    "start_time": "2022-12-01T12:04:03.284Z"
   },
   {
    "duration": 0,
    "start_time": "2022-12-01T12:04:03.285Z"
   },
   {
    "duration": 0,
    "start_time": "2022-12-01T12:04:03.286Z"
   },
   {
    "duration": 0,
    "start_time": "2022-12-01T12:04:03.286Z"
   },
   {
    "duration": 0,
    "start_time": "2022-12-01T12:04:03.287Z"
   },
   {
    "duration": 0,
    "start_time": "2022-12-01T12:04:03.292Z"
   },
   {
    "duration": 0,
    "start_time": "2022-12-01T12:04:03.294Z"
   },
   {
    "duration": 0,
    "start_time": "2022-12-01T12:04:03.295Z"
   },
   {
    "duration": 0,
    "start_time": "2022-12-01T12:04:03.296Z"
   },
   {
    "duration": 0,
    "start_time": "2022-12-01T12:04:03.297Z"
   },
   {
    "duration": 0,
    "start_time": "2022-12-01T12:04:03.298Z"
   },
   {
    "duration": 0,
    "start_time": "2022-12-01T12:04:03.299Z"
   },
   {
    "duration": 0,
    "start_time": "2022-12-01T12:04:03.300Z"
   },
   {
    "duration": 0,
    "start_time": "2022-12-01T12:04:03.301Z"
   },
   {
    "duration": 0,
    "start_time": "2022-12-01T12:04:03.302Z"
   },
   {
    "duration": 0,
    "start_time": "2022-12-01T12:04:03.304Z"
   },
   {
    "duration": 0,
    "start_time": "2022-12-01T12:04:03.305Z"
   },
   {
    "duration": 0,
    "start_time": "2022-12-01T12:04:03.306Z"
   },
   {
    "duration": 0,
    "start_time": "2022-12-01T12:04:03.308Z"
   },
   {
    "duration": 0,
    "start_time": "2022-12-01T12:04:03.309Z"
   },
   {
    "duration": 0,
    "start_time": "2022-12-01T12:04:03.310Z"
   },
   {
    "duration": 0,
    "start_time": "2022-12-01T12:04:03.311Z"
   },
   {
    "duration": 0,
    "start_time": "2022-12-01T12:04:03.313Z"
   },
   {
    "duration": 0,
    "start_time": "2022-12-01T12:04:03.314Z"
   },
   {
    "duration": 0,
    "start_time": "2022-12-01T12:04:03.315Z"
   },
   {
    "duration": 0,
    "start_time": "2022-12-01T12:04:03.316Z"
   },
   {
    "duration": 0,
    "start_time": "2022-12-01T12:04:03.317Z"
   },
   {
    "duration": 0,
    "start_time": "2022-12-01T12:04:03.318Z"
   },
   {
    "duration": 0,
    "start_time": "2022-12-01T12:04:03.320Z"
   },
   {
    "duration": 0,
    "start_time": "2022-12-01T12:04:03.377Z"
   },
   {
    "duration": 0,
    "start_time": "2022-12-01T12:04:03.379Z"
   },
   {
    "duration": 0,
    "start_time": "2022-12-01T12:04:03.381Z"
   },
   {
    "duration": 0,
    "start_time": "2022-12-01T12:04:03.382Z"
   },
   {
    "duration": 0,
    "start_time": "2022-12-01T12:04:03.383Z"
   },
   {
    "duration": 0,
    "start_time": "2022-12-01T12:04:03.385Z"
   },
   {
    "duration": 0,
    "start_time": "2022-12-01T12:04:03.387Z"
   },
   {
    "duration": 0,
    "start_time": "2022-12-01T12:04:03.392Z"
   },
   {
    "duration": 1,
    "start_time": "2022-12-01T12:04:03.393Z"
   },
   {
    "duration": 1,
    "start_time": "2022-12-01T12:04:03.394Z"
   },
   {
    "duration": 0,
    "start_time": "2022-12-01T12:04:03.396Z"
   },
   {
    "duration": 0,
    "start_time": "2022-12-01T12:04:03.396Z"
   },
   {
    "duration": 0,
    "start_time": "2022-12-01T12:04:03.398Z"
   },
   {
    "duration": 0,
    "start_time": "2022-12-01T12:04:03.399Z"
   },
   {
    "duration": 0,
    "start_time": "2022-12-01T12:04:03.400Z"
   },
   {
    "duration": 0,
    "start_time": "2022-12-01T12:04:03.401Z"
   },
   {
    "duration": 1,
    "start_time": "2022-12-01T12:04:03.401Z"
   },
   {
    "duration": 0,
    "start_time": "2022-12-01T12:04:03.403Z"
   },
   {
    "duration": 0,
    "start_time": "2022-12-01T12:04:03.404Z"
   },
   {
    "duration": 0,
    "start_time": "2022-12-01T12:04:03.405Z"
   },
   {
    "duration": 0,
    "start_time": "2022-12-01T12:04:03.406Z"
   },
   {
    "duration": 0,
    "start_time": "2022-12-01T12:04:03.407Z"
   },
   {
    "duration": 0,
    "start_time": "2022-12-01T12:04:03.408Z"
   },
   {
    "duration": 0,
    "start_time": "2022-12-01T12:04:03.409Z"
   },
   {
    "duration": 0,
    "start_time": "2022-12-01T12:04:03.410Z"
   },
   {
    "duration": 0,
    "start_time": "2022-12-01T12:04:03.411Z"
   },
   {
    "duration": 0,
    "start_time": "2022-12-01T12:04:03.412Z"
   },
   {
    "duration": 0,
    "start_time": "2022-12-01T12:04:03.413Z"
   },
   {
    "duration": 0,
    "start_time": "2022-12-01T12:04:03.415Z"
   },
   {
    "duration": 0,
    "start_time": "2022-12-01T12:04:03.416Z"
   },
   {
    "duration": 0,
    "start_time": "2022-12-01T12:04:03.477Z"
   },
   {
    "duration": 0,
    "start_time": "2022-12-01T12:04:03.479Z"
   },
   {
    "duration": 0,
    "start_time": "2022-12-01T12:04:03.481Z"
   },
   {
    "duration": 0,
    "start_time": "2022-12-01T12:04:03.485Z"
   },
   {
    "duration": 0,
    "start_time": "2022-12-01T12:04:03.486Z"
   },
   {
    "duration": 0,
    "start_time": "2022-12-01T12:04:03.487Z"
   },
   {
    "duration": 0,
    "start_time": "2022-12-01T12:04:03.488Z"
   },
   {
    "duration": 0,
    "start_time": "2022-12-01T12:04:03.489Z"
   },
   {
    "duration": 0,
    "start_time": "2022-12-01T12:04:03.490Z"
   },
   {
    "duration": 0,
    "start_time": "2022-12-01T12:04:03.492Z"
   },
   {
    "duration": 0,
    "start_time": "2022-12-01T12:04:03.494Z"
   },
   {
    "duration": 0,
    "start_time": "2022-12-01T12:04:03.495Z"
   },
   {
    "duration": 0,
    "start_time": "2022-12-01T12:04:03.496Z"
   },
   {
    "duration": 0,
    "start_time": "2022-12-01T12:04:03.497Z"
   },
   {
    "duration": 0,
    "start_time": "2022-12-01T12:04:03.498Z"
   },
   {
    "duration": 0,
    "start_time": "2022-12-01T12:04:03.499Z"
   },
   {
    "duration": 0,
    "start_time": "2022-12-01T12:04:03.500Z"
   },
   {
    "duration": 0,
    "start_time": "2022-12-01T12:04:03.501Z"
   },
   {
    "duration": 0,
    "start_time": "2022-12-01T12:04:03.503Z"
   },
   {
    "duration": 0,
    "start_time": "2022-12-01T12:04:03.504Z"
   },
   {
    "duration": 0,
    "start_time": "2022-12-01T12:04:03.504Z"
   },
   {
    "duration": 0,
    "start_time": "2022-12-01T12:04:03.505Z"
   },
   {
    "duration": 0,
    "start_time": "2022-12-01T12:04:03.506Z"
   },
   {
    "duration": 0,
    "start_time": "2022-12-01T12:04:03.507Z"
   },
   {
    "duration": 0,
    "start_time": "2022-12-01T12:04:03.508Z"
   },
   {
    "duration": 0,
    "start_time": "2022-12-01T12:04:03.509Z"
   },
   {
    "duration": 0,
    "start_time": "2022-12-01T12:04:03.510Z"
   },
   {
    "duration": 0,
    "start_time": "2022-12-01T12:04:03.511Z"
   },
   {
    "duration": 0,
    "start_time": "2022-12-01T12:04:03.512Z"
   },
   {
    "duration": 0,
    "start_time": "2022-12-01T12:04:03.514Z"
   },
   {
    "duration": 0,
    "start_time": "2022-12-01T12:04:03.515Z"
   },
   {
    "duration": 0,
    "start_time": "2022-12-01T12:04:03.576Z"
   },
   {
    "duration": 4,
    "start_time": "2022-12-01T12:05:03.431Z"
   },
   {
    "duration": 8,
    "start_time": "2022-12-01T12:05:27.699Z"
   },
   {
    "duration": 11,
    "start_time": "2022-12-01T12:06:06.660Z"
   },
   {
    "duration": 7,
    "start_time": "2022-12-01T12:06:14.593Z"
   },
   {
    "duration": 13,
    "start_time": "2022-12-01T12:06:16.543Z"
   },
   {
    "duration": 7,
    "start_time": "2022-12-01T12:06:18.091Z"
   },
   {
    "duration": 8,
    "start_time": "2022-12-01T12:06:21.863Z"
   },
   {
    "duration": 15,
    "start_time": "2022-12-01T12:06:23.688Z"
   },
   {
    "duration": 12,
    "start_time": "2022-12-01T12:06:31.326Z"
   },
   {
    "duration": 14,
    "start_time": "2022-12-01T12:06:32.615Z"
   },
   {
    "duration": 3,
    "start_time": "2022-12-01T12:06:34.148Z"
   },
   {
    "duration": 317,
    "start_time": "2022-12-01T12:06:53.340Z"
   },
   {
    "duration": 2,
    "start_time": "2022-12-01T12:06:59.025Z"
   },
   {
    "duration": 236,
    "start_time": "2022-12-01T12:07:02.422Z"
   },
   {
    "duration": 245,
    "start_time": "2022-12-01T12:07:05.034Z"
   },
   {
    "duration": 32,
    "start_time": "2022-12-01T12:50:15.623Z"
   },
   {
    "duration": 1544,
    "start_time": "2022-12-01T12:50:34.863Z"
   },
   {
    "duration": 43,
    "start_time": "2022-12-01T12:50:36.408Z"
   },
   {
    "duration": 11,
    "start_time": "2022-12-01T12:50:36.453Z"
   },
   {
    "duration": 18,
    "start_time": "2022-12-01T12:50:36.465Z"
   },
   {
    "duration": 16,
    "start_time": "2022-12-01T12:50:36.487Z"
   },
   {
    "duration": 17,
    "start_time": "2022-12-01T12:50:36.504Z"
   },
   {
    "duration": 12,
    "start_time": "2022-12-01T12:50:36.523Z"
   },
   {
    "duration": 27,
    "start_time": "2022-12-01T12:50:36.537Z"
   },
   {
    "duration": 23,
    "start_time": "2022-12-01T12:50:36.566Z"
   },
   {
    "duration": 24,
    "start_time": "2022-12-01T12:50:36.593Z"
   },
   {
    "duration": 681,
    "start_time": "2022-12-01T12:50:36.618Z"
   },
   {
    "duration": 5,
    "start_time": "2022-12-01T12:50:37.301Z"
   },
   {
    "duration": 8,
    "start_time": "2022-12-01T12:50:37.308Z"
   },
   {
    "duration": 6,
    "start_time": "2022-12-01T12:50:37.319Z"
   },
   {
    "duration": 12,
    "start_time": "2022-12-01T12:50:37.328Z"
   },
   {
    "duration": 9,
    "start_time": "2022-12-01T12:50:37.342Z"
   },
   {
    "duration": 22,
    "start_time": "2022-12-01T12:50:37.376Z"
   },
   {
    "duration": 220,
    "start_time": "2022-12-01T12:50:37.400Z"
   },
   {
    "duration": 8,
    "start_time": "2022-12-01T12:50:37.621Z"
   },
   {
    "duration": 12,
    "start_time": "2022-12-01T12:50:37.630Z"
   },
   {
    "duration": 14,
    "start_time": "2022-12-01T12:50:37.644Z"
   },
   {
    "duration": 284,
    "start_time": "2022-12-01T12:50:37.659Z"
   },
   {
    "duration": 10,
    "start_time": "2022-12-01T12:50:37.945Z"
   },
   {
    "duration": 20,
    "start_time": "2022-12-01T12:50:37.957Z"
   },
   {
    "duration": 230,
    "start_time": "2022-12-01T12:50:37.979Z"
   },
   {
    "duration": 6,
    "start_time": "2022-12-01T12:50:38.210Z"
   },
   {
    "duration": 12,
    "start_time": "2022-12-01T12:50:38.217Z"
   },
   {
    "duration": 18,
    "start_time": "2022-12-01T12:50:38.231Z"
   },
   {
    "duration": 185,
    "start_time": "2022-12-01T12:50:38.250Z"
   },
   {
    "duration": 18,
    "start_time": "2022-12-01T12:50:38.437Z"
   },
   {
    "duration": 4,
    "start_time": "2022-12-01T12:50:38.456Z"
   },
   {
    "duration": 12,
    "start_time": "2022-12-01T12:50:38.477Z"
   },
   {
    "duration": 17,
    "start_time": "2022-12-01T12:50:38.491Z"
   },
   {
    "duration": 11,
    "start_time": "2022-12-01T12:50:38.510Z"
   },
   {
    "duration": 16,
    "start_time": "2022-12-01T12:50:38.522Z"
   },
   {
    "duration": 22,
    "start_time": "2022-12-01T12:52:21.212Z"
   },
   {
    "duration": 5,
    "start_time": "2022-12-01T12:53:42.369Z"
   },
   {
    "duration": 53,
    "start_time": "2022-12-01T21:43:15.835Z"
   },
   {
    "duration": 1722,
    "start_time": "2022-12-01T21:43:22.564Z"
   },
   {
    "duration": 109,
    "start_time": "2022-12-01T21:43:24.288Z"
   },
   {
    "duration": 14,
    "start_time": "2022-12-01T21:43:24.398Z"
   },
   {
    "duration": 14,
    "start_time": "2022-12-01T21:43:24.414Z"
   },
   {
    "duration": 15,
    "start_time": "2022-12-01T21:43:24.430Z"
   },
   {
    "duration": 14,
    "start_time": "2022-12-01T21:43:24.446Z"
   },
   {
    "duration": 17,
    "start_time": "2022-12-01T21:43:24.462Z"
   },
   {
    "duration": 15,
    "start_time": "2022-12-01T21:43:24.480Z"
   },
   {
    "duration": 17,
    "start_time": "2022-12-01T21:43:24.496Z"
   },
   {
    "duration": 7,
    "start_time": "2022-12-01T21:43:24.515Z"
   },
   {
    "duration": 718,
    "start_time": "2022-12-01T21:43:24.524Z"
   },
   {
    "duration": 106,
    "start_time": "2022-12-01T21:43:37.601Z"
   },
   {
    "duration": 5,
    "start_time": "2022-12-01T21:43:42.868Z"
   },
   {
    "duration": 5,
    "start_time": "2022-12-01T21:44:06.769Z"
   },
   {
    "duration": 8,
    "start_time": "2022-12-01T21:44:56.151Z"
   },
   {
    "duration": 8,
    "start_time": "2022-12-01T21:45:34.872Z"
   },
   {
    "duration": 9,
    "start_time": "2022-12-01T21:49:17.020Z"
   },
   {
    "duration": 5,
    "start_time": "2022-12-01T21:49:27.802Z"
   },
   {
    "duration": 64,
    "start_time": "2022-12-01T21:49:53.162Z"
   },
   {
    "duration": 13,
    "start_time": "2022-12-01T21:50:04.551Z"
   },
   {
    "duration": 10,
    "start_time": "2022-12-01T21:51:27.193Z"
   },
   {
    "duration": 9,
    "start_time": "2022-12-01T21:51:41.823Z"
   },
   {
    "duration": 21,
    "start_time": "2022-12-01T21:51:46.741Z"
   },
   {
    "duration": 10,
    "start_time": "2022-12-01T21:51:55.550Z"
   },
   {
    "duration": 5,
    "start_time": "2022-12-01T21:52:26.193Z"
   },
   {
    "duration": 17,
    "start_time": "2022-12-01T21:52:39.556Z"
   },
   {
    "duration": 20,
    "start_time": "2022-12-01T21:52:42.699Z"
   },
   {
    "duration": 8,
    "start_time": "2022-12-01T21:54:34.675Z"
   },
   {
    "duration": 12,
    "start_time": "2022-12-01T21:55:20.558Z"
   },
   {
    "duration": 6,
    "start_time": "2022-12-01T21:57:56.967Z"
   },
   {
    "duration": 5,
    "start_time": "2022-12-01T21:57:58.925Z"
   },
   {
    "duration": 16,
    "start_time": "2022-12-01T21:58:50.649Z"
   },
   {
    "duration": 5,
    "start_time": "2022-12-01T21:58:55.068Z"
   },
   {
    "duration": 9,
    "start_time": "2022-12-01T21:58:55.664Z"
   },
   {
    "duration": 22,
    "start_time": "2022-12-01T21:58:56.395Z"
   },
   {
    "duration": 10,
    "start_time": "2022-12-01T22:00:04.294Z"
   },
   {
    "duration": 1470,
    "start_time": "2022-12-01T22:00:13.674Z"
   },
   {
    "duration": 42,
    "start_time": "2022-12-01T22:00:15.146Z"
   },
   {
    "duration": 12,
    "start_time": "2022-12-01T22:00:15.190Z"
   },
   {
    "duration": 14,
    "start_time": "2022-12-01T22:00:15.204Z"
   },
   {
    "duration": 24,
    "start_time": "2022-12-01T22:00:15.220Z"
   },
   {
    "duration": 11,
    "start_time": "2022-12-01T22:00:15.245Z"
   },
   {
    "duration": 29,
    "start_time": "2022-12-01T22:00:15.257Z"
   },
   {
    "duration": 12,
    "start_time": "2022-12-01T22:00:15.288Z"
   },
   {
    "duration": 14,
    "start_time": "2022-12-01T22:00:15.301Z"
   },
   {
    "duration": 14,
    "start_time": "2022-12-01T22:00:15.316Z"
   },
   {
    "duration": 7,
    "start_time": "2022-12-01T22:00:15.332Z"
   },
   {
    "duration": 676,
    "start_time": "2022-12-01T22:00:15.340Z"
   },
   {
    "duration": 5,
    "start_time": "2022-12-01T22:00:16.019Z"
   },
   {
    "duration": 6,
    "start_time": "2022-12-01T22:00:16.027Z"
   },
   {
    "duration": 9,
    "start_time": "2022-12-01T22:00:16.035Z"
   },
   {
    "duration": 33,
    "start_time": "2022-12-01T22:00:16.046Z"
   },
   {
    "duration": 5,
    "start_time": "2022-12-01T22:00:16.080Z"
   },
   {
    "duration": 20,
    "start_time": "2022-12-01T22:00:16.087Z"
   },
   {
    "duration": 12,
    "start_time": "2022-12-01T22:00:16.108Z"
   },
   {
    "duration": 12,
    "start_time": "2022-12-01T22:00:16.121Z"
   },
   {
    "duration": 6,
    "start_time": "2022-12-01T22:00:16.135Z"
   },
   {
    "duration": 37,
    "start_time": "2022-12-01T22:00:16.143Z"
   },
   {
    "duration": 9,
    "start_time": "2022-12-01T22:00:16.182Z"
   },
   {
    "duration": 12,
    "start_time": "2022-12-01T22:00:25.089Z"
   },
   {
    "duration": 12,
    "start_time": "2022-12-01T22:00:36.686Z"
   },
   {
    "duration": 107,
    "start_time": "2022-12-01T22:01:46.766Z"
   },
   {
    "duration": 4,
    "start_time": "2022-12-01T22:02:08.101Z"
   },
   {
    "duration": 4,
    "start_time": "2022-12-01T22:02:11.693Z"
   },
   {
    "duration": 4,
    "start_time": "2022-12-01T22:02:57.823Z"
   },
   {
    "duration": 4,
    "start_time": "2022-12-01T22:03:06.088Z"
   },
   {
    "duration": 16,
    "start_time": "2022-12-01T22:03:24.871Z"
   },
   {
    "duration": 3,
    "start_time": "2022-12-01T22:03:38.333Z"
   },
   {
    "duration": 14,
    "start_time": "2022-12-01T22:03:38.881Z"
   },
   {
    "duration": 3,
    "start_time": "2022-12-01T22:03:54.666Z"
   },
   {
    "duration": 18,
    "start_time": "2022-12-01T22:03:55.197Z"
   },
   {
    "duration": 13,
    "start_time": "2022-12-01T22:04:40.772Z"
   },
   {
    "duration": 9,
    "start_time": "2022-12-01T22:04:58.213Z"
   },
   {
    "duration": 3046,
    "start_time": "2022-12-01T22:05:02.907Z"
   },
   {
    "duration": 5,
    "start_time": "2022-12-01T22:05:34.857Z"
   },
   {
    "duration": 594,
    "start_time": "2022-12-01T22:08:28.455Z"
   },
   {
    "duration": 11,
    "start_time": "2022-12-01T22:08:43.269Z"
   },
   {
    "duration": 1147,
    "start_time": "2022-12-01T22:08:48.485Z"
   },
   {
    "duration": 176,
    "start_time": "2022-12-01T22:09:03.079Z"
   },
   {
    "duration": 171,
    "start_time": "2022-12-01T22:09:08.989Z"
   },
   {
    "duration": 8,
    "start_time": "2022-12-01T22:11:37.239Z"
   },
   {
    "duration": 3,
    "start_time": "2022-12-01T22:12:43.022Z"
   },
   {
    "duration": 38,
    "start_time": "2022-12-01T22:13:38.847Z"
   },
   {
    "duration": 7,
    "start_time": "2022-12-01T22:14:01.955Z"
   },
   {
    "duration": 7,
    "start_time": "2022-12-01T22:14:20.408Z"
   },
   {
    "duration": 1767,
    "start_time": "2022-12-01T22:14:40.263Z"
   },
   {
    "duration": 1309,
    "start_time": "2022-12-01T22:15:00.316Z"
   },
   {
    "duration": 29,
    "start_time": "2022-12-01T22:15:03.909Z"
   },
   {
    "duration": 84,
    "start_time": "2022-12-01T22:15:23.375Z"
   },
   {
    "duration": 19,
    "start_time": "2022-12-01T22:15:36.384Z"
   },
   {
    "duration": 129,
    "start_time": "2022-12-01T22:16:01.889Z"
   },
   {
    "duration": 109,
    "start_time": "2022-12-01T22:16:25.500Z"
   },
   {
    "duration": 20,
    "start_time": "2022-12-01T22:16:54.551Z"
   },
   {
    "duration": 20,
    "start_time": "2022-12-01T22:17:00.515Z"
   },
   {
    "duration": 304,
    "start_time": "2022-12-01T22:17:05.679Z"
   },
   {
    "duration": 17,
    "start_time": "2022-12-01T22:17:52.492Z"
   },
   {
    "duration": 4,
    "start_time": "2022-12-01T22:18:50.729Z"
   },
   {
    "duration": 7,
    "start_time": "2022-12-01T22:19:26.595Z"
   },
   {
    "duration": 474,
    "start_time": "2022-12-01T22:19:31.428Z"
   },
   {
    "duration": 384,
    "start_time": "2022-12-01T22:20:06.672Z"
   },
   {
    "duration": 186,
    "start_time": "2022-12-01T22:20:21.744Z"
   },
   {
    "duration": 79,
    "start_time": "2022-12-01T22:21:17.626Z"
   },
   {
    "duration": 9,
    "start_time": "2022-12-01T22:21:39.549Z"
   },
   {
    "duration": 4,
    "start_time": "2022-12-01T22:21:50.403Z"
   },
   {
    "duration": 16,
    "start_time": "2022-12-01T22:22:50.051Z"
   },
   {
    "duration": 10,
    "start_time": "2022-12-01T22:23:00.191Z"
   },
   {
    "duration": 7,
    "start_time": "2022-12-01T22:23:10.943Z"
   },
   {
    "duration": 135,
    "start_time": "2022-12-01T22:27:21.837Z"
   },
   {
    "duration": 5,
    "start_time": "2022-12-01T22:28:04.187Z"
   },
   {
    "duration": 107,
    "start_time": "2022-12-01T22:28:18.064Z"
   },
   {
    "duration": 7,
    "start_time": "2022-12-01T22:28:47.159Z"
   },
   {
    "duration": 4,
    "start_time": "2022-12-01T22:28:57.276Z"
   },
   {
    "duration": 7,
    "start_time": "2022-12-01T22:29:05.149Z"
   },
   {
    "duration": 4310,
    "start_time": "2022-12-01T22:29:13.919Z"
   },
   {
    "duration": 346,
    "start_time": "2022-12-01T22:29:41.832Z"
   },
   {
    "duration": 12,
    "start_time": "2022-12-01T22:29:51.449Z"
   },
   {
    "duration": 6,
    "start_time": "2022-12-01T22:30:00.140Z"
   },
   {
    "duration": 4,
    "start_time": "2022-12-01T22:30:07.033Z"
   },
   {
    "duration": 811,
    "start_time": "2022-12-01T22:30:14.711Z"
   },
   {
    "duration": 1191,
    "start_time": "2022-12-01T22:30:37.060Z"
   },
   {
    "duration": 1105,
    "start_time": "2022-12-01T22:31:46.759Z"
   },
   {
    "duration": 1451,
    "start_time": "2022-12-01T22:33:48.689Z"
   },
   {
    "duration": 43,
    "start_time": "2022-12-01T22:33:50.142Z"
   },
   {
    "duration": 12,
    "start_time": "2022-12-01T22:33:50.187Z"
   },
   {
    "duration": 12,
    "start_time": "2022-12-01T22:33:50.202Z"
   },
   {
    "duration": 23,
    "start_time": "2022-12-01T22:33:50.215Z"
   },
   {
    "duration": 13,
    "start_time": "2022-12-01T22:33:50.239Z"
   },
   {
    "duration": 27,
    "start_time": "2022-12-01T22:33:50.253Z"
   },
   {
    "duration": 15,
    "start_time": "2022-12-01T22:33:50.281Z"
   },
   {
    "duration": 19,
    "start_time": "2022-12-01T22:33:50.298Z"
   },
   {
    "duration": 9,
    "start_time": "2022-12-01T22:33:50.320Z"
   },
   {
    "duration": 8,
    "start_time": "2022-12-01T22:33:50.331Z"
   },
   {
    "duration": 13,
    "start_time": "2022-12-01T22:33:50.341Z"
   },
   {
    "duration": 8,
    "start_time": "2022-12-01T22:33:50.355Z"
   },
   {
    "duration": 854,
    "start_time": "2022-12-01T22:33:50.378Z"
   },
   {
    "duration": 249,
    "start_time": "2022-12-01T22:33:51.234Z"
   },
   {
    "duration": 5,
    "start_time": "2022-12-01T22:33:51.485Z"
   },
   {
    "duration": 6,
    "start_time": "2022-12-01T22:33:51.491Z"
   },
   {
    "duration": 12,
    "start_time": "2022-12-01T22:33:51.498Z"
   },
   {
    "duration": 9,
    "start_time": "2022-12-01T22:33:51.512Z"
   },
   {
    "duration": 6,
    "start_time": "2022-12-01T22:33:51.522Z"
   },
   {
    "duration": 53,
    "start_time": "2022-12-01T22:33:51.530Z"
   },
   {
    "duration": 10,
    "start_time": "2022-12-01T22:33:51.584Z"
   },
   {
    "duration": 13,
    "start_time": "2022-12-01T22:33:51.596Z"
   },
   {
    "duration": 7,
    "start_time": "2022-12-01T22:33:51.610Z"
   },
   {
    "duration": 8,
    "start_time": "2022-12-01T22:33:51.618Z"
   },
   {
    "duration": 13,
    "start_time": "2022-12-01T22:33:51.627Z"
   },
   {
    "duration": 3,
    "start_time": "2022-12-01T22:33:51.641Z"
   },
   {
    "duration": 4,
    "start_time": "2022-12-01T22:33:51.679Z"
   },
   {
    "duration": 3014,
    "start_time": "2022-12-01T22:33:51.684Z"
   },
   {
    "duration": 4,
    "start_time": "2022-12-01T22:33:54.700Z"
   },
   {
    "duration": 7,
    "start_time": "2022-12-01T22:33:54.705Z"
   },
   {
    "duration": 41,
    "start_time": "2022-12-01T22:33:54.714Z"
   },
   {
    "duration": 7,
    "start_time": "2022-12-01T22:33:54.756Z"
   },
   {
    "duration": 21,
    "start_time": "2022-12-01T22:33:54.765Z"
   },
   {
    "duration": 1305,
    "start_time": "2022-12-01T22:33:54.788Z"
   },
   {
    "duration": 25,
    "start_time": "2022-12-01T22:33:56.095Z"
   },
   {
    "duration": 60,
    "start_time": "2022-12-01T22:33:56.121Z"
   },
   {
    "duration": 15,
    "start_time": "2022-12-01T22:33:56.183Z"
   },
   {
    "duration": 147,
    "start_time": "2022-12-01T22:33:56.200Z"
   },
   {
    "duration": 118,
    "start_time": "2022-12-01T22:33:56.349Z"
   },
   {
    "duration": 263,
    "start_time": "2022-12-01T22:33:56.469Z"
   },
   {
    "duration": 404,
    "start_time": "2022-12-01T22:33:56.734Z"
   },
   {
    "duration": 412,
    "start_time": "2022-12-01T22:33:57.140Z"
   },
   {
    "duration": 311,
    "start_time": "2022-12-01T22:33:57.555Z"
   },
   {
    "duration": 11,
    "start_time": "2022-12-01T22:33:57.868Z"
   },
   {
    "duration": 120,
    "start_time": "2022-12-01T22:33:57.881Z"
   },
   {
    "duration": 9,
    "start_time": "2022-12-01T22:33:58.003Z"
   },
   {
    "duration": 5,
    "start_time": "2022-12-01T22:33:58.014Z"
   },
   {
    "duration": 9,
    "start_time": "2022-12-01T22:33:58.021Z"
   },
   {
    "duration": 4250,
    "start_time": "2022-12-01T22:33:58.032Z"
   },
   {
    "duration": 401,
    "start_time": "2022-12-01T22:34:02.284Z"
   },
   {
    "duration": 94,
    "start_time": "2022-12-01T22:34:02.687Z"
   },
   {
    "duration": 15,
    "start_time": "2022-12-01T22:34:02.783Z"
   },
   {
    "duration": 8,
    "start_time": "2022-12-01T22:34:02.799Z"
   },
   {
    "duration": 880,
    "start_time": "2022-12-01T22:34:02.808Z"
   },
   {
    "duration": 1212,
    "start_time": "2022-12-01T22:34:03.689Z"
   },
   {
    "duration": 0,
    "start_time": "2022-12-01T22:34:04.903Z"
   },
   {
    "duration": 0,
    "start_time": "2022-12-01T22:34:04.904Z"
   },
   {
    "duration": 0,
    "start_time": "2022-12-01T22:34:04.905Z"
   },
   {
    "duration": 0,
    "start_time": "2022-12-01T22:34:04.906Z"
   },
   {
    "duration": 0,
    "start_time": "2022-12-01T22:34:04.908Z"
   },
   {
    "duration": 200,
    "start_time": "2022-12-01T22:35:48.005Z"
   },
   {
    "duration": 32,
    "start_time": "2022-12-01T22:40:30.986Z"
   },
   {
    "duration": 46,
    "start_time": "2022-12-01T22:40:35.673Z"
   },
   {
    "duration": 16,
    "start_time": "2022-12-01T22:40:37.539Z"
   },
   {
    "duration": 202,
    "start_time": "2022-12-01T22:40:39.153Z"
   },
   {
    "duration": 178,
    "start_time": "2022-12-01T22:40:47.460Z"
   },
   {
    "duration": 479,
    "start_time": "2022-12-01T22:40:54.314Z"
   },
   {
    "duration": 506,
    "start_time": "2022-12-01T22:41:02.331Z"
   },
   {
    "duration": 425,
    "start_time": "2022-12-01T22:41:17.633Z"
   },
   {
    "duration": 202,
    "start_time": "2022-12-01T22:41:21.217Z"
   },
   {
    "duration": 5,
    "start_time": "2022-12-01T22:41:23.399Z"
   },
   {
    "duration": 107,
    "start_time": "2022-12-01T22:41:24.503Z"
   },
   {
    "duration": 6,
    "start_time": "2022-12-01T22:41:26.252Z"
   },
   {
    "duration": 4,
    "start_time": "2022-12-01T22:41:26.854Z"
   },
   {
    "duration": 9,
    "start_time": "2022-12-01T22:41:27.433Z"
   },
   {
    "duration": 4523,
    "start_time": "2022-12-01T22:41:28.368Z"
   },
   {
    "duration": 517,
    "start_time": "2022-12-01T22:41:35.463Z"
   },
   {
    "duration": 12,
    "start_time": "2022-12-01T22:41:36.078Z"
   },
   {
    "duration": 7,
    "start_time": "2022-12-01T22:41:36.857Z"
   },
   {
    "duration": 4,
    "start_time": "2022-12-01T22:41:38.696Z"
   },
   {
    "duration": 956,
    "start_time": "2022-12-01T22:41:39.513Z"
   },
   {
    "duration": 273,
    "start_time": "2022-12-01T22:41:41.383Z"
   },
   {
    "duration": 248,
    "start_time": "2022-12-01T22:42:50.213Z"
   },
   {
    "duration": 179,
    "start_time": "2022-12-01T22:42:59.433Z"
   },
   {
    "duration": 278,
    "start_time": "2022-12-01T22:43:08.803Z"
   },
   {
    "duration": 338,
    "start_time": "2022-12-01T22:43:21.097Z"
   },
   {
    "duration": 409,
    "start_time": "2022-12-01T22:43:37.800Z"
   },
   {
    "duration": 459,
    "start_time": "2022-12-01T22:43:45.892Z"
   },
   {
    "duration": 480,
    "start_time": "2022-12-01T22:43:54.998Z"
   },
   {
    "duration": 486,
    "start_time": "2022-12-01T22:44:02.381Z"
   },
   {
    "duration": 575,
    "start_time": "2022-12-01T22:44:12.988Z"
   },
   {
    "duration": 623,
    "start_time": "2022-12-01T22:44:30.373Z"
   },
   {
    "duration": 1980,
    "start_time": "2022-12-02T19:06:36.682Z"
   },
   {
    "duration": 122,
    "start_time": "2022-12-02T19:06:38.664Z"
   },
   {
    "duration": 15,
    "start_time": "2022-12-02T19:06:38.788Z"
   },
   {
    "duration": 22,
    "start_time": "2022-12-02T19:06:38.804Z"
   },
   {
    "duration": 34,
    "start_time": "2022-12-02T19:06:38.829Z"
   },
   {
    "duration": 30,
    "start_time": "2022-12-02T19:06:38.870Z"
   },
   {
    "duration": 21,
    "start_time": "2022-12-02T19:06:38.902Z"
   },
   {
    "duration": 23,
    "start_time": "2022-12-02T19:06:38.924Z"
   },
   {
    "duration": 58,
    "start_time": "2022-12-02T19:06:38.949Z"
   },
   {
    "duration": 44,
    "start_time": "2022-12-02T19:06:39.009Z"
   },
   {
    "duration": 65,
    "start_time": "2022-12-02T19:06:39.055Z"
   },
   {
    "duration": 46,
    "start_time": "2022-12-02T19:06:39.122Z"
   },
   {
    "duration": 55,
    "start_time": "2022-12-02T19:06:39.171Z"
   },
   {
    "duration": 1359,
    "start_time": "2022-12-02T19:06:39.230Z"
   },
   {
    "duration": 333,
    "start_time": "2022-12-02T19:06:40.592Z"
   },
   {
    "duration": 6,
    "start_time": "2022-12-02T19:06:40.926Z"
   },
   {
    "duration": 45,
    "start_time": "2022-12-02T19:06:40.934Z"
   },
   {
    "duration": 48,
    "start_time": "2022-12-02T19:06:40.983Z"
   },
   {
    "duration": 29,
    "start_time": "2022-12-02T19:06:41.033Z"
   },
   {
    "duration": 32,
    "start_time": "2022-12-02T19:06:41.066Z"
   },
   {
    "duration": 77,
    "start_time": "2022-12-02T19:06:41.100Z"
   },
   {
    "duration": 36,
    "start_time": "2022-12-02T19:06:41.181Z"
   },
   {
    "duration": 80,
    "start_time": "2022-12-02T19:06:41.219Z"
   },
   {
    "duration": 23,
    "start_time": "2022-12-02T19:06:41.302Z"
   },
   {
    "duration": 32,
    "start_time": "2022-12-02T19:06:41.327Z"
   },
   {
    "duration": 64,
    "start_time": "2022-12-02T19:06:41.364Z"
   },
   {
    "duration": 17,
    "start_time": "2022-12-02T19:06:41.430Z"
   },
   {
    "duration": 51,
    "start_time": "2022-12-02T19:06:41.449Z"
   },
   {
    "duration": 3843,
    "start_time": "2022-12-02T19:06:41.502Z"
   },
   {
    "duration": 16,
    "start_time": "2022-12-02T19:06:45.347Z"
   },
   {
    "duration": 30,
    "start_time": "2022-12-02T19:06:45.366Z"
   },
   {
    "duration": 60,
    "start_time": "2022-12-02T19:06:45.398Z"
   },
   {
    "duration": 13,
    "start_time": "2022-12-02T19:06:45.465Z"
   },
   {
    "duration": 21,
    "start_time": "2022-12-02T19:06:45.484Z"
   },
   {
    "duration": 2517,
    "start_time": "2022-12-02T19:06:45.507Z"
   },
   {
    "duration": 47,
    "start_time": "2022-12-02T19:06:48.027Z"
   },
   {
    "duration": 102,
    "start_time": "2022-12-02T19:06:48.076Z"
   },
   {
    "duration": 24,
    "start_time": "2022-12-02T19:06:48.184Z"
   },
   {
    "duration": 304,
    "start_time": "2022-12-02T19:06:48.212Z"
   },
   {
    "duration": 275,
    "start_time": "2022-12-02T19:06:48.518Z"
   },
   {
    "duration": 733,
    "start_time": "2022-12-02T19:06:48.798Z"
   },
   {
    "duration": 842,
    "start_time": "2022-12-02T19:06:49.533Z"
   },
   {
    "duration": 641,
    "start_time": "2022-12-02T19:06:50.381Z"
   },
   {
    "duration": 263,
    "start_time": "2022-12-02T19:06:51.025Z"
   },
   {
    "duration": 5,
    "start_time": "2022-12-02T19:06:51.292Z"
   },
   {
    "duration": 135,
    "start_time": "2022-12-02T19:06:51.299Z"
   },
   {
    "duration": 23,
    "start_time": "2022-12-02T19:06:51.435Z"
   },
   {
    "duration": 6,
    "start_time": "2022-12-02T19:06:51.463Z"
   },
   {
    "duration": 27,
    "start_time": "2022-12-02T19:06:51.470Z"
   },
   {
    "duration": 5326,
    "start_time": "2022-12-02T19:06:51.498Z"
   },
   {
    "duration": 434,
    "start_time": "2022-12-02T19:06:56.825Z"
   },
   {
    "duration": 95,
    "start_time": "2022-12-02T19:06:57.261Z"
   },
   {
    "duration": 27,
    "start_time": "2022-12-02T19:06:57.358Z"
   },
   {
    "duration": 19,
    "start_time": "2022-12-02T19:06:57.388Z"
   },
   {
    "duration": 1107,
    "start_time": "2022-12-02T19:06:57.408Z"
   },
   {
    "duration": 378,
    "start_time": "2022-12-02T19:06:58.517Z"
   },
   {
    "duration": 12,
    "start_time": "2022-12-02T19:06:58.897Z"
   },
   {
    "duration": 6,
    "start_time": "2022-12-02T19:06:58.911Z"
   },
   {
    "duration": 48,
    "start_time": "2022-12-02T19:06:58.919Z"
   },
   {
    "duration": 26,
    "start_time": "2022-12-02T19:06:58.973Z"
   },
   {
    "duration": 10,
    "start_time": "2022-12-02T19:06:59.001Z"
   },
   {
    "duration": 275,
    "start_time": "2022-12-02T19:08:01.343Z"
   },
   {
    "duration": 26,
    "start_time": "2022-12-02T19:09:28.676Z"
   },
   {
    "duration": 90,
    "start_time": "2022-12-02T19:09:30.579Z"
   },
   {
    "duration": 26,
    "start_time": "2022-12-02T19:09:31.571Z"
   },
   {
    "duration": 448,
    "start_time": "2022-12-02T19:09:34.627Z"
   },
   {
    "duration": 327,
    "start_time": "2022-12-02T19:09:37.749Z"
   },
   {
    "duration": 727,
    "start_time": "2022-12-02T19:09:42.862Z"
   },
   {
    "duration": 807,
    "start_time": "2022-12-02T19:09:52.753Z"
   },
   {
    "duration": 852,
    "start_time": "2022-12-02T19:10:05.714Z"
   },
   {
    "duration": 1087,
    "start_time": "2022-12-02T19:10:13.793Z"
   },
   {
    "duration": 839,
    "start_time": "2022-12-02T19:10:22.901Z"
   },
   {
    "duration": 640,
    "start_time": "2022-12-02T19:12:23.744Z"
   },
   {
    "duration": 1647,
    "start_time": "2022-12-02T19:13:34.086Z"
   },
   {
    "duration": 66,
    "start_time": "2022-12-02T19:13:35.736Z"
   },
   {
    "duration": 15,
    "start_time": "2022-12-02T19:13:35.804Z"
   },
   {
    "duration": 25,
    "start_time": "2022-12-02T19:13:35.821Z"
   },
   {
    "duration": 66,
    "start_time": "2022-12-02T19:13:35.849Z"
   },
   {
    "duration": 13,
    "start_time": "2022-12-02T19:13:35.917Z"
   },
   {
    "duration": 68,
    "start_time": "2022-12-02T19:13:35.932Z"
   },
   {
    "duration": 17,
    "start_time": "2022-12-02T19:13:36.002Z"
   },
   {
    "duration": 13,
    "start_time": "2022-12-02T19:13:36.021Z"
   },
   {
    "duration": 10,
    "start_time": "2022-12-02T19:13:36.036Z"
   },
   {
    "duration": 46,
    "start_time": "2022-12-02T19:13:36.048Z"
   },
   {
    "duration": 14,
    "start_time": "2022-12-02T19:13:36.096Z"
   },
   {
    "duration": 18,
    "start_time": "2022-12-02T19:13:36.112Z"
   },
   {
    "duration": 1132,
    "start_time": "2022-12-02T19:13:36.133Z"
   },
   {
    "duration": 326,
    "start_time": "2022-12-02T19:13:37.266Z"
   },
   {
    "duration": 5,
    "start_time": "2022-12-02T19:13:37.594Z"
   },
   {
    "duration": 8,
    "start_time": "2022-12-02T19:13:37.602Z"
   },
   {
    "duration": 11,
    "start_time": "2022-12-02T19:13:37.612Z"
   },
   {
    "duration": 48,
    "start_time": "2022-12-02T19:13:37.625Z"
   },
   {
    "duration": 21,
    "start_time": "2022-12-02T19:13:37.678Z"
   },
   {
    "duration": 25,
    "start_time": "2022-12-02T19:13:37.701Z"
   },
   {
    "duration": 15,
    "start_time": "2022-12-02T19:13:37.728Z"
   },
   {
    "duration": 30,
    "start_time": "2022-12-02T19:13:37.745Z"
   },
   {
    "duration": 23,
    "start_time": "2022-12-02T19:13:37.777Z"
   },
   {
    "duration": 10,
    "start_time": "2022-12-02T19:13:37.802Z"
   },
   {
    "duration": 15,
    "start_time": "2022-12-02T19:13:37.814Z"
   },
   {
    "duration": 7,
    "start_time": "2022-12-02T19:13:37.831Z"
   },
   {
    "duration": 7,
    "start_time": "2022-12-02T19:13:37.840Z"
   },
   {
    "duration": 3821,
    "start_time": "2022-12-02T19:13:37.849Z"
   },
   {
    "duration": 6,
    "start_time": "2022-12-02T19:13:41.672Z"
   },
   {
    "duration": 9,
    "start_time": "2022-12-02T19:13:41.687Z"
   },
   {
    "duration": 61,
    "start_time": "2022-12-02T19:13:41.698Z"
   },
   {
    "duration": 12,
    "start_time": "2022-12-02T19:13:41.770Z"
   },
   {
    "duration": 14,
    "start_time": "2022-12-02T19:13:41.784Z"
   },
   {
    "duration": 1688,
    "start_time": "2022-12-02T19:13:41.800Z"
   },
   {
    "duration": 22,
    "start_time": "2022-12-02T19:13:43.490Z"
   },
   {
    "duration": 80,
    "start_time": "2022-12-02T19:13:43.514Z"
   },
   {
    "duration": 24,
    "start_time": "2022-12-02T19:13:43.596Z"
   },
   {
    "duration": 312,
    "start_time": "2022-12-02T19:13:43.622Z"
   },
   {
    "duration": 282,
    "start_time": "2022-12-02T19:13:43.936Z"
   },
   {
    "duration": 655,
    "start_time": "2022-12-02T19:13:44.224Z"
   },
   {
    "duration": 815,
    "start_time": "2022-12-02T19:13:44.885Z"
   },
   {
    "duration": 625,
    "start_time": "2022-12-02T19:13:45.702Z"
   },
   {
    "duration": 272,
    "start_time": "2022-12-02T19:13:46.328Z"
   },
   {
    "duration": 5,
    "start_time": "2022-12-02T19:13:46.602Z"
   },
   {
    "duration": 150,
    "start_time": "2022-12-02T19:13:46.610Z"
   },
   {
    "duration": 17,
    "start_time": "2022-12-02T19:13:46.761Z"
   },
   {
    "duration": 24,
    "start_time": "2022-12-02T19:13:46.779Z"
   },
   {
    "duration": 14,
    "start_time": "2022-12-02T19:13:46.805Z"
   },
   {
    "duration": 5519,
    "start_time": "2022-12-02T19:13:46.821Z"
   },
   {
    "duration": 311,
    "start_time": "2022-12-02T19:13:52.342Z"
   },
   {
    "duration": 97,
    "start_time": "2022-12-02T19:13:52.655Z"
   },
   {
    "duration": 36,
    "start_time": "2022-12-02T19:13:52.755Z"
   },
   {
    "duration": 20,
    "start_time": "2022-12-02T19:13:52.793Z"
   },
   {
    "duration": 1047,
    "start_time": "2022-12-02T19:13:52.816Z"
   },
   {
    "duration": 368,
    "start_time": "2022-12-02T19:13:53.864Z"
   },
   {
    "duration": 535,
    "start_time": "2022-12-02T19:13:54.234Z"
   },
   {
    "duration": 0,
    "start_time": "2022-12-02T19:13:54.775Z"
   },
   {
    "duration": 0,
    "start_time": "2022-12-02T19:13:54.776Z"
   },
   {
    "duration": 0,
    "start_time": "2022-12-02T19:13:54.777Z"
   },
   {
    "duration": 0,
    "start_time": "2022-12-02T19:13:54.779Z"
   },
   {
    "duration": 0,
    "start_time": "2022-12-02T19:13:54.782Z"
   },
   {
    "duration": 67,
    "start_time": "2022-12-02T20:07:04.328Z"
   },
   {
    "duration": 79,
    "start_time": "2022-12-02T20:07:08.102Z"
   },
   {
    "duration": 21,
    "start_time": "2022-12-02T20:07:56.962Z"
   },
   {
    "duration": 5,
    "start_time": "2022-12-02T20:08:07.013Z"
   },
   {
    "duration": 394,
    "start_time": "2022-12-02T20:08:24.392Z"
   },
   {
    "duration": 222,
    "start_time": "2022-12-02T20:08:34.832Z"
   },
   {
    "duration": 380,
    "start_time": "2022-12-02T20:08:44.313Z"
   },
   {
    "duration": 193,
    "start_time": "2022-12-02T20:09:04.053Z"
   },
   {
    "duration": 10,
    "start_time": "2022-12-02T20:09:20.009Z"
   },
   {
    "duration": 10,
    "start_time": "2022-12-02T20:09:55.076Z"
   },
   {
    "duration": 6,
    "start_time": "2022-12-02T20:10:01.781Z"
   },
   {
    "duration": 203,
    "start_time": "2022-12-02T20:10:15.374Z"
   },
   {
    "duration": 194,
    "start_time": "2022-12-02T20:10:32.480Z"
   },
   {
    "duration": 73,
    "start_time": "2022-12-02T20:10:45.412Z"
   },
   {
    "duration": 31,
    "start_time": "2022-12-02T20:10:53.923Z"
   },
   {
    "duration": 1776,
    "start_time": "2022-12-02T20:11:14.704Z"
   },
   {
    "duration": 50,
    "start_time": "2022-12-02T20:11:16.483Z"
   },
   {
    "duration": 20,
    "start_time": "2022-12-02T20:11:16.536Z"
   },
   {
    "duration": 21,
    "start_time": "2022-12-02T20:11:16.558Z"
   },
   {
    "duration": 33,
    "start_time": "2022-12-02T20:11:16.583Z"
   },
   {
    "duration": 42,
    "start_time": "2022-12-02T20:11:16.619Z"
   },
   {
    "duration": 16,
    "start_time": "2022-12-02T20:11:16.663Z"
   },
   {
    "duration": 13,
    "start_time": "2022-12-02T20:11:16.681Z"
   },
   {
    "duration": 21,
    "start_time": "2022-12-02T20:11:16.696Z"
   },
   {
    "duration": 32,
    "start_time": "2022-12-02T20:11:16.719Z"
   },
   {
    "duration": 20,
    "start_time": "2022-12-02T20:11:16.754Z"
   },
   {
    "duration": 38,
    "start_time": "2022-12-02T20:11:16.776Z"
   },
   {
    "duration": 12,
    "start_time": "2022-12-02T20:11:16.817Z"
   },
   {
    "duration": 1149,
    "start_time": "2022-12-02T20:11:16.834Z"
   },
   {
    "duration": 313,
    "start_time": "2022-12-02T20:11:17.985Z"
   },
   {
    "duration": 7,
    "start_time": "2022-12-02T20:11:18.300Z"
   },
   {
    "duration": 9,
    "start_time": "2022-12-02T20:11:18.310Z"
   },
   {
    "duration": 31,
    "start_time": "2022-12-02T20:11:18.321Z"
   },
   {
    "duration": 11,
    "start_time": "2022-12-02T20:11:18.354Z"
   },
   {
    "duration": 11,
    "start_time": "2022-12-02T20:11:18.368Z"
   },
   {
    "duration": 27,
    "start_time": "2022-12-02T20:11:18.381Z"
   },
   {
    "duration": 50,
    "start_time": "2022-12-02T20:11:18.410Z"
   },
   {
    "duration": 16,
    "start_time": "2022-12-02T20:11:18.462Z"
   },
   {
    "duration": 9,
    "start_time": "2022-12-02T20:11:18.480Z"
   },
   {
    "duration": 11,
    "start_time": "2022-12-02T20:11:18.491Z"
   },
   {
    "duration": 51,
    "start_time": "2022-12-02T20:11:18.507Z"
   },
   {
    "duration": 7,
    "start_time": "2022-12-02T20:11:18.560Z"
   },
   {
    "duration": 8,
    "start_time": "2022-12-02T20:11:18.569Z"
   },
   {
    "duration": 3770,
    "start_time": "2022-12-02T20:11:18.580Z"
   },
   {
    "duration": 6,
    "start_time": "2022-12-02T20:11:22.353Z"
   },
   {
    "duration": 14,
    "start_time": "2022-12-02T20:11:22.362Z"
   },
   {
    "duration": 60,
    "start_time": "2022-12-02T20:11:22.378Z"
   },
   {
    "duration": 16,
    "start_time": "2022-12-02T20:11:22.440Z"
   },
   {
    "duration": 16,
    "start_time": "2022-12-02T20:11:22.458Z"
   },
   {
    "duration": 1718,
    "start_time": "2022-12-02T20:11:22.476Z"
   },
   {
    "duration": 22,
    "start_time": "2022-12-02T20:11:24.197Z"
   },
   {
    "duration": 101,
    "start_time": "2022-12-02T20:11:24.222Z"
   },
   {
    "duration": 30,
    "start_time": "2022-12-02T20:11:24.326Z"
   },
   {
    "duration": 283,
    "start_time": "2022-12-02T20:11:24.358Z"
   },
   {
    "duration": 281,
    "start_time": "2022-12-02T20:11:24.643Z"
   },
   {
    "duration": 627,
    "start_time": "2022-12-02T20:11:24.931Z"
   },
   {
    "duration": 775,
    "start_time": "2022-12-02T20:11:25.561Z"
   },
   {
    "duration": 590,
    "start_time": "2022-12-02T20:11:26.339Z"
   },
   {
    "duration": 252,
    "start_time": "2022-12-02T20:11:26.932Z"
   },
   {
    "duration": 5,
    "start_time": "2022-12-02T20:11:27.187Z"
   },
   {
    "duration": 158,
    "start_time": "2022-12-02T20:11:27.194Z"
   },
   {
    "duration": 9,
    "start_time": "2022-12-02T20:11:27.353Z"
   },
   {
    "duration": 7,
    "start_time": "2022-12-02T20:11:27.364Z"
   },
   {
    "duration": 10,
    "start_time": "2022-12-02T20:11:27.373Z"
   },
   {
    "duration": 5562,
    "start_time": "2022-12-02T20:11:27.385Z"
   },
   {
    "duration": 416,
    "start_time": "2022-12-02T20:11:32.951Z"
   },
   {
    "duration": 93,
    "start_time": "2022-12-02T20:11:33.380Z"
   },
   {
    "duration": 10,
    "start_time": "2022-12-02T20:11:33.476Z"
   },
   {
    "duration": 16,
    "start_time": "2022-12-02T20:11:33.488Z"
   },
   {
    "duration": 1091,
    "start_time": "2022-12-02T20:11:33.506Z"
   },
   {
    "duration": 451,
    "start_time": "2022-12-02T20:11:34.599Z"
   },
   {
    "duration": 114,
    "start_time": "2022-12-02T20:11:35.053Z"
   },
   {
    "duration": 31,
    "start_time": "2022-12-02T20:11:35.169Z"
   },
   {
    "duration": 8,
    "start_time": "2022-12-02T20:11:35.203Z"
   },
   {
    "duration": 409,
    "start_time": "2022-12-02T20:11:35.214Z"
   },
   {
    "duration": 238,
    "start_time": "2022-12-02T20:11:35.625Z"
   },
   {
    "duration": 395,
    "start_time": "2022-12-02T20:11:35.865Z"
   },
   {
    "duration": 208,
    "start_time": "2022-12-02T20:11:36.262Z"
   },
   {
    "duration": 8,
    "start_time": "2022-12-02T20:11:36.472Z"
   },
   {
    "duration": 18,
    "start_time": "2022-12-02T20:11:36.482Z"
   },
   {
    "duration": 24,
    "start_time": "2022-12-02T20:11:36.504Z"
   },
   {
    "duration": 221,
    "start_time": "2022-12-02T20:11:36.530Z"
   },
   {
    "duration": 202,
    "start_time": "2022-12-02T20:11:36.753Z"
   },
   {
    "duration": 146,
    "start_time": "2022-12-02T20:11:36.957Z"
   },
   {
    "duration": 0,
    "start_time": "2022-12-02T20:11:37.105Z"
   },
   {
    "duration": 0,
    "start_time": "2022-12-02T20:11:37.107Z"
   },
   {
    "duration": 0,
    "start_time": "2022-12-02T20:11:37.108Z"
   },
   {
    "duration": 0,
    "start_time": "2022-12-02T20:11:37.109Z"
   },
   {
    "duration": 0,
    "start_time": "2022-12-02T20:11:37.111Z"
   },
   {
    "duration": 892,
    "start_time": "2022-12-02T20:11:51.677Z"
   },
   {
    "duration": 841,
    "start_time": "2022-12-02T20:12:18.452Z"
   },
   {
    "duration": 5,
    "start_time": "2022-12-02T20:12:52.362Z"
   },
   {
    "duration": 13,
    "start_time": "2022-12-02T20:13:00.561Z"
   },
   {
    "duration": 53,
    "start_time": "2022-12-02T20:13:16.646Z"
   },
   {
    "duration": 414,
    "start_time": "2022-12-02T20:13:25.630Z"
   },
   {
    "duration": 221,
    "start_time": "2022-12-02T20:13:41.132Z"
   },
   {
    "duration": 9,
    "start_time": "2022-12-02T20:14:01.755Z"
   },
   {
    "duration": 16,
    "start_time": "2022-12-02T20:14:11.098Z"
   },
   {
    "duration": 366,
    "start_time": "2022-12-02T20:14:25.693Z"
   },
   {
    "duration": 243,
    "start_time": "2022-12-02T20:14:34.221Z"
   },
   {
    "duration": 209,
    "start_time": "2022-12-02T20:14:49.869Z"
   },
   {
    "duration": 21,
    "start_time": "2022-12-02T20:15:08.968Z"
   },
   {
    "duration": 875,
    "start_time": "2022-12-02T20:15:14.613Z"
   },
   {
    "duration": 711,
    "start_time": "2022-12-02T20:15:28.646Z"
   },
   {
    "duration": 10,
    "start_time": "2022-12-02T20:15:48.253Z"
   },
   {
    "duration": 199,
    "start_time": "2022-12-02T20:15:54.617Z"
   },
   {
    "duration": 16,
    "start_time": "2022-12-02T20:16:35.719Z"
   },
   {
    "duration": 238,
    "start_time": "2022-12-02T20:16:43.359Z"
   },
   {
    "duration": 10,
    "start_time": "2022-12-02T20:17:02.430Z"
   },
   {
    "duration": 210,
    "start_time": "2022-12-02T20:17:08.842Z"
   },
   {
    "duration": 1165,
    "start_time": "2022-12-02T20:17:26.079Z"
   },
   {
    "duration": 136,
    "start_time": "2022-12-02T20:17:36.281Z"
   },
   {
    "duration": 37,
    "start_time": "2022-12-02T20:18:02.899Z"
   },
   {
    "duration": 1252,
    "start_time": "2022-12-02T21:11:29.463Z"
   },
   {
    "duration": 5,
    "start_time": "2022-12-02T21:12:08.029Z"
   },
   {
    "duration": 8,
    "start_time": "2022-12-02T21:12:16.426Z"
   },
   {
    "duration": 11,
    "start_time": "2022-12-02T21:12:34.415Z"
   },
   {
    "duration": 8,
    "start_time": "2022-12-02T21:12:47.689Z"
   },
   {
    "duration": 22,
    "start_time": "2022-12-02T21:13:05.247Z"
   },
   {
    "duration": 9,
    "start_time": "2022-12-02T21:13:12.778Z"
   },
   {
    "duration": 8,
    "start_time": "2022-12-02T21:13:22.169Z"
   },
   {
    "duration": 7,
    "start_time": "2022-12-02T21:13:32.402Z"
   },
   {
    "duration": 22,
    "start_time": "2022-12-02T21:14:18.009Z"
   },
   {
    "duration": 8,
    "start_time": "2022-12-02T21:14:30.025Z"
   },
   {
    "duration": 8,
    "start_time": "2022-12-02T21:14:45.482Z"
   },
   {
    "duration": 7,
    "start_time": "2022-12-02T21:14:54.209Z"
   },
   {
    "duration": 7,
    "start_time": "2022-12-02T21:15:03.949Z"
   },
   {
    "duration": 1970,
    "start_time": "2022-12-02T21:29:35.527Z"
   },
   {
    "duration": 49,
    "start_time": "2022-12-02T21:29:37.499Z"
   },
   {
    "duration": 16,
    "start_time": "2022-12-02T21:29:37.550Z"
   },
   {
    "duration": 15,
    "start_time": "2022-12-02T21:29:37.569Z"
   },
   {
    "duration": 65,
    "start_time": "2022-12-02T21:29:37.586Z"
   },
   {
    "duration": 14,
    "start_time": "2022-12-02T21:29:37.653Z"
   },
   {
    "duration": 18,
    "start_time": "2022-12-02T21:29:37.670Z"
   },
   {
    "duration": 13,
    "start_time": "2022-12-02T21:29:37.689Z"
   },
   {
    "duration": 22,
    "start_time": "2022-12-02T21:29:37.704Z"
   },
   {
    "duration": 10,
    "start_time": "2022-12-02T21:29:37.753Z"
   },
   {
    "duration": 12,
    "start_time": "2022-12-02T21:29:37.766Z"
   },
   {
    "duration": 16,
    "start_time": "2022-12-02T21:29:37.780Z"
   },
   {
    "duration": 10,
    "start_time": "2022-12-02T21:29:37.798Z"
   },
   {
    "duration": 1056,
    "start_time": "2022-12-02T21:29:37.810Z"
   },
   {
    "duration": 297,
    "start_time": "2022-12-02T21:29:38.868Z"
   },
   {
    "duration": 7,
    "start_time": "2022-12-02T21:29:39.168Z"
   },
   {
    "duration": 6,
    "start_time": "2022-12-02T21:29:39.178Z"
   },
   {
    "duration": 20,
    "start_time": "2022-12-02T21:29:39.186Z"
   },
   {
    "duration": 44,
    "start_time": "2022-12-02T21:29:39.208Z"
   },
   {
    "duration": 8,
    "start_time": "2022-12-02T21:29:39.254Z"
   },
   {
    "duration": 26,
    "start_time": "2022-12-02T21:29:39.265Z"
   },
   {
    "duration": 18,
    "start_time": "2022-12-02T21:29:39.293Z"
   },
   {
    "duration": 51,
    "start_time": "2022-12-02T21:29:39.314Z"
   },
   {
    "duration": 16,
    "start_time": "2022-12-02T21:29:39.368Z"
   },
   {
    "duration": 21,
    "start_time": "2022-12-02T21:29:39.386Z"
   },
   {
    "duration": 34,
    "start_time": "2022-12-02T21:29:39.409Z"
   },
   {
    "duration": 4,
    "start_time": "2022-12-02T21:29:39.445Z"
   },
   {
    "duration": 6,
    "start_time": "2022-12-02T21:29:39.456Z"
   },
   {
    "duration": 3748,
    "start_time": "2022-12-02T21:29:39.464Z"
   },
   {
    "duration": 5,
    "start_time": "2022-12-02T21:29:43.214Z"
   },
   {
    "duration": 11,
    "start_time": "2022-12-02T21:29:43.221Z"
   },
   {
    "duration": 51,
    "start_time": "2022-12-02T21:29:43.234Z"
   },
   {
    "duration": 7,
    "start_time": "2022-12-02T21:29:43.287Z"
   },
   {
    "duration": 13,
    "start_time": "2022-12-02T21:29:43.297Z"
   },
   {
    "duration": 1826,
    "start_time": "2022-12-02T21:29:43.312Z"
   },
   {
    "duration": 22,
    "start_time": "2022-12-02T21:29:45.152Z"
   },
   {
    "duration": 83,
    "start_time": "2022-12-02T21:29:45.176Z"
   },
   {
    "duration": 20,
    "start_time": "2022-12-02T21:29:45.261Z"
   },
   {
    "duration": 301,
    "start_time": "2022-12-02T21:29:45.284Z"
   },
   {
    "duration": 320,
    "start_time": "2022-12-02T21:29:45.588Z"
   },
   {
    "duration": 560,
    "start_time": "2022-12-02T21:29:45.911Z"
   },
   {
    "duration": 753,
    "start_time": "2022-12-02T21:29:46.474Z"
   },
   {
    "duration": 573,
    "start_time": "2022-12-02T21:29:47.229Z"
   },
   {
    "duration": 239,
    "start_time": "2022-12-02T21:29:47.805Z"
   },
   {
    "duration": 5,
    "start_time": "2022-12-02T21:29:48.047Z"
   },
   {
    "duration": 137,
    "start_time": "2022-12-02T21:29:48.054Z"
   },
   {
    "duration": 9,
    "start_time": "2022-12-02T21:29:48.193Z"
   },
   {
    "duration": 8,
    "start_time": "2022-12-02T21:29:48.204Z"
   },
   {
    "duration": 13,
    "start_time": "2022-12-02T21:29:48.217Z"
   },
   {
    "duration": 4858,
    "start_time": "2022-12-02T21:29:48.253Z"
   },
   {
    "duration": 342,
    "start_time": "2022-12-02T21:29:53.113Z"
   },
   {
    "duration": 97,
    "start_time": "2022-12-02T21:29:53.458Z"
   },
   {
    "duration": 31,
    "start_time": "2022-12-02T21:29:53.556Z"
   },
   {
    "duration": 25,
    "start_time": "2022-12-02T21:29:53.589Z"
   },
   {
    "duration": 1008,
    "start_time": "2022-12-02T21:29:53.616Z"
   },
   {
    "duration": 581,
    "start_time": "2022-12-02T21:29:54.627Z"
   },
   {
    "duration": 87,
    "start_time": "2022-12-02T21:29:55.211Z"
   },
   {
    "duration": 24,
    "start_time": "2022-12-02T21:29:55.301Z"
   },
   {
    "duration": 25,
    "start_time": "2022-12-02T21:29:55.328Z"
   },
   {
    "duration": 408,
    "start_time": "2022-12-02T21:29:55.355Z"
   },
   {
    "duration": 291,
    "start_time": "2022-12-02T21:29:55.766Z"
   },
   {
    "duration": 387,
    "start_time": "2022-12-02T21:29:56.060Z"
   },
   {
    "duration": 190,
    "start_time": "2022-12-02T21:29:56.449Z"
   },
   {
    "duration": 10,
    "start_time": "2022-12-02T21:29:56.652Z"
   },
   {
    "duration": 29,
    "start_time": "2022-12-02T21:29:56.665Z"
   },
   {
    "duration": 39,
    "start_time": "2022-12-02T21:29:56.697Z"
   },
   {
    "duration": 182,
    "start_time": "2022-12-02T21:29:56.739Z"
   },
   {
    "duration": 188,
    "start_time": "2022-12-02T21:29:56.923Z"
   },
   {
    "duration": 710,
    "start_time": "2022-12-02T21:29:57.113Z"
   },
   {
    "duration": 746,
    "start_time": "2022-12-02T21:29:57.827Z"
   },
   {
    "duration": 6,
    "start_time": "2022-12-02T21:29:58.576Z"
   },
   {
    "duration": 18,
    "start_time": "2022-12-02T21:29:58.584Z"
   },
   {
    "duration": 93,
    "start_time": "2022-12-02T21:29:58.604Z"
   },
   {
    "duration": 338,
    "start_time": "2022-12-02T21:29:58.699Z"
   },
   {
    "duration": 300,
    "start_time": "2022-12-02T21:29:59.040Z"
   },
   {
    "duration": 14,
    "start_time": "2022-12-02T21:29:59.342Z"
   },
   {
    "duration": 59,
    "start_time": "2022-12-02T21:29:59.358Z"
   },
   {
    "duration": 455,
    "start_time": "2022-12-02T21:29:59.419Z"
   },
   {
    "duration": 299,
    "start_time": "2022-12-02T21:29:59.876Z"
   },
   {
    "duration": 229,
    "start_time": "2022-12-02T21:30:00.177Z"
   },
   {
    "duration": 696,
    "start_time": "2022-12-02T21:30:00.408Z"
   },
   {
    "duration": 726,
    "start_time": "2022-12-02T21:30:01.110Z"
   },
   {
    "duration": 18,
    "start_time": "2022-12-02T21:30:01.838Z"
   },
   {
    "duration": 272,
    "start_time": "2022-12-02T21:30:01.858Z"
   },
   {
    "duration": 24,
    "start_time": "2022-12-02T21:30:02.132Z"
   },
   {
    "duration": 275,
    "start_time": "2022-12-02T21:30:02.160Z"
   },
   {
    "duration": 19,
    "start_time": "2022-12-02T21:30:02.439Z"
   },
   {
    "duration": 205,
    "start_time": "2022-12-02T21:30:02.460Z"
   },
   {
    "duration": 203,
    "start_time": "2022-12-02T21:30:02.667Z"
   },
   {
    "duration": 47,
    "start_time": "2022-12-02T21:30:02.872Z"
   },
   {
    "duration": 109,
    "start_time": "2022-12-02T21:30:02.951Z"
   },
   {
    "duration": 0,
    "start_time": "2022-12-02T21:30:03.063Z"
   },
   {
    "duration": 0,
    "start_time": "2022-12-02T21:30:03.065Z"
   },
   {
    "duration": 0,
    "start_time": "2022-12-02T21:30:03.067Z"
   },
   {
    "duration": 0,
    "start_time": "2022-12-02T21:30:03.069Z"
   },
   {
    "duration": 0,
    "start_time": "2022-12-02T21:30:03.070Z"
   },
   {
    "duration": 0,
    "start_time": "2022-12-02T21:30:03.073Z"
   },
   {
    "duration": 0,
    "start_time": "2022-12-02T21:30:03.075Z"
   },
   {
    "duration": 0,
    "start_time": "2022-12-02T21:30:03.077Z"
   },
   {
    "duration": 0,
    "start_time": "2022-12-02T21:30:03.078Z"
   },
   {
    "duration": 0,
    "start_time": "2022-12-02T21:30:03.081Z"
   },
   {
    "duration": 0,
    "start_time": "2022-12-02T21:30:03.083Z"
   },
   {
    "duration": 0,
    "start_time": "2022-12-02T21:30:03.085Z"
   },
   {
    "duration": 0,
    "start_time": "2022-12-02T21:30:03.087Z"
   },
   {
    "duration": 0,
    "start_time": "2022-12-02T21:30:03.088Z"
   },
   {
    "duration": 0,
    "start_time": "2022-12-02T21:30:03.091Z"
   },
   {
    "duration": 0,
    "start_time": "2022-12-02T21:30:03.093Z"
   },
   {
    "duration": 0,
    "start_time": "2022-12-02T21:30:03.094Z"
   },
   {
    "duration": 0,
    "start_time": "2022-12-02T21:30:03.096Z"
   },
   {
    "duration": 0,
    "start_time": "2022-12-02T21:30:03.098Z"
   },
   {
    "duration": 266,
    "start_time": "2022-12-02T21:37:06.795Z"
   },
   {
    "duration": 293,
    "start_time": "2022-12-02T21:37:15.015Z"
   },
   {
    "duration": 41,
    "start_time": "2022-12-02T21:40:35.726Z"
   },
   {
    "duration": 78,
    "start_time": "2022-12-02T21:40:36.873Z"
   },
   {
    "duration": 28,
    "start_time": "2022-12-02T21:40:38.024Z"
   },
   {
    "duration": 29,
    "start_time": "2022-12-02T21:40:55.684Z"
   },
   {
    "duration": 59,
    "start_time": "2022-12-02T21:40:57.424Z"
   },
   {
    "duration": 28,
    "start_time": "2022-12-02T21:40:58.521Z"
   },
   {
    "duration": 364,
    "start_time": "2022-12-02T21:41:00.152Z"
   },
   {
    "duration": 1689,
    "start_time": "2022-12-02T21:41:15.843Z"
   },
   {
    "duration": 47,
    "start_time": "2022-12-02T21:41:17.534Z"
   },
   {
    "duration": 15,
    "start_time": "2022-12-02T21:41:17.583Z"
   },
   {
    "duration": 15,
    "start_time": "2022-12-02T21:41:17.602Z"
   },
   {
    "duration": 40,
    "start_time": "2022-12-02T21:41:17.619Z"
   },
   {
    "duration": 12,
    "start_time": "2022-12-02T21:41:17.662Z"
   },
   {
    "duration": 16,
    "start_time": "2022-12-02T21:41:17.676Z"
   },
   {
    "duration": 15,
    "start_time": "2022-12-02T21:41:17.694Z"
   },
   {
    "duration": 44,
    "start_time": "2022-12-02T21:41:17.711Z"
   },
   {
    "duration": 9,
    "start_time": "2022-12-02T21:41:17.759Z"
   },
   {
    "duration": 14,
    "start_time": "2022-12-02T21:41:17.770Z"
   },
   {
    "duration": 19,
    "start_time": "2022-12-02T21:41:17.786Z"
   },
   {
    "duration": 10,
    "start_time": "2022-12-02T21:41:17.807Z"
   },
   {
    "duration": 1083,
    "start_time": "2022-12-02T21:41:17.852Z"
   },
   {
    "duration": 362,
    "start_time": "2022-12-02T21:41:18.937Z"
   },
   {
    "duration": 7,
    "start_time": "2022-12-02T21:41:19.302Z"
   },
   {
    "duration": 23,
    "start_time": "2022-12-02T21:41:19.310Z"
   },
   {
    "duration": 27,
    "start_time": "2022-12-02T21:41:19.335Z"
   },
   {
    "duration": 19,
    "start_time": "2022-12-02T21:41:19.365Z"
   },
   {
    "duration": 26,
    "start_time": "2022-12-02T21:41:19.387Z"
   },
   {
    "duration": 38,
    "start_time": "2022-12-02T21:41:19.415Z"
   },
   {
    "duration": 14,
    "start_time": "2022-12-02T21:41:19.456Z"
   },
   {
    "duration": 15,
    "start_time": "2022-12-02T21:41:19.473Z"
   },
   {
    "duration": 19,
    "start_time": "2022-12-02T21:41:19.490Z"
   },
   {
    "duration": 8,
    "start_time": "2022-12-02T21:41:19.512Z"
   },
   {
    "duration": 42,
    "start_time": "2022-12-02T21:41:19.522Z"
   },
   {
    "duration": 9,
    "start_time": "2022-12-02T21:41:19.566Z"
   },
   {
    "duration": 79,
    "start_time": "2022-12-02T21:41:19.581Z"
   },
   {
    "duration": 0,
    "start_time": "2022-12-02T21:41:19.665Z"
   },
   {
    "duration": 0,
    "start_time": "2022-12-02T21:41:19.666Z"
   },
   {
    "duration": 0,
    "start_time": "2022-12-02T21:41:19.668Z"
   },
   {
    "duration": 0,
    "start_time": "2022-12-02T21:41:19.669Z"
   },
   {
    "duration": 0,
    "start_time": "2022-12-02T21:41:19.671Z"
   },
   {
    "duration": 0,
    "start_time": "2022-12-02T21:41:19.673Z"
   },
   {
    "duration": 0,
    "start_time": "2022-12-02T21:41:19.674Z"
   },
   {
    "duration": 0,
    "start_time": "2022-12-02T21:41:19.675Z"
   },
   {
    "duration": 0,
    "start_time": "2022-12-02T21:41:19.677Z"
   },
   {
    "duration": 0,
    "start_time": "2022-12-02T21:41:19.680Z"
   },
   {
    "duration": 0,
    "start_time": "2022-12-02T21:41:19.681Z"
   },
   {
    "duration": 0,
    "start_time": "2022-12-02T21:41:19.683Z"
   },
   {
    "duration": 0,
    "start_time": "2022-12-02T21:41:19.684Z"
   },
   {
    "duration": 0,
    "start_time": "2022-12-02T21:41:19.685Z"
   },
   {
    "duration": 0,
    "start_time": "2022-12-02T21:41:19.687Z"
   },
   {
    "duration": 0,
    "start_time": "2022-12-02T21:41:19.688Z"
   },
   {
    "duration": 0,
    "start_time": "2022-12-02T21:41:19.689Z"
   },
   {
    "duration": 0,
    "start_time": "2022-12-02T21:41:19.691Z"
   },
   {
    "duration": 0,
    "start_time": "2022-12-02T21:41:19.692Z"
   },
   {
    "duration": 0,
    "start_time": "2022-12-02T21:41:19.695Z"
   },
   {
    "duration": 0,
    "start_time": "2022-12-02T21:41:19.696Z"
   },
   {
    "duration": 0,
    "start_time": "2022-12-02T21:41:19.698Z"
   },
   {
    "duration": 0,
    "start_time": "2022-12-02T21:41:19.699Z"
   },
   {
    "duration": 0,
    "start_time": "2022-12-02T21:41:19.701Z"
   },
   {
    "duration": 0,
    "start_time": "2022-12-02T21:41:19.750Z"
   },
   {
    "duration": 0,
    "start_time": "2022-12-02T21:41:19.751Z"
   },
   {
    "duration": 1,
    "start_time": "2022-12-02T21:41:19.753Z"
   },
   {
    "duration": 0,
    "start_time": "2022-12-02T21:41:19.756Z"
   },
   {
    "duration": 0,
    "start_time": "2022-12-02T21:41:19.757Z"
   },
   {
    "duration": 0,
    "start_time": "2022-12-02T21:41:19.759Z"
   },
   {
    "duration": 0,
    "start_time": "2022-12-02T21:41:19.760Z"
   },
   {
    "duration": 0,
    "start_time": "2022-12-02T21:41:19.762Z"
   },
   {
    "duration": 0,
    "start_time": "2022-12-02T21:41:19.765Z"
   },
   {
    "duration": 0,
    "start_time": "2022-12-02T21:41:19.766Z"
   },
   {
    "duration": 0,
    "start_time": "2022-12-02T21:41:19.767Z"
   },
   {
    "duration": 0,
    "start_time": "2022-12-02T21:41:19.769Z"
   },
   {
    "duration": 0,
    "start_time": "2022-12-02T21:41:19.770Z"
   },
   {
    "duration": 0,
    "start_time": "2022-12-02T21:41:19.771Z"
   },
   {
    "duration": 0,
    "start_time": "2022-12-02T21:41:19.772Z"
   },
   {
    "duration": 0,
    "start_time": "2022-12-02T21:41:19.774Z"
   },
   {
    "duration": 0,
    "start_time": "2022-12-02T21:41:19.776Z"
   },
   {
    "duration": 0,
    "start_time": "2022-12-02T21:41:19.778Z"
   },
   {
    "duration": 0,
    "start_time": "2022-12-02T21:41:19.779Z"
   },
   {
    "duration": 0,
    "start_time": "2022-12-02T21:41:19.781Z"
   },
   {
    "duration": 0,
    "start_time": "2022-12-02T21:41:19.783Z"
   },
   {
    "duration": 0,
    "start_time": "2022-12-02T21:41:19.784Z"
   },
   {
    "duration": 0,
    "start_time": "2022-12-02T21:41:19.785Z"
   },
   {
    "duration": 0,
    "start_time": "2022-12-02T21:41:19.786Z"
   },
   {
    "duration": 0,
    "start_time": "2022-12-02T21:41:19.788Z"
   },
   {
    "duration": 0,
    "start_time": "2022-12-02T21:41:19.789Z"
   },
   {
    "duration": 0,
    "start_time": "2022-12-02T21:41:19.791Z"
   },
   {
    "duration": 0,
    "start_time": "2022-12-02T21:41:19.852Z"
   },
   {
    "duration": 0,
    "start_time": "2022-12-02T21:41:19.854Z"
   },
   {
    "duration": 0,
    "start_time": "2022-12-02T21:41:19.856Z"
   },
   {
    "duration": 0,
    "start_time": "2022-12-02T21:41:19.857Z"
   },
   {
    "duration": 0,
    "start_time": "2022-12-02T21:41:19.859Z"
   },
   {
    "duration": 0,
    "start_time": "2022-12-02T21:41:19.861Z"
   },
   {
    "duration": 0,
    "start_time": "2022-12-02T21:41:19.863Z"
   },
   {
    "duration": 0,
    "start_time": "2022-12-02T21:41:19.865Z"
   },
   {
    "duration": 0,
    "start_time": "2022-12-02T21:41:19.869Z"
   },
   {
    "duration": 0,
    "start_time": "2022-12-02T21:41:19.871Z"
   },
   {
    "duration": 0,
    "start_time": "2022-12-02T21:41:19.871Z"
   },
   {
    "duration": 0,
    "start_time": "2022-12-02T21:41:19.873Z"
   },
   {
    "duration": 0,
    "start_time": "2022-12-02T21:41:19.874Z"
   },
   {
    "duration": 0,
    "start_time": "2022-12-02T21:41:19.875Z"
   },
   {
    "duration": 0,
    "start_time": "2022-12-02T21:41:19.877Z"
   },
   {
    "duration": 0,
    "start_time": "2022-12-02T21:41:19.878Z"
   },
   {
    "duration": 0,
    "start_time": "2022-12-02T21:41:19.880Z"
   },
   {
    "duration": 0,
    "start_time": "2022-12-02T21:41:19.882Z"
   },
   {
    "duration": 0,
    "start_time": "2022-12-02T21:41:19.883Z"
   },
   {
    "duration": 0,
    "start_time": "2022-12-02T21:41:19.885Z"
   },
   {
    "duration": 0,
    "start_time": "2022-12-02T21:41:19.886Z"
   },
   {
    "duration": 0,
    "start_time": "2022-12-02T21:41:19.887Z"
   },
   {
    "duration": 0,
    "start_time": "2022-12-02T21:41:19.889Z"
   },
   {
    "duration": 0,
    "start_time": "2022-12-02T21:41:19.890Z"
   },
   {
    "duration": 0,
    "start_time": "2022-12-02T21:41:19.891Z"
   },
   {
    "duration": 0,
    "start_time": "2022-12-02T21:41:19.892Z"
   },
   {
    "duration": 0,
    "start_time": "2022-12-02T21:41:19.893Z"
   },
   {
    "duration": 0,
    "start_time": "2022-12-02T21:41:19.894Z"
   },
   {
    "duration": 0,
    "start_time": "2022-12-02T21:41:19.894Z"
   },
   {
    "duration": 0,
    "start_time": "2022-12-02T21:41:19.952Z"
   },
   {
    "duration": 0,
    "start_time": "2022-12-02T21:41:19.954Z"
   },
   {
    "duration": 1563,
    "start_time": "2022-12-02T21:41:59.786Z"
   },
   {
    "duration": 51,
    "start_time": "2022-12-02T21:42:01.351Z"
   },
   {
    "duration": 14,
    "start_time": "2022-12-02T21:42:01.404Z"
   },
   {
    "duration": 24,
    "start_time": "2022-12-02T21:42:01.419Z"
   },
   {
    "duration": 38,
    "start_time": "2022-12-02T21:42:01.447Z"
   },
   {
    "duration": 17,
    "start_time": "2022-12-02T21:42:01.487Z"
   },
   {
    "duration": 22,
    "start_time": "2022-12-02T21:42:01.507Z"
   },
   {
    "duration": 21,
    "start_time": "2022-12-02T21:42:01.533Z"
   },
   {
    "duration": 21,
    "start_time": "2022-12-02T21:42:01.557Z"
   },
   {
    "duration": 18,
    "start_time": "2022-12-02T21:42:01.580Z"
   },
   {
    "duration": 23,
    "start_time": "2022-12-02T21:42:01.600Z"
   },
   {
    "duration": 17,
    "start_time": "2022-12-02T21:42:01.625Z"
   },
   {
    "duration": 11,
    "start_time": "2022-12-02T21:42:01.644Z"
   },
   {
    "duration": 1036,
    "start_time": "2022-12-02T21:42:01.659Z"
   },
   {
    "duration": 291,
    "start_time": "2022-12-02T21:42:02.697Z"
   },
   {
    "duration": 5,
    "start_time": "2022-12-02T21:42:02.990Z"
   },
   {
    "duration": 12,
    "start_time": "2022-12-02T21:42:02.996Z"
   },
   {
    "duration": 11,
    "start_time": "2022-12-02T21:42:03.010Z"
   },
   {
    "duration": 30,
    "start_time": "2022-12-02T21:42:03.023Z"
   },
   {
    "duration": 7,
    "start_time": "2022-12-02T21:42:03.055Z"
   },
   {
    "duration": 25,
    "start_time": "2022-12-02T21:42:03.063Z"
   },
   {
    "duration": 12,
    "start_time": "2022-12-02T21:42:03.090Z"
   },
   {
    "duration": 48,
    "start_time": "2022-12-02T21:42:03.103Z"
   },
   {
    "duration": 7,
    "start_time": "2022-12-02T21:42:03.153Z"
   },
   {
    "duration": 9,
    "start_time": "2022-12-02T21:42:03.162Z"
   },
   {
    "duration": 19,
    "start_time": "2022-12-02T21:42:03.174Z"
   },
   {
    "duration": 3,
    "start_time": "2022-12-02T21:42:03.195Z"
   },
   {
    "duration": 10,
    "start_time": "2022-12-02T21:42:03.200Z"
   },
   {
    "duration": 3309,
    "start_time": "2022-12-02T21:42:03.212Z"
   },
   {
    "duration": 4,
    "start_time": "2022-12-02T21:42:06.523Z"
   },
   {
    "duration": 9,
    "start_time": "2022-12-02T21:42:06.528Z"
   },
   {
    "duration": 43,
    "start_time": "2022-12-02T21:42:06.550Z"
   },
   {
    "duration": 6,
    "start_time": "2022-12-02T21:42:06.595Z"
   },
   {
    "duration": 14,
    "start_time": "2022-12-02T21:42:06.603Z"
   },
   {
    "duration": 1592,
    "start_time": "2022-12-02T21:42:06.620Z"
   },
   {
    "duration": 36,
    "start_time": "2022-12-02T21:42:08.215Z"
   },
   {
    "duration": 72,
    "start_time": "2022-12-02T21:42:08.253Z"
   },
   {
    "duration": 25,
    "start_time": "2022-12-02T21:42:08.327Z"
   },
   {
    "duration": 189,
    "start_time": "2022-12-02T21:42:08.354Z"
   },
   {
    "duration": 171,
    "start_time": "2022-12-02T21:42:08.545Z"
   },
   {
    "duration": 409,
    "start_time": "2022-12-02T21:42:08.722Z"
   },
   {
    "duration": 576,
    "start_time": "2022-12-02T21:42:09.134Z"
   },
   {
    "duration": 556,
    "start_time": "2022-12-02T21:42:09.714Z"
   },
   {
    "duration": 340,
    "start_time": "2022-12-02T21:42:10.272Z"
   },
   {
    "duration": 5,
    "start_time": "2022-12-02T21:42:10.615Z"
   },
   {
    "duration": 144,
    "start_time": "2022-12-02T21:42:10.622Z"
   },
   {
    "duration": 9,
    "start_time": "2022-12-02T21:42:10.768Z"
   },
   {
    "duration": 29,
    "start_time": "2022-12-02T21:42:10.779Z"
   },
   {
    "duration": 16,
    "start_time": "2022-12-02T21:42:10.811Z"
   },
   {
    "duration": 4785,
    "start_time": "2022-12-02T21:42:10.829Z"
   },
   {
    "duration": 440,
    "start_time": "2022-12-02T21:42:15.616Z"
   },
   {
    "duration": 102,
    "start_time": "2022-12-02T21:42:16.058Z"
   },
   {
    "duration": 10,
    "start_time": "2022-12-02T21:42:16.162Z"
   },
   {
    "duration": 4,
    "start_time": "2022-12-02T21:42:16.175Z"
   },
   {
    "duration": 925,
    "start_time": "2022-12-02T21:42:16.181Z"
   },
   {
    "duration": 258,
    "start_time": "2022-12-02T21:42:17.108Z"
   },
   {
    "duration": 71,
    "start_time": "2022-12-02T21:42:17.367Z"
   },
   {
    "duration": 26,
    "start_time": "2022-12-02T21:42:17.450Z"
   },
   {
    "duration": 7,
    "start_time": "2022-12-02T21:42:17.478Z"
   },
   {
    "duration": 386,
    "start_time": "2022-12-02T21:42:17.487Z"
   },
   {
    "duration": 263,
    "start_time": "2022-12-02T21:42:17.875Z"
   },
   {
    "duration": 276,
    "start_time": "2022-12-02T21:42:18.140Z"
   },
   {
    "duration": 282,
    "start_time": "2022-12-02T21:42:18.418Z"
   },
   {
    "duration": 9,
    "start_time": "2022-12-02T21:42:18.701Z"
   },
   {
    "duration": 16,
    "start_time": "2022-12-02T21:42:18.712Z"
   },
   {
    "duration": 22,
    "start_time": "2022-12-02T21:42:18.730Z"
   },
   {
    "duration": 176,
    "start_time": "2022-12-02T21:42:18.754Z"
   },
   {
    "duration": 192,
    "start_time": "2022-12-02T21:42:18.932Z"
   },
   {
    "duration": 473,
    "start_time": "2022-12-02T21:42:19.126Z"
   },
   {
    "duration": 505,
    "start_time": "2022-12-02T21:42:19.602Z"
   },
   {
    "duration": 4,
    "start_time": "2022-12-02T21:42:20.109Z"
   },
   {
    "duration": 20,
    "start_time": "2022-12-02T21:42:20.115Z"
   },
   {
    "duration": 65,
    "start_time": "2022-12-02T21:42:20.137Z"
   },
   {
    "duration": 340,
    "start_time": "2022-12-02T21:42:20.204Z"
   },
   {
    "duration": 247,
    "start_time": "2022-12-02T21:42:20.546Z"
   },
   {
    "duration": 11,
    "start_time": "2022-12-02T21:42:20.794Z"
   },
   {
    "duration": 19,
    "start_time": "2022-12-02T21:42:20.807Z"
   },
   {
    "duration": 377,
    "start_time": "2022-12-02T21:42:20.828Z"
   },
   {
    "duration": 279,
    "start_time": "2022-12-02T21:42:21.208Z"
   },
   {
    "duration": 195,
    "start_time": "2022-12-02T21:42:21.489Z"
   },
   {
    "duration": 478,
    "start_time": "2022-12-02T21:42:21.686Z"
   },
   {
    "duration": 426,
    "start_time": "2022-12-02T21:42:22.166Z"
   },
   {
    "duration": 9,
    "start_time": "2022-12-02T21:42:22.594Z"
   },
   {
    "duration": 341,
    "start_time": "2022-12-02T21:42:22.605Z"
   },
   {
    "duration": 14,
    "start_time": "2022-12-02T21:42:22.951Z"
   },
   {
    "duration": 263,
    "start_time": "2022-12-02T21:42:22.967Z"
   },
   {
    "duration": 25,
    "start_time": "2022-12-02T21:42:23.231Z"
   },
   {
    "duration": 195,
    "start_time": "2022-12-02T21:42:23.258Z"
   },
   {
    "duration": 105,
    "start_time": "2022-12-02T21:42:23.455Z"
   },
   {
    "duration": 50,
    "start_time": "2022-12-02T21:42:23.562Z"
   },
   {
    "duration": 76,
    "start_time": "2022-12-02T21:42:23.614Z"
   },
   {
    "duration": 0,
    "start_time": "2022-12-02T21:42:23.692Z"
   },
   {
    "duration": 0,
    "start_time": "2022-12-02T21:42:23.694Z"
   },
   {
    "duration": 0,
    "start_time": "2022-12-02T21:42:23.696Z"
   },
   {
    "duration": 0,
    "start_time": "2022-12-02T21:42:23.697Z"
   },
   {
    "duration": 0,
    "start_time": "2022-12-02T21:42:23.699Z"
   },
   {
    "duration": 0,
    "start_time": "2022-12-02T21:42:23.700Z"
   },
   {
    "duration": 0,
    "start_time": "2022-12-02T21:42:23.702Z"
   },
   {
    "duration": 0,
    "start_time": "2022-12-02T21:42:23.703Z"
   },
   {
    "duration": 0,
    "start_time": "2022-12-02T21:42:23.705Z"
   },
   {
    "duration": 0,
    "start_time": "2022-12-02T21:42:23.707Z"
   },
   {
    "duration": 0,
    "start_time": "2022-12-02T21:42:23.708Z"
   },
   {
    "duration": 0,
    "start_time": "2022-12-02T21:42:23.709Z"
   },
   {
    "duration": 0,
    "start_time": "2022-12-02T21:42:23.711Z"
   },
   {
    "duration": 0,
    "start_time": "2022-12-02T21:42:23.712Z"
   },
   {
    "duration": 0,
    "start_time": "2022-12-02T21:42:23.714Z"
   },
   {
    "duration": 0,
    "start_time": "2022-12-02T21:42:23.716Z"
   },
   {
    "duration": 0,
    "start_time": "2022-12-02T21:42:23.717Z"
   },
   {
    "duration": 0,
    "start_time": "2022-12-02T21:42:23.719Z"
   },
   {
    "duration": 0,
    "start_time": "2022-12-02T21:42:23.720Z"
   },
   {
    "duration": 420,
    "start_time": "2022-12-02T21:44:42.253Z"
   },
   {
    "duration": 348,
    "start_time": "2022-12-02T21:44:54.462Z"
   },
   {
    "duration": 483,
    "start_time": "2022-12-02T21:48:09.584Z"
   },
   {
    "duration": 874,
    "start_time": "2022-12-02T21:58:05.790Z"
   },
   {
    "duration": 994,
    "start_time": "2022-12-02T21:58:14.631Z"
   },
   {
    "duration": 283,
    "start_time": "2022-12-02T22:03:13.936Z"
   },
   {
    "duration": 351,
    "start_time": "2022-12-02T22:12:36.304Z"
   },
   {
    "duration": 227,
    "start_time": "2022-12-02T22:12:48.795Z"
   },
   {
    "duration": 207,
    "start_time": "2022-12-02T22:12:57.289Z"
   },
   {
    "duration": 149,
    "start_time": "2022-12-02T22:35:34.403Z"
   },
   {
    "duration": 202,
    "start_time": "2022-12-02T22:45:09.602Z"
   },
   {
    "duration": 169,
    "start_time": "2022-12-02T22:45:38.552Z"
   },
   {
    "duration": 401,
    "start_time": "2022-12-02T22:47:02.374Z"
   },
   {
    "duration": 3,
    "start_time": "2022-12-02T22:54:42.966Z"
   },
   {
    "duration": 9,
    "start_time": "2022-12-02T22:54:50.891Z"
   },
   {
    "duration": 305,
    "start_time": "2022-12-02T22:55:12.209Z"
   },
   {
    "duration": 206,
    "start_time": "2022-12-02T22:58:59.277Z"
   },
   {
    "duration": 358,
    "start_time": "2022-12-02T22:59:03.311Z"
   },
   {
    "duration": 228,
    "start_time": "2022-12-02T22:59:12.488Z"
   },
   {
    "duration": 180,
    "start_time": "2022-12-02T23:00:07.459Z"
   },
   {
    "duration": 316,
    "start_time": "2022-12-02T23:01:08.472Z"
   },
   {
    "duration": 236,
    "start_time": "2022-12-02T23:02:01.831Z"
   },
   {
    "duration": 201,
    "start_time": "2022-12-02T23:03:20.581Z"
   },
   {
    "duration": 68,
    "start_time": "2022-12-02T23:30:15.088Z"
   },
   {
    "duration": 1006,
    "start_time": "2022-12-02T23:31:03.270Z"
   },
   {
    "duration": 3,
    "start_time": "2022-12-02T23:32:47.559Z"
   },
   {
    "duration": 7,
    "start_time": "2022-12-02T23:32:50.763Z"
   },
   {
    "duration": 6,
    "start_time": "2022-12-02T23:32:58.024Z"
   },
   {
    "duration": 6,
    "start_time": "2022-12-02T23:33:00.047Z"
   },
   {
    "duration": 15,
    "start_time": "2022-12-02T23:33:16.787Z"
   },
   {
    "duration": 6,
    "start_time": "2022-12-02T23:33:17.882Z"
   },
   {
    "duration": 7,
    "start_time": "2022-12-02T23:33:21.228Z"
   },
   {
    "duration": 6,
    "start_time": "2022-12-02T23:33:22.539Z"
   },
   {
    "duration": 22,
    "start_time": "2022-12-02T23:34:16.196Z"
   },
   {
    "duration": 6,
    "start_time": "2022-12-02T23:34:16.847Z"
   },
   {
    "duration": 7,
    "start_time": "2022-12-02T23:34:18.163Z"
   },
   {
    "duration": 7,
    "start_time": "2022-12-02T23:34:19.578Z"
   },
   {
    "duration": 6,
    "start_time": "2022-12-02T23:34:20.263Z"
   },
   {
    "duration": 115,
    "start_time": "2022-12-03T00:12:51.396Z"
   },
   {
    "duration": 16,
    "start_time": "2022-12-03T00:13:00.658Z"
   },
   {
    "duration": 20,
    "start_time": "2022-12-03T00:13:13.878Z"
   },
   {
    "duration": 124,
    "start_time": "2022-12-03T00:15:16.010Z"
   },
   {
    "duration": 138,
    "start_time": "2022-12-03T00:20:33.090Z"
   },
   {
    "duration": 15,
    "start_time": "2022-12-03T00:22:50.768Z"
   },
   {
    "duration": 61,
    "start_time": "2022-12-03T00:22:58.372Z"
   },
   {
    "duration": 15,
    "start_time": "2022-12-03T00:22:59.272Z"
   },
   {
    "duration": 4,
    "start_time": "2022-12-03T00:23:31.165Z"
   },
   {
    "duration": 14,
    "start_time": "2022-12-03T00:23:46.689Z"
   },
   {
    "duration": 17,
    "start_time": "2022-12-03T00:24:07.610Z"
   },
   {
    "duration": 55,
    "start_time": "2022-12-03T00:24:55.900Z"
   },
   {
    "duration": 44,
    "start_time": "2022-12-03T00:26:10.493Z"
   },
   {
    "duration": 9,
    "start_time": "2022-12-03T00:27:52.463Z"
   },
   {
    "duration": 9,
    "start_time": "2022-12-03T00:28:13.150Z"
   },
   {
    "duration": 10,
    "start_time": "2022-12-03T00:28:24.883Z"
   },
   {
    "duration": 13,
    "start_time": "2022-12-03T00:28:42.161Z"
   },
   {
    "duration": 104,
    "start_time": "2022-12-03T00:30:04.611Z"
   },
   {
    "duration": 47,
    "start_time": "2022-12-03T00:30:30.118Z"
   },
   {
    "duration": 76,
    "start_time": "2022-12-03T00:35:52.625Z"
   },
   {
    "duration": 1481,
    "start_time": "2022-12-03T00:36:46.165Z"
   },
   {
    "duration": 47,
    "start_time": "2022-12-03T00:36:47.648Z"
   },
   {
    "duration": 12,
    "start_time": "2022-12-03T00:36:47.697Z"
   },
   {
    "duration": 31,
    "start_time": "2022-12-03T00:36:47.711Z"
   },
   {
    "duration": 22,
    "start_time": "2022-12-03T00:36:47.744Z"
   },
   {
    "duration": 11,
    "start_time": "2022-12-03T00:36:47.768Z"
   },
   {
    "duration": 12,
    "start_time": "2022-12-03T00:36:47.781Z"
   },
   {
    "duration": 12,
    "start_time": "2022-12-03T00:36:47.794Z"
   },
   {
    "duration": 13,
    "start_time": "2022-12-03T00:36:47.808Z"
   },
   {
    "duration": 7,
    "start_time": "2022-12-03T00:36:47.850Z"
   },
   {
    "duration": 10,
    "start_time": "2022-12-03T00:36:47.859Z"
   },
   {
    "duration": 14,
    "start_time": "2022-12-03T00:36:47.871Z"
   },
   {
    "duration": 9,
    "start_time": "2022-12-03T00:36:47.887Z"
   },
   {
    "duration": 1016,
    "start_time": "2022-12-03T00:36:47.897Z"
   },
   {
    "duration": 277,
    "start_time": "2022-12-03T00:36:48.915Z"
   },
   {
    "duration": 6,
    "start_time": "2022-12-03T00:36:49.194Z"
   },
   {
    "duration": 14,
    "start_time": "2022-12-03T00:36:49.202Z"
   },
   {
    "duration": 14,
    "start_time": "2022-12-03T00:36:49.218Z"
   },
   {
    "duration": 24,
    "start_time": "2022-12-03T00:36:49.234Z"
   },
   {
    "duration": 5,
    "start_time": "2022-12-03T00:36:49.260Z"
   },
   {
    "duration": 29,
    "start_time": "2022-12-03T00:36:49.268Z"
   },
   {
    "duration": 14,
    "start_time": "2022-12-03T00:36:49.299Z"
   },
   {
    "duration": 43,
    "start_time": "2022-12-03T00:36:49.315Z"
   },
   {
    "duration": 6,
    "start_time": "2022-12-03T00:36:49.359Z"
   },
   {
    "duration": 8,
    "start_time": "2022-12-03T00:36:49.366Z"
   },
   {
    "duration": 11,
    "start_time": "2022-12-03T00:36:49.376Z"
   },
   {
    "duration": 2,
    "start_time": "2022-12-03T00:36:49.389Z"
   },
   {
    "duration": 4,
    "start_time": "2022-12-03T00:36:49.396Z"
   },
   {
    "duration": 2975,
    "start_time": "2022-12-03T00:36:49.401Z"
   },
   {
    "duration": 4,
    "start_time": "2022-12-03T00:36:52.378Z"
   },
   {
    "duration": 7,
    "start_time": "2022-12-03T00:36:52.384Z"
   },
   {
    "duration": 36,
    "start_time": "2022-12-03T00:36:52.393Z"
   },
   {
    "duration": 21,
    "start_time": "2022-12-03T00:36:52.430Z"
   },
   {
    "duration": 10,
    "start_time": "2022-12-03T00:36:52.452Z"
   },
   {
    "duration": 1323,
    "start_time": "2022-12-03T00:36:52.464Z"
   },
   {
    "duration": 25,
    "start_time": "2022-12-03T00:36:53.790Z"
   },
   {
    "duration": 71,
    "start_time": "2022-12-03T00:36:53.817Z"
   },
   {
    "duration": 17,
    "start_time": "2022-12-03T00:36:53.890Z"
   },
   {
    "duration": 180,
    "start_time": "2022-12-03T00:36:53.909Z"
   },
   {
    "duration": 152,
    "start_time": "2022-12-03T00:36:54.091Z"
   },
   {
    "duration": 400,
    "start_time": "2022-12-03T00:36:54.250Z"
   },
   {
    "duration": 500,
    "start_time": "2022-12-03T00:36:54.652Z"
   },
   {
    "duration": 405,
    "start_time": "2022-12-03T00:36:55.153Z"
   },
   {
    "duration": 301,
    "start_time": "2022-12-03T00:36:55.560Z"
   },
   {
    "duration": 4,
    "start_time": "2022-12-03T00:36:55.863Z"
   },
   {
    "duration": 116,
    "start_time": "2022-12-03T00:36:55.868Z"
   },
   {
    "duration": 7,
    "start_time": "2022-12-03T00:36:55.985Z"
   },
   {
    "duration": 5,
    "start_time": "2022-12-03T00:36:55.993Z"
   },
   {
    "duration": 13,
    "start_time": "2022-12-03T00:36:55.999Z"
   },
   {
    "duration": 92,
    "start_time": "2022-12-03T00:36:56.013Z"
   },
   {
    "duration": 0,
    "start_time": "2022-12-03T00:36:56.107Z"
   },
   {
    "duration": 0,
    "start_time": "2022-12-03T00:36:56.108Z"
   },
   {
    "duration": 0,
    "start_time": "2022-12-03T00:36:56.110Z"
   },
   {
    "duration": 0,
    "start_time": "2022-12-03T00:36:56.111Z"
   },
   {
    "duration": 0,
    "start_time": "2022-12-03T00:36:56.112Z"
   },
   {
    "duration": 0,
    "start_time": "2022-12-03T00:36:56.113Z"
   },
   {
    "duration": 0,
    "start_time": "2022-12-03T00:36:56.114Z"
   },
   {
    "duration": 0,
    "start_time": "2022-12-03T00:36:56.116Z"
   },
   {
    "duration": 0,
    "start_time": "2022-12-03T00:36:56.117Z"
   },
   {
    "duration": 0,
    "start_time": "2022-12-03T00:36:56.119Z"
   },
   {
    "duration": 0,
    "start_time": "2022-12-03T00:36:56.120Z"
   },
   {
    "duration": 0,
    "start_time": "2022-12-03T00:36:56.121Z"
   },
   {
    "duration": 0,
    "start_time": "2022-12-03T00:36:56.122Z"
   },
   {
    "duration": 0,
    "start_time": "2022-12-03T00:36:56.123Z"
   },
   {
    "duration": 0,
    "start_time": "2022-12-03T00:36:56.124Z"
   },
   {
    "duration": 0,
    "start_time": "2022-12-03T00:36:56.125Z"
   },
   {
    "duration": 0,
    "start_time": "2022-12-03T00:36:56.126Z"
   },
   {
    "duration": 0,
    "start_time": "2022-12-03T00:36:56.127Z"
   },
   {
    "duration": 0,
    "start_time": "2022-12-03T00:36:56.128Z"
   },
   {
    "duration": 0,
    "start_time": "2022-12-03T00:36:56.129Z"
   },
   {
    "duration": 0,
    "start_time": "2022-12-03T00:36:56.130Z"
   },
   {
    "duration": 0,
    "start_time": "2022-12-03T00:36:56.131Z"
   },
   {
    "duration": 0,
    "start_time": "2022-12-03T00:36:56.132Z"
   },
   {
    "duration": 0,
    "start_time": "2022-12-03T00:36:56.133Z"
   },
   {
    "duration": 0,
    "start_time": "2022-12-03T00:36:56.134Z"
   },
   {
    "duration": 0,
    "start_time": "2022-12-03T00:36:56.136Z"
   },
   {
    "duration": 0,
    "start_time": "2022-12-03T00:36:56.137Z"
   },
   {
    "duration": 0,
    "start_time": "2022-12-03T00:36:56.138Z"
   },
   {
    "duration": 0,
    "start_time": "2022-12-03T00:36:56.139Z"
   },
   {
    "duration": 0,
    "start_time": "2022-12-03T00:36:56.140Z"
   },
   {
    "duration": 0,
    "start_time": "2022-12-03T00:36:56.142Z"
   },
   {
    "duration": 0,
    "start_time": "2022-12-03T00:36:56.143Z"
   },
   {
    "duration": 0,
    "start_time": "2022-12-03T00:36:56.144Z"
   },
   {
    "duration": 0,
    "start_time": "2022-12-03T00:36:56.155Z"
   },
   {
    "duration": 0,
    "start_time": "2022-12-03T00:36:56.157Z"
   },
   {
    "duration": 0,
    "start_time": "2022-12-03T00:36:56.158Z"
   },
   {
    "duration": 0,
    "start_time": "2022-12-03T00:36:56.162Z"
   },
   {
    "duration": 0,
    "start_time": "2022-12-03T00:36:56.163Z"
   },
   {
    "duration": 1,
    "start_time": "2022-12-03T00:36:56.164Z"
   },
   {
    "duration": 0,
    "start_time": "2022-12-03T00:36:56.166Z"
   },
   {
    "duration": 0,
    "start_time": "2022-12-03T00:36:56.166Z"
   },
   {
    "duration": 0,
    "start_time": "2022-12-03T00:36:56.168Z"
   },
   {
    "duration": 0,
    "start_time": "2022-12-03T00:36:56.169Z"
   },
   {
    "duration": 0,
    "start_time": "2022-12-03T00:36:56.171Z"
   },
   {
    "duration": 0,
    "start_time": "2022-12-03T00:36:56.172Z"
   },
   {
    "duration": 0,
    "start_time": "2022-12-03T00:36:56.173Z"
   },
   {
    "duration": 0,
    "start_time": "2022-12-03T00:36:56.175Z"
   },
   {
    "duration": 0,
    "start_time": "2022-12-03T00:36:56.176Z"
   },
   {
    "duration": 0,
    "start_time": "2022-12-03T00:36:56.177Z"
   },
   {
    "duration": 0,
    "start_time": "2022-12-03T00:36:56.178Z"
   },
   {
    "duration": 0,
    "start_time": "2022-12-03T00:36:56.179Z"
   },
   {
    "duration": 0,
    "start_time": "2022-12-03T00:36:56.180Z"
   },
   {
    "duration": 0,
    "start_time": "2022-12-03T00:36:56.181Z"
   },
   {
    "duration": 0,
    "start_time": "2022-12-03T00:36:56.182Z"
   }
  ],
  "kernelspec": {
   "display_name": "Python 3 (ipykernel)",
   "language": "python",
   "name": "python3"
  },
  "language_info": {
   "codemirror_mode": {
    "name": "ipython",
    "version": 3
   },
   "file_extension": ".py",
   "mimetype": "text/x-python",
   "name": "python",
   "nbconvert_exporter": "python",
   "pygments_lexer": "ipython3",
   "version": "3.9.5"
  },
  "toc": {
   "base_numbering": 1,
   "nav_menu": {},
   "number_sections": true,
   "sideBar": true,
   "skip_h1_title": true,
   "title_cell": "Table of Contents",
   "title_sidebar": "Contents",
   "toc_cell": false,
   "toc_position": {},
   "toc_section_display": true,
   "toc_window_display": false
  }
 },
 "nbformat": 4,
 "nbformat_minor": 2
}
